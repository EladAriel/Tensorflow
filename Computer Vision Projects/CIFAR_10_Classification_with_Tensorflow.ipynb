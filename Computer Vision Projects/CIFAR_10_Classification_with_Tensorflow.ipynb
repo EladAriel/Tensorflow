{
  "nbformat": 4,
  "nbformat_minor": 0,
  "metadata": {
    "colab": {
      "provenance": [],
      "collapsed_sections": [],
      "toc_visible": true,
      "mount_file_id": "1pwp6p1qk6QtXvR1O_a086hWPvvvuAUf5",
      "authorship_tag": "ABX9TyN54hRakKtwDu94kphtaQyt",
      "include_colab_link": true
    },
    "kernelspec": {
      "name": "python3",
      "display_name": "Python 3"
    },
    "language_info": {
      "name": "python"
    },
    "accelerator": "GPU",
    "widgets": {
      "application/vnd.jupyter.widget-state+json": {
        "dd816b53e99747f5af7c952e87783d4a": {
          "model_module": "@jupyter-widgets/controls",
          "model_name": "HBoxModel",
          "model_module_version": "1.5.0",
          "state": {
            "_dom_classes": [],
            "_model_module": "@jupyter-widgets/controls",
            "_model_module_version": "1.5.0",
            "_model_name": "HBoxModel",
            "_view_count": null,
            "_view_module": "@jupyter-widgets/controls",
            "_view_module_version": "1.5.0",
            "_view_name": "HBoxView",
            "box_style": "",
            "children": [
              "IPY_MODEL_30c1d0c9a185404484ace9d4eaa3d231",
              "IPY_MODEL_48633886ede34026a511df4e10529d76",
              "IPY_MODEL_b5852cadb76b4fb1ae72a2074ae41d97"
            ],
            "layout": "IPY_MODEL_0b9ef5f4bae7403db4b021eb6154cc07"
          }
        },
        "30c1d0c9a185404484ace9d4eaa3d231": {
          "model_module": "@jupyter-widgets/controls",
          "model_name": "HTMLModel",
          "model_module_version": "1.5.0",
          "state": {
            "_dom_classes": [],
            "_model_module": "@jupyter-widgets/controls",
            "_model_module_version": "1.5.0",
            "_model_name": "HTMLModel",
            "_view_count": null,
            "_view_module": "@jupyter-widgets/controls",
            "_view_module_version": "1.5.0",
            "_view_name": "HTMLView",
            "description": "",
            "description_tooltip": null,
            "layout": "IPY_MODEL_55611865deec4363a100ad9e6024c073",
            "placeholder": "​",
            "style": "IPY_MODEL_7145b10f2964411e802ede05c2afd2d4",
            "value": "Dl Completed...: 100%"
          }
        },
        "48633886ede34026a511df4e10529d76": {
          "model_module": "@jupyter-widgets/controls",
          "model_name": "FloatProgressModel",
          "model_module_version": "1.5.0",
          "state": {
            "_dom_classes": [],
            "_model_module": "@jupyter-widgets/controls",
            "_model_module_version": "1.5.0",
            "_model_name": "FloatProgressModel",
            "_view_count": null,
            "_view_module": "@jupyter-widgets/controls",
            "_view_module_version": "1.5.0",
            "_view_name": "ProgressView",
            "bar_style": "success",
            "description": "",
            "description_tooltip": null,
            "layout": "IPY_MODEL_6d3473aa6472488ba263495d43a495f1",
            "max": 1,
            "min": 0,
            "orientation": "horizontal",
            "style": "IPY_MODEL_f1bed869ced64d9a839070e917fc633a",
            "value": 1
          }
        },
        "b5852cadb76b4fb1ae72a2074ae41d97": {
          "model_module": "@jupyter-widgets/controls",
          "model_name": "HTMLModel",
          "model_module_version": "1.5.0",
          "state": {
            "_dom_classes": [],
            "_model_module": "@jupyter-widgets/controls",
            "_model_module_version": "1.5.0",
            "_model_name": "HTMLModel",
            "_view_count": null,
            "_view_module": "@jupyter-widgets/controls",
            "_view_module_version": "1.5.0",
            "_view_name": "HTMLView",
            "description": "",
            "description_tooltip": null,
            "layout": "IPY_MODEL_4193038dd96b4490bf389a00257914b7",
            "placeholder": "​",
            "style": "IPY_MODEL_92b68dc2de844ef794db51764c13587e",
            "value": " 1/1 [00:06&lt;00:00,  5.05s/ url]"
          }
        },
        "0b9ef5f4bae7403db4b021eb6154cc07": {
          "model_module": "@jupyter-widgets/base",
          "model_name": "LayoutModel",
          "model_module_version": "1.2.0",
          "state": {
            "_model_module": "@jupyter-widgets/base",
            "_model_module_version": "1.2.0",
            "_model_name": "LayoutModel",
            "_view_count": null,
            "_view_module": "@jupyter-widgets/base",
            "_view_module_version": "1.2.0",
            "_view_name": "LayoutView",
            "align_content": null,
            "align_items": null,
            "align_self": null,
            "border": null,
            "bottom": null,
            "display": null,
            "flex": null,
            "flex_flow": null,
            "grid_area": null,
            "grid_auto_columns": null,
            "grid_auto_flow": null,
            "grid_auto_rows": null,
            "grid_column": null,
            "grid_gap": null,
            "grid_row": null,
            "grid_template_areas": null,
            "grid_template_columns": null,
            "grid_template_rows": null,
            "height": null,
            "justify_content": null,
            "justify_items": null,
            "left": null,
            "margin": null,
            "max_height": null,
            "max_width": null,
            "min_height": null,
            "min_width": null,
            "object_fit": null,
            "object_position": null,
            "order": null,
            "overflow": null,
            "overflow_x": null,
            "overflow_y": null,
            "padding": null,
            "right": null,
            "top": null,
            "visibility": null,
            "width": null
          }
        },
        "55611865deec4363a100ad9e6024c073": {
          "model_module": "@jupyter-widgets/base",
          "model_name": "LayoutModel",
          "model_module_version": "1.2.0",
          "state": {
            "_model_module": "@jupyter-widgets/base",
            "_model_module_version": "1.2.0",
            "_model_name": "LayoutModel",
            "_view_count": null,
            "_view_module": "@jupyter-widgets/base",
            "_view_module_version": "1.2.0",
            "_view_name": "LayoutView",
            "align_content": null,
            "align_items": null,
            "align_self": null,
            "border": null,
            "bottom": null,
            "display": null,
            "flex": null,
            "flex_flow": null,
            "grid_area": null,
            "grid_auto_columns": null,
            "grid_auto_flow": null,
            "grid_auto_rows": null,
            "grid_column": null,
            "grid_gap": null,
            "grid_row": null,
            "grid_template_areas": null,
            "grid_template_columns": null,
            "grid_template_rows": null,
            "height": null,
            "justify_content": null,
            "justify_items": null,
            "left": null,
            "margin": null,
            "max_height": null,
            "max_width": null,
            "min_height": null,
            "min_width": null,
            "object_fit": null,
            "object_position": null,
            "order": null,
            "overflow": null,
            "overflow_x": null,
            "overflow_y": null,
            "padding": null,
            "right": null,
            "top": null,
            "visibility": null,
            "width": null
          }
        },
        "7145b10f2964411e802ede05c2afd2d4": {
          "model_module": "@jupyter-widgets/controls",
          "model_name": "DescriptionStyleModel",
          "model_module_version": "1.5.0",
          "state": {
            "_model_module": "@jupyter-widgets/controls",
            "_model_module_version": "1.5.0",
            "_model_name": "DescriptionStyleModel",
            "_view_count": null,
            "_view_module": "@jupyter-widgets/base",
            "_view_module_version": "1.2.0",
            "_view_name": "StyleView",
            "description_width": ""
          }
        },
        "6d3473aa6472488ba263495d43a495f1": {
          "model_module": "@jupyter-widgets/base",
          "model_name": "LayoutModel",
          "model_module_version": "1.2.0",
          "state": {
            "_model_module": "@jupyter-widgets/base",
            "_model_module_version": "1.2.0",
            "_model_name": "LayoutModel",
            "_view_count": null,
            "_view_module": "@jupyter-widgets/base",
            "_view_module_version": "1.2.0",
            "_view_name": "LayoutView",
            "align_content": null,
            "align_items": null,
            "align_self": null,
            "border": null,
            "bottom": null,
            "display": null,
            "flex": null,
            "flex_flow": null,
            "grid_area": null,
            "grid_auto_columns": null,
            "grid_auto_flow": null,
            "grid_auto_rows": null,
            "grid_column": null,
            "grid_gap": null,
            "grid_row": null,
            "grid_template_areas": null,
            "grid_template_columns": null,
            "grid_template_rows": null,
            "height": null,
            "justify_content": null,
            "justify_items": null,
            "left": null,
            "margin": null,
            "max_height": null,
            "max_width": null,
            "min_height": null,
            "min_width": null,
            "object_fit": null,
            "object_position": null,
            "order": null,
            "overflow": null,
            "overflow_x": null,
            "overflow_y": null,
            "padding": null,
            "right": null,
            "top": null,
            "visibility": null,
            "width": "20px"
          }
        },
        "f1bed869ced64d9a839070e917fc633a": {
          "model_module": "@jupyter-widgets/controls",
          "model_name": "ProgressStyleModel",
          "model_module_version": "1.5.0",
          "state": {
            "_model_module": "@jupyter-widgets/controls",
            "_model_module_version": "1.5.0",
            "_model_name": "ProgressStyleModel",
            "_view_count": null,
            "_view_module": "@jupyter-widgets/base",
            "_view_module_version": "1.2.0",
            "_view_name": "StyleView",
            "bar_color": null,
            "description_width": ""
          }
        },
        "4193038dd96b4490bf389a00257914b7": {
          "model_module": "@jupyter-widgets/base",
          "model_name": "LayoutModel",
          "model_module_version": "1.2.0",
          "state": {
            "_model_module": "@jupyter-widgets/base",
            "_model_module_version": "1.2.0",
            "_model_name": "LayoutModel",
            "_view_count": null,
            "_view_module": "@jupyter-widgets/base",
            "_view_module_version": "1.2.0",
            "_view_name": "LayoutView",
            "align_content": null,
            "align_items": null,
            "align_self": null,
            "border": null,
            "bottom": null,
            "display": null,
            "flex": null,
            "flex_flow": null,
            "grid_area": null,
            "grid_auto_columns": null,
            "grid_auto_flow": null,
            "grid_auto_rows": null,
            "grid_column": null,
            "grid_gap": null,
            "grid_row": null,
            "grid_template_areas": null,
            "grid_template_columns": null,
            "grid_template_rows": null,
            "height": null,
            "justify_content": null,
            "justify_items": null,
            "left": null,
            "margin": null,
            "max_height": null,
            "max_width": null,
            "min_height": null,
            "min_width": null,
            "object_fit": null,
            "object_position": null,
            "order": null,
            "overflow": null,
            "overflow_x": null,
            "overflow_y": null,
            "padding": null,
            "right": null,
            "top": null,
            "visibility": null,
            "width": null
          }
        },
        "92b68dc2de844ef794db51764c13587e": {
          "model_module": "@jupyter-widgets/controls",
          "model_name": "DescriptionStyleModel",
          "model_module_version": "1.5.0",
          "state": {
            "_model_module": "@jupyter-widgets/controls",
            "_model_module_version": "1.5.0",
            "_model_name": "DescriptionStyleModel",
            "_view_count": null,
            "_view_module": "@jupyter-widgets/base",
            "_view_module_version": "1.2.0",
            "_view_name": "StyleView",
            "description_width": ""
          }
        },
        "4ac8d842ac29484e947febc5d91be4ff": {
          "model_module": "@jupyter-widgets/controls",
          "model_name": "HBoxModel",
          "model_module_version": "1.5.0",
          "state": {
            "_dom_classes": [],
            "_model_module": "@jupyter-widgets/controls",
            "_model_module_version": "1.5.0",
            "_model_name": "HBoxModel",
            "_view_count": null,
            "_view_module": "@jupyter-widgets/controls",
            "_view_module_version": "1.5.0",
            "_view_name": "HBoxView",
            "box_style": "",
            "children": [
              "IPY_MODEL_a207373ccf7c4c35b24e010dd8208e28",
              "IPY_MODEL_91c6fc75ea0c4c459ab67244c967bdfe",
              "IPY_MODEL_98081ea437f645b8b0c4aa544a0bb8e0"
            ],
            "layout": "IPY_MODEL_d58fe23ebd1141ad96c6a491902da426"
          }
        },
        "a207373ccf7c4c35b24e010dd8208e28": {
          "model_module": "@jupyter-widgets/controls",
          "model_name": "HTMLModel",
          "model_module_version": "1.5.0",
          "state": {
            "_dom_classes": [],
            "_model_module": "@jupyter-widgets/controls",
            "_model_module_version": "1.5.0",
            "_model_name": "HTMLModel",
            "_view_count": null,
            "_view_module": "@jupyter-widgets/controls",
            "_view_module_version": "1.5.0",
            "_view_name": "HTMLView",
            "description": "",
            "description_tooltip": null,
            "layout": "IPY_MODEL_659727b267c640f79ba6d53baa0e899f",
            "placeholder": "​",
            "style": "IPY_MODEL_68a8c13c9749496b99a489434701a0b3",
            "value": "Dl Size...: 100%"
          }
        },
        "91c6fc75ea0c4c459ab67244c967bdfe": {
          "model_module": "@jupyter-widgets/controls",
          "model_name": "FloatProgressModel",
          "model_module_version": "1.5.0",
          "state": {
            "_dom_classes": [],
            "_model_module": "@jupyter-widgets/controls",
            "_model_module_version": "1.5.0",
            "_model_name": "FloatProgressModel",
            "_view_count": null,
            "_view_module": "@jupyter-widgets/controls",
            "_view_module_version": "1.5.0",
            "_view_name": "ProgressView",
            "bar_style": "success",
            "description": "",
            "description_tooltip": null,
            "layout": "IPY_MODEL_9cac6091ca72453a812d64a5501744f9",
            "max": 1,
            "min": 0,
            "orientation": "horizontal",
            "style": "IPY_MODEL_54e84021366e41c4856c709e1a900f45",
            "value": 1
          }
        },
        "98081ea437f645b8b0c4aa544a0bb8e0": {
          "model_module": "@jupyter-widgets/controls",
          "model_name": "HTMLModel",
          "model_module_version": "1.5.0",
          "state": {
            "_dom_classes": [],
            "_model_module": "@jupyter-widgets/controls",
            "_model_module_version": "1.5.0",
            "_model_name": "HTMLModel",
            "_view_count": null,
            "_view_module": "@jupyter-widgets/controls",
            "_view_module_version": "1.5.0",
            "_view_name": "HTMLView",
            "description": "",
            "description_tooltip": null,
            "layout": "IPY_MODEL_3348ca6d3d4f447cb7008c7db6c0061a",
            "placeholder": "​",
            "style": "IPY_MODEL_eeb11e67c56c477b86931a7c9057eb5d",
            "value": " 162/162 [00:06&lt;00:00, 48.02 MiB/s]"
          }
        },
        "d58fe23ebd1141ad96c6a491902da426": {
          "model_module": "@jupyter-widgets/base",
          "model_name": "LayoutModel",
          "model_module_version": "1.2.0",
          "state": {
            "_model_module": "@jupyter-widgets/base",
            "_model_module_version": "1.2.0",
            "_model_name": "LayoutModel",
            "_view_count": null,
            "_view_module": "@jupyter-widgets/base",
            "_view_module_version": "1.2.0",
            "_view_name": "LayoutView",
            "align_content": null,
            "align_items": null,
            "align_self": null,
            "border": null,
            "bottom": null,
            "display": null,
            "flex": null,
            "flex_flow": null,
            "grid_area": null,
            "grid_auto_columns": null,
            "grid_auto_flow": null,
            "grid_auto_rows": null,
            "grid_column": null,
            "grid_gap": null,
            "grid_row": null,
            "grid_template_areas": null,
            "grid_template_columns": null,
            "grid_template_rows": null,
            "height": null,
            "justify_content": null,
            "justify_items": null,
            "left": null,
            "margin": null,
            "max_height": null,
            "max_width": null,
            "min_height": null,
            "min_width": null,
            "object_fit": null,
            "object_position": null,
            "order": null,
            "overflow": null,
            "overflow_x": null,
            "overflow_y": null,
            "padding": null,
            "right": null,
            "top": null,
            "visibility": null,
            "width": null
          }
        },
        "659727b267c640f79ba6d53baa0e899f": {
          "model_module": "@jupyter-widgets/base",
          "model_name": "LayoutModel",
          "model_module_version": "1.2.0",
          "state": {
            "_model_module": "@jupyter-widgets/base",
            "_model_module_version": "1.2.0",
            "_model_name": "LayoutModel",
            "_view_count": null,
            "_view_module": "@jupyter-widgets/base",
            "_view_module_version": "1.2.0",
            "_view_name": "LayoutView",
            "align_content": null,
            "align_items": null,
            "align_self": null,
            "border": null,
            "bottom": null,
            "display": null,
            "flex": null,
            "flex_flow": null,
            "grid_area": null,
            "grid_auto_columns": null,
            "grid_auto_flow": null,
            "grid_auto_rows": null,
            "grid_column": null,
            "grid_gap": null,
            "grid_row": null,
            "grid_template_areas": null,
            "grid_template_columns": null,
            "grid_template_rows": null,
            "height": null,
            "justify_content": null,
            "justify_items": null,
            "left": null,
            "margin": null,
            "max_height": null,
            "max_width": null,
            "min_height": null,
            "min_width": null,
            "object_fit": null,
            "object_position": null,
            "order": null,
            "overflow": null,
            "overflow_x": null,
            "overflow_y": null,
            "padding": null,
            "right": null,
            "top": null,
            "visibility": null,
            "width": null
          }
        },
        "68a8c13c9749496b99a489434701a0b3": {
          "model_module": "@jupyter-widgets/controls",
          "model_name": "DescriptionStyleModel",
          "model_module_version": "1.5.0",
          "state": {
            "_model_module": "@jupyter-widgets/controls",
            "_model_module_version": "1.5.0",
            "_model_name": "DescriptionStyleModel",
            "_view_count": null,
            "_view_module": "@jupyter-widgets/base",
            "_view_module_version": "1.2.0",
            "_view_name": "StyleView",
            "description_width": ""
          }
        },
        "9cac6091ca72453a812d64a5501744f9": {
          "model_module": "@jupyter-widgets/base",
          "model_name": "LayoutModel",
          "model_module_version": "1.2.0",
          "state": {
            "_model_module": "@jupyter-widgets/base",
            "_model_module_version": "1.2.0",
            "_model_name": "LayoutModel",
            "_view_count": null,
            "_view_module": "@jupyter-widgets/base",
            "_view_module_version": "1.2.0",
            "_view_name": "LayoutView",
            "align_content": null,
            "align_items": null,
            "align_self": null,
            "border": null,
            "bottom": null,
            "display": null,
            "flex": null,
            "flex_flow": null,
            "grid_area": null,
            "grid_auto_columns": null,
            "grid_auto_flow": null,
            "grid_auto_rows": null,
            "grid_column": null,
            "grid_gap": null,
            "grid_row": null,
            "grid_template_areas": null,
            "grid_template_columns": null,
            "grid_template_rows": null,
            "height": null,
            "justify_content": null,
            "justify_items": null,
            "left": null,
            "margin": null,
            "max_height": null,
            "max_width": null,
            "min_height": null,
            "min_width": null,
            "object_fit": null,
            "object_position": null,
            "order": null,
            "overflow": null,
            "overflow_x": null,
            "overflow_y": null,
            "padding": null,
            "right": null,
            "top": null,
            "visibility": null,
            "width": "20px"
          }
        },
        "54e84021366e41c4856c709e1a900f45": {
          "model_module": "@jupyter-widgets/controls",
          "model_name": "ProgressStyleModel",
          "model_module_version": "1.5.0",
          "state": {
            "_model_module": "@jupyter-widgets/controls",
            "_model_module_version": "1.5.0",
            "_model_name": "ProgressStyleModel",
            "_view_count": null,
            "_view_module": "@jupyter-widgets/base",
            "_view_module_version": "1.2.0",
            "_view_name": "StyleView",
            "bar_color": null,
            "description_width": ""
          }
        },
        "3348ca6d3d4f447cb7008c7db6c0061a": {
          "model_module": "@jupyter-widgets/base",
          "model_name": "LayoutModel",
          "model_module_version": "1.2.0",
          "state": {
            "_model_module": "@jupyter-widgets/base",
            "_model_module_version": "1.2.0",
            "_model_name": "LayoutModel",
            "_view_count": null,
            "_view_module": "@jupyter-widgets/base",
            "_view_module_version": "1.2.0",
            "_view_name": "LayoutView",
            "align_content": null,
            "align_items": null,
            "align_self": null,
            "border": null,
            "bottom": null,
            "display": null,
            "flex": null,
            "flex_flow": null,
            "grid_area": null,
            "grid_auto_columns": null,
            "grid_auto_flow": null,
            "grid_auto_rows": null,
            "grid_column": null,
            "grid_gap": null,
            "grid_row": null,
            "grid_template_areas": null,
            "grid_template_columns": null,
            "grid_template_rows": null,
            "height": null,
            "justify_content": null,
            "justify_items": null,
            "left": null,
            "margin": null,
            "max_height": null,
            "max_width": null,
            "min_height": null,
            "min_width": null,
            "object_fit": null,
            "object_position": null,
            "order": null,
            "overflow": null,
            "overflow_x": null,
            "overflow_y": null,
            "padding": null,
            "right": null,
            "top": null,
            "visibility": null,
            "width": null
          }
        },
        "eeb11e67c56c477b86931a7c9057eb5d": {
          "model_module": "@jupyter-widgets/controls",
          "model_name": "DescriptionStyleModel",
          "model_module_version": "1.5.0",
          "state": {
            "_model_module": "@jupyter-widgets/controls",
            "_model_module_version": "1.5.0",
            "_model_name": "DescriptionStyleModel",
            "_view_count": null,
            "_view_module": "@jupyter-widgets/base",
            "_view_module_version": "1.2.0",
            "_view_name": "StyleView",
            "description_width": ""
          }
        },
        "3823641ec13740029d77a672965e3946": {
          "model_module": "@jupyter-widgets/controls",
          "model_name": "HBoxModel",
          "model_module_version": "1.5.0",
          "state": {
            "_dom_classes": [],
            "_model_module": "@jupyter-widgets/controls",
            "_model_module_version": "1.5.0",
            "_model_name": "HBoxModel",
            "_view_count": null,
            "_view_module": "@jupyter-widgets/controls",
            "_view_module_version": "1.5.0",
            "_view_name": "HBoxView",
            "box_style": "",
            "children": [
              "IPY_MODEL_01c52745a713445c9c7dfa929c99877d",
              "IPY_MODEL_024addcd823a4f8392f3c7fe9262860e",
              "IPY_MODEL_eccde5a813e54783bb7fd42e39043968"
            ],
            "layout": "IPY_MODEL_bf36f9335e0f47bb9301fd4740c05a73"
          }
        },
        "01c52745a713445c9c7dfa929c99877d": {
          "model_module": "@jupyter-widgets/controls",
          "model_name": "HTMLModel",
          "model_module_version": "1.5.0",
          "state": {
            "_dom_classes": [],
            "_model_module": "@jupyter-widgets/controls",
            "_model_module_version": "1.5.0",
            "_model_name": "HTMLModel",
            "_view_count": null,
            "_view_module": "@jupyter-widgets/controls",
            "_view_module_version": "1.5.0",
            "_view_name": "HTMLView",
            "description": "",
            "description_tooltip": null,
            "layout": "IPY_MODEL_639a183c19ee44f8a543b890913008d8",
            "placeholder": "​",
            "style": "IPY_MODEL_bf5c099aaddc40e3bde098e502eb8671",
            "value": "Extraction completed...: 100%"
          }
        },
        "024addcd823a4f8392f3c7fe9262860e": {
          "model_module": "@jupyter-widgets/controls",
          "model_name": "FloatProgressModel",
          "model_module_version": "1.5.0",
          "state": {
            "_dom_classes": [],
            "_model_module": "@jupyter-widgets/controls",
            "_model_module_version": "1.5.0",
            "_model_name": "FloatProgressModel",
            "_view_count": null,
            "_view_module": "@jupyter-widgets/controls",
            "_view_module_version": "1.5.0",
            "_view_name": "ProgressView",
            "bar_style": "success",
            "description": "",
            "description_tooltip": null,
            "layout": "IPY_MODEL_b2536a41961f4dbb8de9292683ea5750",
            "max": 1,
            "min": 0,
            "orientation": "horizontal",
            "style": "IPY_MODEL_95df33de0410483bb526bff07c2d3a86",
            "value": 1
          }
        },
        "eccde5a813e54783bb7fd42e39043968": {
          "model_module": "@jupyter-widgets/controls",
          "model_name": "HTMLModel",
          "model_module_version": "1.5.0",
          "state": {
            "_dom_classes": [],
            "_model_module": "@jupyter-widgets/controls",
            "_model_module_version": "1.5.0",
            "_model_name": "HTMLModel",
            "_view_count": null,
            "_view_module": "@jupyter-widgets/controls",
            "_view_module_version": "1.5.0",
            "_view_name": "HTMLView",
            "description": "",
            "description_tooltip": null,
            "layout": "IPY_MODEL_3dd7680b6c8c40d082ee0f2aad75d940",
            "placeholder": "​",
            "style": "IPY_MODEL_64f3dbdf12a5472888d27f9f549b5c36",
            "value": " 1/1 [00:06&lt;00:00,  6.83s/ file]"
          }
        },
        "bf36f9335e0f47bb9301fd4740c05a73": {
          "model_module": "@jupyter-widgets/base",
          "model_name": "LayoutModel",
          "model_module_version": "1.2.0",
          "state": {
            "_model_module": "@jupyter-widgets/base",
            "_model_module_version": "1.2.0",
            "_model_name": "LayoutModel",
            "_view_count": null,
            "_view_module": "@jupyter-widgets/base",
            "_view_module_version": "1.2.0",
            "_view_name": "LayoutView",
            "align_content": null,
            "align_items": null,
            "align_self": null,
            "border": null,
            "bottom": null,
            "display": null,
            "flex": null,
            "flex_flow": null,
            "grid_area": null,
            "grid_auto_columns": null,
            "grid_auto_flow": null,
            "grid_auto_rows": null,
            "grid_column": null,
            "grid_gap": null,
            "grid_row": null,
            "grid_template_areas": null,
            "grid_template_columns": null,
            "grid_template_rows": null,
            "height": null,
            "justify_content": null,
            "justify_items": null,
            "left": null,
            "margin": null,
            "max_height": null,
            "max_width": null,
            "min_height": null,
            "min_width": null,
            "object_fit": null,
            "object_position": null,
            "order": null,
            "overflow": null,
            "overflow_x": null,
            "overflow_y": null,
            "padding": null,
            "right": null,
            "top": null,
            "visibility": null,
            "width": null
          }
        },
        "639a183c19ee44f8a543b890913008d8": {
          "model_module": "@jupyter-widgets/base",
          "model_name": "LayoutModel",
          "model_module_version": "1.2.0",
          "state": {
            "_model_module": "@jupyter-widgets/base",
            "_model_module_version": "1.2.0",
            "_model_name": "LayoutModel",
            "_view_count": null,
            "_view_module": "@jupyter-widgets/base",
            "_view_module_version": "1.2.0",
            "_view_name": "LayoutView",
            "align_content": null,
            "align_items": null,
            "align_self": null,
            "border": null,
            "bottom": null,
            "display": null,
            "flex": null,
            "flex_flow": null,
            "grid_area": null,
            "grid_auto_columns": null,
            "grid_auto_flow": null,
            "grid_auto_rows": null,
            "grid_column": null,
            "grid_gap": null,
            "grid_row": null,
            "grid_template_areas": null,
            "grid_template_columns": null,
            "grid_template_rows": null,
            "height": null,
            "justify_content": null,
            "justify_items": null,
            "left": null,
            "margin": null,
            "max_height": null,
            "max_width": null,
            "min_height": null,
            "min_width": null,
            "object_fit": null,
            "object_position": null,
            "order": null,
            "overflow": null,
            "overflow_x": null,
            "overflow_y": null,
            "padding": null,
            "right": null,
            "top": null,
            "visibility": null,
            "width": null
          }
        },
        "bf5c099aaddc40e3bde098e502eb8671": {
          "model_module": "@jupyter-widgets/controls",
          "model_name": "DescriptionStyleModel",
          "model_module_version": "1.5.0",
          "state": {
            "_model_module": "@jupyter-widgets/controls",
            "_model_module_version": "1.5.0",
            "_model_name": "DescriptionStyleModel",
            "_view_count": null,
            "_view_module": "@jupyter-widgets/base",
            "_view_module_version": "1.2.0",
            "_view_name": "StyleView",
            "description_width": ""
          }
        },
        "b2536a41961f4dbb8de9292683ea5750": {
          "model_module": "@jupyter-widgets/base",
          "model_name": "LayoutModel",
          "model_module_version": "1.2.0",
          "state": {
            "_model_module": "@jupyter-widgets/base",
            "_model_module_version": "1.2.0",
            "_model_name": "LayoutModel",
            "_view_count": null,
            "_view_module": "@jupyter-widgets/base",
            "_view_module_version": "1.2.0",
            "_view_name": "LayoutView",
            "align_content": null,
            "align_items": null,
            "align_self": null,
            "border": null,
            "bottom": null,
            "display": null,
            "flex": null,
            "flex_flow": null,
            "grid_area": null,
            "grid_auto_columns": null,
            "grid_auto_flow": null,
            "grid_auto_rows": null,
            "grid_column": null,
            "grid_gap": null,
            "grid_row": null,
            "grid_template_areas": null,
            "grid_template_columns": null,
            "grid_template_rows": null,
            "height": null,
            "justify_content": null,
            "justify_items": null,
            "left": null,
            "margin": null,
            "max_height": null,
            "max_width": null,
            "min_height": null,
            "min_width": null,
            "object_fit": null,
            "object_position": null,
            "order": null,
            "overflow": null,
            "overflow_x": null,
            "overflow_y": null,
            "padding": null,
            "right": null,
            "top": null,
            "visibility": null,
            "width": "20px"
          }
        },
        "95df33de0410483bb526bff07c2d3a86": {
          "model_module": "@jupyter-widgets/controls",
          "model_name": "ProgressStyleModel",
          "model_module_version": "1.5.0",
          "state": {
            "_model_module": "@jupyter-widgets/controls",
            "_model_module_version": "1.5.0",
            "_model_name": "ProgressStyleModel",
            "_view_count": null,
            "_view_module": "@jupyter-widgets/base",
            "_view_module_version": "1.2.0",
            "_view_name": "StyleView",
            "bar_color": null,
            "description_width": ""
          }
        },
        "3dd7680b6c8c40d082ee0f2aad75d940": {
          "model_module": "@jupyter-widgets/base",
          "model_name": "LayoutModel",
          "model_module_version": "1.2.0",
          "state": {
            "_model_module": "@jupyter-widgets/base",
            "_model_module_version": "1.2.0",
            "_model_name": "LayoutModel",
            "_view_count": null,
            "_view_module": "@jupyter-widgets/base",
            "_view_module_version": "1.2.0",
            "_view_name": "LayoutView",
            "align_content": null,
            "align_items": null,
            "align_self": null,
            "border": null,
            "bottom": null,
            "display": null,
            "flex": null,
            "flex_flow": null,
            "grid_area": null,
            "grid_auto_columns": null,
            "grid_auto_flow": null,
            "grid_auto_rows": null,
            "grid_column": null,
            "grid_gap": null,
            "grid_row": null,
            "grid_template_areas": null,
            "grid_template_columns": null,
            "grid_template_rows": null,
            "height": null,
            "justify_content": null,
            "justify_items": null,
            "left": null,
            "margin": null,
            "max_height": null,
            "max_width": null,
            "min_height": null,
            "min_width": null,
            "object_fit": null,
            "object_position": null,
            "order": null,
            "overflow": null,
            "overflow_x": null,
            "overflow_y": null,
            "padding": null,
            "right": null,
            "top": null,
            "visibility": null,
            "width": null
          }
        },
        "64f3dbdf12a5472888d27f9f549b5c36": {
          "model_module": "@jupyter-widgets/controls",
          "model_name": "DescriptionStyleModel",
          "model_module_version": "1.5.0",
          "state": {
            "_model_module": "@jupyter-widgets/controls",
            "_model_module_version": "1.5.0",
            "_model_name": "DescriptionStyleModel",
            "_view_count": null,
            "_view_module": "@jupyter-widgets/base",
            "_view_module_version": "1.2.0",
            "_view_name": "StyleView",
            "description_width": ""
          }
        },
        "fa7353ff6bea4333b62be75c87a2a969": {
          "model_module": "@jupyter-widgets/controls",
          "model_name": "HBoxModel",
          "model_module_version": "1.5.0",
          "state": {
            "_dom_classes": [],
            "_model_module": "@jupyter-widgets/controls",
            "_model_module_version": "1.5.0",
            "_model_name": "HBoxModel",
            "_view_count": null,
            "_view_module": "@jupyter-widgets/controls",
            "_view_module_version": "1.5.0",
            "_view_name": "HBoxView",
            "box_style": "",
            "children": [
              "IPY_MODEL_4cd17c750f5242a7bc58fba6bbfcfddc",
              "IPY_MODEL_2b95d67ff25f4d998adff3d550d07863",
              "IPY_MODEL_7496afb579c64c7fac40d71571832d1d"
            ],
            "layout": "IPY_MODEL_ee70880aff5440fdb07f7584d5f0d965"
          }
        },
        "4cd17c750f5242a7bc58fba6bbfcfddc": {
          "model_module": "@jupyter-widgets/controls",
          "model_name": "HTMLModel",
          "model_module_version": "1.5.0",
          "state": {
            "_dom_classes": [],
            "_model_module": "@jupyter-widgets/controls",
            "_model_module_version": "1.5.0",
            "_model_name": "HTMLModel",
            "_view_count": null,
            "_view_module": "@jupyter-widgets/controls",
            "_view_module_version": "1.5.0",
            "_view_name": "HTMLView",
            "description": "",
            "description_tooltip": null,
            "layout": "IPY_MODEL_340f40aaa3c8460e9ed52ef518705da4",
            "placeholder": "​",
            "style": "IPY_MODEL_5c4d3f8cb68642dcb1d64f25cbdc43e5",
            "value": "Generating splits...: 100%"
          }
        },
        "2b95d67ff25f4d998adff3d550d07863": {
          "model_module": "@jupyter-widgets/controls",
          "model_name": "FloatProgressModel",
          "model_module_version": "1.5.0",
          "state": {
            "_dom_classes": [],
            "_model_module": "@jupyter-widgets/controls",
            "_model_module_version": "1.5.0",
            "_model_name": "FloatProgressModel",
            "_view_count": null,
            "_view_module": "@jupyter-widgets/controls",
            "_view_module_version": "1.5.0",
            "_view_name": "ProgressView",
            "bar_style": "",
            "description": "",
            "description_tooltip": null,
            "layout": "IPY_MODEL_625981bb40d54becbbc83fcf67a83fa5",
            "max": 2,
            "min": 0,
            "orientation": "horizontal",
            "style": "IPY_MODEL_2d4b4762f64a4afb83089616034f7ed3",
            "value": 2
          }
        },
        "7496afb579c64c7fac40d71571832d1d": {
          "model_module": "@jupyter-widgets/controls",
          "model_name": "HTMLModel",
          "model_module_version": "1.5.0",
          "state": {
            "_dom_classes": [],
            "_model_module": "@jupyter-widgets/controls",
            "_model_module_version": "1.5.0",
            "_model_name": "HTMLModel",
            "_view_count": null,
            "_view_module": "@jupyter-widgets/controls",
            "_view_module_version": "1.5.0",
            "_view_name": "HTMLView",
            "description": "",
            "description_tooltip": null,
            "layout": "IPY_MODEL_f5aa7db8c5a94e46a76aa23ec78865c9",
            "placeholder": "​",
            "style": "IPY_MODEL_77db4773df144302b87925c0babeaec3",
            "value": " 2/2 [00:53&lt;00:00, 23.50s/ splits]"
          }
        },
        "ee70880aff5440fdb07f7584d5f0d965": {
          "model_module": "@jupyter-widgets/base",
          "model_name": "LayoutModel",
          "model_module_version": "1.2.0",
          "state": {
            "_model_module": "@jupyter-widgets/base",
            "_model_module_version": "1.2.0",
            "_model_name": "LayoutModel",
            "_view_count": null,
            "_view_module": "@jupyter-widgets/base",
            "_view_module_version": "1.2.0",
            "_view_name": "LayoutView",
            "align_content": null,
            "align_items": null,
            "align_self": null,
            "border": null,
            "bottom": null,
            "display": null,
            "flex": null,
            "flex_flow": null,
            "grid_area": null,
            "grid_auto_columns": null,
            "grid_auto_flow": null,
            "grid_auto_rows": null,
            "grid_column": null,
            "grid_gap": null,
            "grid_row": null,
            "grid_template_areas": null,
            "grid_template_columns": null,
            "grid_template_rows": null,
            "height": null,
            "justify_content": null,
            "justify_items": null,
            "left": null,
            "margin": null,
            "max_height": null,
            "max_width": null,
            "min_height": null,
            "min_width": null,
            "object_fit": null,
            "object_position": null,
            "order": null,
            "overflow": null,
            "overflow_x": null,
            "overflow_y": null,
            "padding": null,
            "right": null,
            "top": null,
            "visibility": "hidden",
            "width": null
          }
        },
        "340f40aaa3c8460e9ed52ef518705da4": {
          "model_module": "@jupyter-widgets/base",
          "model_name": "LayoutModel",
          "model_module_version": "1.2.0",
          "state": {
            "_model_module": "@jupyter-widgets/base",
            "_model_module_version": "1.2.0",
            "_model_name": "LayoutModel",
            "_view_count": null,
            "_view_module": "@jupyter-widgets/base",
            "_view_module_version": "1.2.0",
            "_view_name": "LayoutView",
            "align_content": null,
            "align_items": null,
            "align_self": null,
            "border": null,
            "bottom": null,
            "display": null,
            "flex": null,
            "flex_flow": null,
            "grid_area": null,
            "grid_auto_columns": null,
            "grid_auto_flow": null,
            "grid_auto_rows": null,
            "grid_column": null,
            "grid_gap": null,
            "grid_row": null,
            "grid_template_areas": null,
            "grid_template_columns": null,
            "grid_template_rows": null,
            "height": null,
            "justify_content": null,
            "justify_items": null,
            "left": null,
            "margin": null,
            "max_height": null,
            "max_width": null,
            "min_height": null,
            "min_width": null,
            "object_fit": null,
            "object_position": null,
            "order": null,
            "overflow": null,
            "overflow_x": null,
            "overflow_y": null,
            "padding": null,
            "right": null,
            "top": null,
            "visibility": null,
            "width": null
          }
        },
        "5c4d3f8cb68642dcb1d64f25cbdc43e5": {
          "model_module": "@jupyter-widgets/controls",
          "model_name": "DescriptionStyleModel",
          "model_module_version": "1.5.0",
          "state": {
            "_model_module": "@jupyter-widgets/controls",
            "_model_module_version": "1.5.0",
            "_model_name": "DescriptionStyleModel",
            "_view_count": null,
            "_view_module": "@jupyter-widgets/base",
            "_view_module_version": "1.2.0",
            "_view_name": "StyleView",
            "description_width": ""
          }
        },
        "625981bb40d54becbbc83fcf67a83fa5": {
          "model_module": "@jupyter-widgets/base",
          "model_name": "LayoutModel",
          "model_module_version": "1.2.0",
          "state": {
            "_model_module": "@jupyter-widgets/base",
            "_model_module_version": "1.2.0",
            "_model_name": "LayoutModel",
            "_view_count": null,
            "_view_module": "@jupyter-widgets/base",
            "_view_module_version": "1.2.0",
            "_view_name": "LayoutView",
            "align_content": null,
            "align_items": null,
            "align_self": null,
            "border": null,
            "bottom": null,
            "display": null,
            "flex": null,
            "flex_flow": null,
            "grid_area": null,
            "grid_auto_columns": null,
            "grid_auto_flow": null,
            "grid_auto_rows": null,
            "grid_column": null,
            "grid_gap": null,
            "grid_row": null,
            "grid_template_areas": null,
            "grid_template_columns": null,
            "grid_template_rows": null,
            "height": null,
            "justify_content": null,
            "justify_items": null,
            "left": null,
            "margin": null,
            "max_height": null,
            "max_width": null,
            "min_height": null,
            "min_width": null,
            "object_fit": null,
            "object_position": null,
            "order": null,
            "overflow": null,
            "overflow_x": null,
            "overflow_y": null,
            "padding": null,
            "right": null,
            "top": null,
            "visibility": null,
            "width": null
          }
        },
        "2d4b4762f64a4afb83089616034f7ed3": {
          "model_module": "@jupyter-widgets/controls",
          "model_name": "ProgressStyleModel",
          "model_module_version": "1.5.0",
          "state": {
            "_model_module": "@jupyter-widgets/controls",
            "_model_module_version": "1.5.0",
            "_model_name": "ProgressStyleModel",
            "_view_count": null,
            "_view_module": "@jupyter-widgets/base",
            "_view_module_version": "1.2.0",
            "_view_name": "StyleView",
            "bar_color": null,
            "description_width": ""
          }
        },
        "f5aa7db8c5a94e46a76aa23ec78865c9": {
          "model_module": "@jupyter-widgets/base",
          "model_name": "LayoutModel",
          "model_module_version": "1.2.0",
          "state": {
            "_model_module": "@jupyter-widgets/base",
            "_model_module_version": "1.2.0",
            "_model_name": "LayoutModel",
            "_view_count": null,
            "_view_module": "@jupyter-widgets/base",
            "_view_module_version": "1.2.0",
            "_view_name": "LayoutView",
            "align_content": null,
            "align_items": null,
            "align_self": null,
            "border": null,
            "bottom": null,
            "display": null,
            "flex": null,
            "flex_flow": null,
            "grid_area": null,
            "grid_auto_columns": null,
            "grid_auto_flow": null,
            "grid_auto_rows": null,
            "grid_column": null,
            "grid_gap": null,
            "grid_row": null,
            "grid_template_areas": null,
            "grid_template_columns": null,
            "grid_template_rows": null,
            "height": null,
            "justify_content": null,
            "justify_items": null,
            "left": null,
            "margin": null,
            "max_height": null,
            "max_width": null,
            "min_height": null,
            "min_width": null,
            "object_fit": null,
            "object_position": null,
            "order": null,
            "overflow": null,
            "overflow_x": null,
            "overflow_y": null,
            "padding": null,
            "right": null,
            "top": null,
            "visibility": null,
            "width": null
          }
        },
        "77db4773df144302b87925c0babeaec3": {
          "model_module": "@jupyter-widgets/controls",
          "model_name": "DescriptionStyleModel",
          "model_module_version": "1.5.0",
          "state": {
            "_model_module": "@jupyter-widgets/controls",
            "_model_module_version": "1.5.0",
            "_model_name": "DescriptionStyleModel",
            "_view_count": null,
            "_view_module": "@jupyter-widgets/base",
            "_view_module_version": "1.2.0",
            "_view_name": "StyleView",
            "description_width": ""
          }
        },
        "c1a439887c044129a4526a6f3fb1dee1": {
          "model_module": "@jupyter-widgets/controls",
          "model_name": "HBoxModel",
          "model_module_version": "1.5.0",
          "state": {
            "_dom_classes": [],
            "_model_module": "@jupyter-widgets/controls",
            "_model_module_version": "1.5.0",
            "_model_name": "HBoxModel",
            "_view_count": null,
            "_view_module": "@jupyter-widgets/controls",
            "_view_module_version": "1.5.0",
            "_view_name": "HBoxView",
            "box_style": "",
            "children": [
              "IPY_MODEL_b1830f43c8d84126b80b80a1b720f951",
              "IPY_MODEL_d16346d409e94d1f908382c6ace8cbb9",
              "IPY_MODEL_25d9362ee44b403397975ff1c81bea0a"
            ],
            "layout": "IPY_MODEL_1a9d05cb5d324a7d9fe92e98b7cd4b88"
          }
        },
        "b1830f43c8d84126b80b80a1b720f951": {
          "model_module": "@jupyter-widgets/controls",
          "model_name": "HTMLModel",
          "model_module_version": "1.5.0",
          "state": {
            "_dom_classes": [],
            "_model_module": "@jupyter-widgets/controls",
            "_model_module_version": "1.5.0",
            "_model_name": "HTMLModel",
            "_view_count": null,
            "_view_module": "@jupyter-widgets/controls",
            "_view_module_version": "1.5.0",
            "_view_name": "HTMLView",
            "description": "",
            "description_tooltip": null,
            "layout": "IPY_MODEL_5362e46b6e3b4564adfd5ac58b67871f",
            "placeholder": "​",
            "style": "IPY_MODEL_2fde5545068d43e5b63995d48558941f",
            "value": "Generating train examples...: 100%"
          }
        },
        "d16346d409e94d1f908382c6ace8cbb9": {
          "model_module": "@jupyter-widgets/controls",
          "model_name": "FloatProgressModel",
          "model_module_version": "1.5.0",
          "state": {
            "_dom_classes": [],
            "_model_module": "@jupyter-widgets/controls",
            "_model_module_version": "1.5.0",
            "_model_name": "FloatProgressModel",
            "_view_count": null,
            "_view_module": "@jupyter-widgets/controls",
            "_view_module_version": "1.5.0",
            "_view_name": "ProgressView",
            "bar_style": "",
            "description": "",
            "description_tooltip": null,
            "layout": "IPY_MODEL_d2cc4b62971a4789b43fca40ff209bd6",
            "max": 50000,
            "min": 0,
            "orientation": "horizontal",
            "style": "IPY_MODEL_4661e0186e544fefbe4946a1e77bc57c",
            "value": 50000
          }
        },
        "25d9362ee44b403397975ff1c81bea0a": {
          "model_module": "@jupyter-widgets/controls",
          "model_name": "HTMLModel",
          "model_module_version": "1.5.0",
          "state": {
            "_dom_classes": [],
            "_model_module": "@jupyter-widgets/controls",
            "_model_module_version": "1.5.0",
            "_model_name": "HTMLModel",
            "_view_count": null,
            "_view_module": "@jupyter-widgets/controls",
            "_view_module_version": "1.5.0",
            "_view_name": "HTMLView",
            "description": "",
            "description_tooltip": null,
            "layout": "IPY_MODEL_5895978dfea143a2ba789001af0878e2",
            "placeholder": "​",
            "style": "IPY_MODEL_ab0cdbafc66046b68b9085eaf2ef2981",
            "value": " 49983/50000 [00:44&lt;00:00, 1271.08 examples/s]"
          }
        },
        "1a9d05cb5d324a7d9fe92e98b7cd4b88": {
          "model_module": "@jupyter-widgets/base",
          "model_name": "LayoutModel",
          "model_module_version": "1.2.0",
          "state": {
            "_model_module": "@jupyter-widgets/base",
            "_model_module_version": "1.2.0",
            "_model_name": "LayoutModel",
            "_view_count": null,
            "_view_module": "@jupyter-widgets/base",
            "_view_module_version": "1.2.0",
            "_view_name": "LayoutView",
            "align_content": null,
            "align_items": null,
            "align_self": null,
            "border": null,
            "bottom": null,
            "display": null,
            "flex": null,
            "flex_flow": null,
            "grid_area": null,
            "grid_auto_columns": null,
            "grid_auto_flow": null,
            "grid_auto_rows": null,
            "grid_column": null,
            "grid_gap": null,
            "grid_row": null,
            "grid_template_areas": null,
            "grid_template_columns": null,
            "grid_template_rows": null,
            "height": null,
            "justify_content": null,
            "justify_items": null,
            "left": null,
            "margin": null,
            "max_height": null,
            "max_width": null,
            "min_height": null,
            "min_width": null,
            "object_fit": null,
            "object_position": null,
            "order": null,
            "overflow": null,
            "overflow_x": null,
            "overflow_y": null,
            "padding": null,
            "right": null,
            "top": null,
            "visibility": "hidden",
            "width": null
          }
        },
        "5362e46b6e3b4564adfd5ac58b67871f": {
          "model_module": "@jupyter-widgets/base",
          "model_name": "LayoutModel",
          "model_module_version": "1.2.0",
          "state": {
            "_model_module": "@jupyter-widgets/base",
            "_model_module_version": "1.2.0",
            "_model_name": "LayoutModel",
            "_view_count": null,
            "_view_module": "@jupyter-widgets/base",
            "_view_module_version": "1.2.0",
            "_view_name": "LayoutView",
            "align_content": null,
            "align_items": null,
            "align_self": null,
            "border": null,
            "bottom": null,
            "display": null,
            "flex": null,
            "flex_flow": null,
            "grid_area": null,
            "grid_auto_columns": null,
            "grid_auto_flow": null,
            "grid_auto_rows": null,
            "grid_column": null,
            "grid_gap": null,
            "grid_row": null,
            "grid_template_areas": null,
            "grid_template_columns": null,
            "grid_template_rows": null,
            "height": null,
            "justify_content": null,
            "justify_items": null,
            "left": null,
            "margin": null,
            "max_height": null,
            "max_width": null,
            "min_height": null,
            "min_width": null,
            "object_fit": null,
            "object_position": null,
            "order": null,
            "overflow": null,
            "overflow_x": null,
            "overflow_y": null,
            "padding": null,
            "right": null,
            "top": null,
            "visibility": null,
            "width": null
          }
        },
        "2fde5545068d43e5b63995d48558941f": {
          "model_module": "@jupyter-widgets/controls",
          "model_name": "DescriptionStyleModel",
          "model_module_version": "1.5.0",
          "state": {
            "_model_module": "@jupyter-widgets/controls",
            "_model_module_version": "1.5.0",
            "_model_name": "DescriptionStyleModel",
            "_view_count": null,
            "_view_module": "@jupyter-widgets/base",
            "_view_module_version": "1.2.0",
            "_view_name": "StyleView",
            "description_width": ""
          }
        },
        "d2cc4b62971a4789b43fca40ff209bd6": {
          "model_module": "@jupyter-widgets/base",
          "model_name": "LayoutModel",
          "model_module_version": "1.2.0",
          "state": {
            "_model_module": "@jupyter-widgets/base",
            "_model_module_version": "1.2.0",
            "_model_name": "LayoutModel",
            "_view_count": null,
            "_view_module": "@jupyter-widgets/base",
            "_view_module_version": "1.2.0",
            "_view_name": "LayoutView",
            "align_content": null,
            "align_items": null,
            "align_self": null,
            "border": null,
            "bottom": null,
            "display": null,
            "flex": null,
            "flex_flow": null,
            "grid_area": null,
            "grid_auto_columns": null,
            "grid_auto_flow": null,
            "grid_auto_rows": null,
            "grid_column": null,
            "grid_gap": null,
            "grid_row": null,
            "grid_template_areas": null,
            "grid_template_columns": null,
            "grid_template_rows": null,
            "height": null,
            "justify_content": null,
            "justify_items": null,
            "left": null,
            "margin": null,
            "max_height": null,
            "max_width": null,
            "min_height": null,
            "min_width": null,
            "object_fit": null,
            "object_position": null,
            "order": null,
            "overflow": null,
            "overflow_x": null,
            "overflow_y": null,
            "padding": null,
            "right": null,
            "top": null,
            "visibility": null,
            "width": null
          }
        },
        "4661e0186e544fefbe4946a1e77bc57c": {
          "model_module": "@jupyter-widgets/controls",
          "model_name": "ProgressStyleModel",
          "model_module_version": "1.5.0",
          "state": {
            "_model_module": "@jupyter-widgets/controls",
            "_model_module_version": "1.5.0",
            "_model_name": "ProgressStyleModel",
            "_view_count": null,
            "_view_module": "@jupyter-widgets/base",
            "_view_module_version": "1.2.0",
            "_view_name": "StyleView",
            "bar_color": null,
            "description_width": ""
          }
        },
        "5895978dfea143a2ba789001af0878e2": {
          "model_module": "@jupyter-widgets/base",
          "model_name": "LayoutModel",
          "model_module_version": "1.2.0",
          "state": {
            "_model_module": "@jupyter-widgets/base",
            "_model_module_version": "1.2.0",
            "_model_name": "LayoutModel",
            "_view_count": null,
            "_view_module": "@jupyter-widgets/base",
            "_view_module_version": "1.2.0",
            "_view_name": "LayoutView",
            "align_content": null,
            "align_items": null,
            "align_self": null,
            "border": null,
            "bottom": null,
            "display": null,
            "flex": null,
            "flex_flow": null,
            "grid_area": null,
            "grid_auto_columns": null,
            "grid_auto_flow": null,
            "grid_auto_rows": null,
            "grid_column": null,
            "grid_gap": null,
            "grid_row": null,
            "grid_template_areas": null,
            "grid_template_columns": null,
            "grid_template_rows": null,
            "height": null,
            "justify_content": null,
            "justify_items": null,
            "left": null,
            "margin": null,
            "max_height": null,
            "max_width": null,
            "min_height": null,
            "min_width": null,
            "object_fit": null,
            "object_position": null,
            "order": null,
            "overflow": null,
            "overflow_x": null,
            "overflow_y": null,
            "padding": null,
            "right": null,
            "top": null,
            "visibility": null,
            "width": null
          }
        },
        "ab0cdbafc66046b68b9085eaf2ef2981": {
          "model_module": "@jupyter-widgets/controls",
          "model_name": "DescriptionStyleModel",
          "model_module_version": "1.5.0",
          "state": {
            "_model_module": "@jupyter-widgets/controls",
            "_model_module_version": "1.5.0",
            "_model_name": "DescriptionStyleModel",
            "_view_count": null,
            "_view_module": "@jupyter-widgets/base",
            "_view_module_version": "1.2.0",
            "_view_name": "StyleView",
            "description_width": ""
          }
        },
        "2b72a6bf9f8640d4ace5d97e3cc9e8f6": {
          "model_module": "@jupyter-widgets/controls",
          "model_name": "HBoxModel",
          "model_module_version": "1.5.0",
          "state": {
            "_dom_classes": [],
            "_model_module": "@jupyter-widgets/controls",
            "_model_module_version": "1.5.0",
            "_model_name": "HBoxModel",
            "_view_count": null,
            "_view_module": "@jupyter-widgets/controls",
            "_view_module_version": "1.5.0",
            "_view_name": "HBoxView",
            "box_style": "",
            "children": [
              "IPY_MODEL_ad60e82139114aca8e5967e80ddd2f1a",
              "IPY_MODEL_be49d8dfee0d4845817c84fcd813e313",
              "IPY_MODEL_7e17373869814eb186f84d8834bcb549"
            ],
            "layout": "IPY_MODEL_c195662ee6564bbfa70e3629583b1691"
          }
        },
        "ad60e82139114aca8e5967e80ddd2f1a": {
          "model_module": "@jupyter-widgets/controls",
          "model_name": "HTMLModel",
          "model_module_version": "1.5.0",
          "state": {
            "_dom_classes": [],
            "_model_module": "@jupyter-widgets/controls",
            "_model_module_version": "1.5.0",
            "_model_name": "HTMLModel",
            "_view_count": null,
            "_view_module": "@jupyter-widgets/controls",
            "_view_module_version": "1.5.0",
            "_view_name": "HTMLView",
            "description": "",
            "description_tooltip": null,
            "layout": "IPY_MODEL_fdf602ded98a4fe29ee96bd36d6bd597",
            "placeholder": "​",
            "style": "IPY_MODEL_77095cc5ceec45169dea3a02f23b7efc",
            "value": "Shuffling ~/tensorflow_datasets/cifar10/3.0.2.incompleteV6UDKG/cifar10-train.tfrecord*...:  86%"
          }
        },
        "be49d8dfee0d4845817c84fcd813e313": {
          "model_module": "@jupyter-widgets/controls",
          "model_name": "FloatProgressModel",
          "model_module_version": "1.5.0",
          "state": {
            "_dom_classes": [],
            "_model_module": "@jupyter-widgets/controls",
            "_model_module_version": "1.5.0",
            "_model_name": "FloatProgressModel",
            "_view_count": null,
            "_view_module": "@jupyter-widgets/controls",
            "_view_module_version": "1.5.0",
            "_view_name": "ProgressView",
            "bar_style": "",
            "description": "",
            "description_tooltip": null,
            "layout": "IPY_MODEL_5655a278f4264eeb8c9e513a6fa6c3d6",
            "max": 50000,
            "min": 0,
            "orientation": "horizontal",
            "style": "IPY_MODEL_3161e77338c4433fb612f3f0d3a26d00",
            "value": 50000
          }
        },
        "7e17373869814eb186f84d8834bcb549": {
          "model_module": "@jupyter-widgets/controls",
          "model_name": "HTMLModel",
          "model_module_version": "1.5.0",
          "state": {
            "_dom_classes": [],
            "_model_module": "@jupyter-widgets/controls",
            "_model_module_version": "1.5.0",
            "_model_name": "HTMLModel",
            "_view_count": null,
            "_view_module": "@jupyter-widgets/controls",
            "_view_module_version": "1.5.0",
            "_view_name": "HTMLView",
            "description": "",
            "description_tooltip": null,
            "layout": "IPY_MODEL_44a5e9b7ae224a449228511580215ad6",
            "placeholder": "​",
            "style": "IPY_MODEL_e5c3f76b6c454ac8bb17ef51df5d0564",
            "value": " 42941/50000 [00:00&lt;00:00, 161285.32 examples/s]"
          }
        },
        "c195662ee6564bbfa70e3629583b1691": {
          "model_module": "@jupyter-widgets/base",
          "model_name": "LayoutModel",
          "model_module_version": "1.2.0",
          "state": {
            "_model_module": "@jupyter-widgets/base",
            "_model_module_version": "1.2.0",
            "_model_name": "LayoutModel",
            "_view_count": null,
            "_view_module": "@jupyter-widgets/base",
            "_view_module_version": "1.2.0",
            "_view_name": "LayoutView",
            "align_content": null,
            "align_items": null,
            "align_self": null,
            "border": null,
            "bottom": null,
            "display": null,
            "flex": null,
            "flex_flow": null,
            "grid_area": null,
            "grid_auto_columns": null,
            "grid_auto_flow": null,
            "grid_auto_rows": null,
            "grid_column": null,
            "grid_gap": null,
            "grid_row": null,
            "grid_template_areas": null,
            "grid_template_columns": null,
            "grid_template_rows": null,
            "height": null,
            "justify_content": null,
            "justify_items": null,
            "left": null,
            "margin": null,
            "max_height": null,
            "max_width": null,
            "min_height": null,
            "min_width": null,
            "object_fit": null,
            "object_position": null,
            "order": null,
            "overflow": null,
            "overflow_x": null,
            "overflow_y": null,
            "padding": null,
            "right": null,
            "top": null,
            "visibility": "hidden",
            "width": null
          }
        },
        "fdf602ded98a4fe29ee96bd36d6bd597": {
          "model_module": "@jupyter-widgets/base",
          "model_name": "LayoutModel",
          "model_module_version": "1.2.0",
          "state": {
            "_model_module": "@jupyter-widgets/base",
            "_model_module_version": "1.2.0",
            "_model_name": "LayoutModel",
            "_view_count": null,
            "_view_module": "@jupyter-widgets/base",
            "_view_module_version": "1.2.0",
            "_view_name": "LayoutView",
            "align_content": null,
            "align_items": null,
            "align_self": null,
            "border": null,
            "bottom": null,
            "display": null,
            "flex": null,
            "flex_flow": null,
            "grid_area": null,
            "grid_auto_columns": null,
            "grid_auto_flow": null,
            "grid_auto_rows": null,
            "grid_column": null,
            "grid_gap": null,
            "grid_row": null,
            "grid_template_areas": null,
            "grid_template_columns": null,
            "grid_template_rows": null,
            "height": null,
            "justify_content": null,
            "justify_items": null,
            "left": null,
            "margin": null,
            "max_height": null,
            "max_width": null,
            "min_height": null,
            "min_width": null,
            "object_fit": null,
            "object_position": null,
            "order": null,
            "overflow": null,
            "overflow_x": null,
            "overflow_y": null,
            "padding": null,
            "right": null,
            "top": null,
            "visibility": null,
            "width": null
          }
        },
        "77095cc5ceec45169dea3a02f23b7efc": {
          "model_module": "@jupyter-widgets/controls",
          "model_name": "DescriptionStyleModel",
          "model_module_version": "1.5.0",
          "state": {
            "_model_module": "@jupyter-widgets/controls",
            "_model_module_version": "1.5.0",
            "_model_name": "DescriptionStyleModel",
            "_view_count": null,
            "_view_module": "@jupyter-widgets/base",
            "_view_module_version": "1.2.0",
            "_view_name": "StyleView",
            "description_width": ""
          }
        },
        "5655a278f4264eeb8c9e513a6fa6c3d6": {
          "model_module": "@jupyter-widgets/base",
          "model_name": "LayoutModel",
          "model_module_version": "1.2.0",
          "state": {
            "_model_module": "@jupyter-widgets/base",
            "_model_module_version": "1.2.0",
            "_model_name": "LayoutModel",
            "_view_count": null,
            "_view_module": "@jupyter-widgets/base",
            "_view_module_version": "1.2.0",
            "_view_name": "LayoutView",
            "align_content": null,
            "align_items": null,
            "align_self": null,
            "border": null,
            "bottom": null,
            "display": null,
            "flex": null,
            "flex_flow": null,
            "grid_area": null,
            "grid_auto_columns": null,
            "grid_auto_flow": null,
            "grid_auto_rows": null,
            "grid_column": null,
            "grid_gap": null,
            "grid_row": null,
            "grid_template_areas": null,
            "grid_template_columns": null,
            "grid_template_rows": null,
            "height": null,
            "justify_content": null,
            "justify_items": null,
            "left": null,
            "margin": null,
            "max_height": null,
            "max_width": null,
            "min_height": null,
            "min_width": null,
            "object_fit": null,
            "object_position": null,
            "order": null,
            "overflow": null,
            "overflow_x": null,
            "overflow_y": null,
            "padding": null,
            "right": null,
            "top": null,
            "visibility": null,
            "width": null
          }
        },
        "3161e77338c4433fb612f3f0d3a26d00": {
          "model_module": "@jupyter-widgets/controls",
          "model_name": "ProgressStyleModel",
          "model_module_version": "1.5.0",
          "state": {
            "_model_module": "@jupyter-widgets/controls",
            "_model_module_version": "1.5.0",
            "_model_name": "ProgressStyleModel",
            "_view_count": null,
            "_view_module": "@jupyter-widgets/base",
            "_view_module_version": "1.2.0",
            "_view_name": "StyleView",
            "bar_color": null,
            "description_width": ""
          }
        },
        "44a5e9b7ae224a449228511580215ad6": {
          "model_module": "@jupyter-widgets/base",
          "model_name": "LayoutModel",
          "model_module_version": "1.2.0",
          "state": {
            "_model_module": "@jupyter-widgets/base",
            "_model_module_version": "1.2.0",
            "_model_name": "LayoutModel",
            "_view_count": null,
            "_view_module": "@jupyter-widgets/base",
            "_view_module_version": "1.2.0",
            "_view_name": "LayoutView",
            "align_content": null,
            "align_items": null,
            "align_self": null,
            "border": null,
            "bottom": null,
            "display": null,
            "flex": null,
            "flex_flow": null,
            "grid_area": null,
            "grid_auto_columns": null,
            "grid_auto_flow": null,
            "grid_auto_rows": null,
            "grid_column": null,
            "grid_gap": null,
            "grid_row": null,
            "grid_template_areas": null,
            "grid_template_columns": null,
            "grid_template_rows": null,
            "height": null,
            "justify_content": null,
            "justify_items": null,
            "left": null,
            "margin": null,
            "max_height": null,
            "max_width": null,
            "min_height": null,
            "min_width": null,
            "object_fit": null,
            "object_position": null,
            "order": null,
            "overflow": null,
            "overflow_x": null,
            "overflow_y": null,
            "padding": null,
            "right": null,
            "top": null,
            "visibility": null,
            "width": null
          }
        },
        "e5c3f76b6c454ac8bb17ef51df5d0564": {
          "model_module": "@jupyter-widgets/controls",
          "model_name": "DescriptionStyleModel",
          "model_module_version": "1.5.0",
          "state": {
            "_model_module": "@jupyter-widgets/controls",
            "_model_module_version": "1.5.0",
            "_model_name": "DescriptionStyleModel",
            "_view_count": null,
            "_view_module": "@jupyter-widgets/base",
            "_view_module_version": "1.2.0",
            "_view_name": "StyleView",
            "description_width": ""
          }
        },
        "420527d63f734af6af674a67b9e360d8": {
          "model_module": "@jupyter-widgets/controls",
          "model_name": "HBoxModel",
          "model_module_version": "1.5.0",
          "state": {
            "_dom_classes": [],
            "_model_module": "@jupyter-widgets/controls",
            "_model_module_version": "1.5.0",
            "_model_name": "HBoxModel",
            "_view_count": null,
            "_view_module": "@jupyter-widgets/controls",
            "_view_module_version": "1.5.0",
            "_view_name": "HBoxView",
            "box_style": "",
            "children": [
              "IPY_MODEL_7df6c46ab349473eb4c8028e08af07d5",
              "IPY_MODEL_fce4ac90b7544250a9cb8494263a5ddf",
              "IPY_MODEL_87d0e1595a3b468897d8fef3d7c7fb65"
            ],
            "layout": "IPY_MODEL_50dec3601dc142baac84b8fdf25674de"
          }
        },
        "7df6c46ab349473eb4c8028e08af07d5": {
          "model_module": "@jupyter-widgets/controls",
          "model_name": "HTMLModel",
          "model_module_version": "1.5.0",
          "state": {
            "_dom_classes": [],
            "_model_module": "@jupyter-widgets/controls",
            "_model_module_version": "1.5.0",
            "_model_name": "HTMLModel",
            "_view_count": null,
            "_view_module": "@jupyter-widgets/controls",
            "_view_module_version": "1.5.0",
            "_view_name": "HTMLView",
            "description": "",
            "description_tooltip": null,
            "layout": "IPY_MODEL_8d75860846d64c1cb7ee7ee15954e00d",
            "placeholder": "​",
            "style": "IPY_MODEL_f8ba1873dd834198836afe335290c5fb",
            "value": "Generating test examples...: 100%"
          }
        },
        "fce4ac90b7544250a9cb8494263a5ddf": {
          "model_module": "@jupyter-widgets/controls",
          "model_name": "FloatProgressModel",
          "model_module_version": "1.5.0",
          "state": {
            "_dom_classes": [],
            "_model_module": "@jupyter-widgets/controls",
            "_model_module_version": "1.5.0",
            "_model_name": "FloatProgressModel",
            "_view_count": null,
            "_view_module": "@jupyter-widgets/controls",
            "_view_module_version": "1.5.0",
            "_view_name": "ProgressView",
            "bar_style": "",
            "description": "",
            "description_tooltip": null,
            "layout": "IPY_MODEL_754a252d63d248acb4cd97ebb726e997",
            "max": 10000,
            "min": 0,
            "orientation": "horizontal",
            "style": "IPY_MODEL_a9e544273b79446da15d842c7d1bbb6a",
            "value": 10000
          }
        },
        "87d0e1595a3b468897d8fef3d7c7fb65": {
          "model_module": "@jupyter-widgets/controls",
          "model_name": "HTMLModel",
          "model_module_version": "1.5.0",
          "state": {
            "_dom_classes": [],
            "_model_module": "@jupyter-widgets/controls",
            "_model_module_version": "1.5.0",
            "_model_name": "HTMLModel",
            "_view_count": null,
            "_view_module": "@jupyter-widgets/controls",
            "_view_module_version": "1.5.0",
            "_view_name": "HTMLView",
            "description": "",
            "description_tooltip": null,
            "layout": "IPY_MODEL_bea1126c1b7b491c8f763d27cf6c1605",
            "placeholder": "​",
            "style": "IPY_MODEL_2650c99e19f14ae590c41fdf673f7eaf",
            "value": " 9964/10000 [00:08&lt;00:00, 1231.23 examples/s]"
          }
        },
        "50dec3601dc142baac84b8fdf25674de": {
          "model_module": "@jupyter-widgets/base",
          "model_name": "LayoutModel",
          "model_module_version": "1.2.0",
          "state": {
            "_model_module": "@jupyter-widgets/base",
            "_model_module_version": "1.2.0",
            "_model_name": "LayoutModel",
            "_view_count": null,
            "_view_module": "@jupyter-widgets/base",
            "_view_module_version": "1.2.0",
            "_view_name": "LayoutView",
            "align_content": null,
            "align_items": null,
            "align_self": null,
            "border": null,
            "bottom": null,
            "display": null,
            "flex": null,
            "flex_flow": null,
            "grid_area": null,
            "grid_auto_columns": null,
            "grid_auto_flow": null,
            "grid_auto_rows": null,
            "grid_column": null,
            "grid_gap": null,
            "grid_row": null,
            "grid_template_areas": null,
            "grid_template_columns": null,
            "grid_template_rows": null,
            "height": null,
            "justify_content": null,
            "justify_items": null,
            "left": null,
            "margin": null,
            "max_height": null,
            "max_width": null,
            "min_height": null,
            "min_width": null,
            "object_fit": null,
            "object_position": null,
            "order": null,
            "overflow": null,
            "overflow_x": null,
            "overflow_y": null,
            "padding": null,
            "right": null,
            "top": null,
            "visibility": "hidden",
            "width": null
          }
        },
        "8d75860846d64c1cb7ee7ee15954e00d": {
          "model_module": "@jupyter-widgets/base",
          "model_name": "LayoutModel",
          "model_module_version": "1.2.0",
          "state": {
            "_model_module": "@jupyter-widgets/base",
            "_model_module_version": "1.2.0",
            "_model_name": "LayoutModel",
            "_view_count": null,
            "_view_module": "@jupyter-widgets/base",
            "_view_module_version": "1.2.0",
            "_view_name": "LayoutView",
            "align_content": null,
            "align_items": null,
            "align_self": null,
            "border": null,
            "bottom": null,
            "display": null,
            "flex": null,
            "flex_flow": null,
            "grid_area": null,
            "grid_auto_columns": null,
            "grid_auto_flow": null,
            "grid_auto_rows": null,
            "grid_column": null,
            "grid_gap": null,
            "grid_row": null,
            "grid_template_areas": null,
            "grid_template_columns": null,
            "grid_template_rows": null,
            "height": null,
            "justify_content": null,
            "justify_items": null,
            "left": null,
            "margin": null,
            "max_height": null,
            "max_width": null,
            "min_height": null,
            "min_width": null,
            "object_fit": null,
            "object_position": null,
            "order": null,
            "overflow": null,
            "overflow_x": null,
            "overflow_y": null,
            "padding": null,
            "right": null,
            "top": null,
            "visibility": null,
            "width": null
          }
        },
        "f8ba1873dd834198836afe335290c5fb": {
          "model_module": "@jupyter-widgets/controls",
          "model_name": "DescriptionStyleModel",
          "model_module_version": "1.5.0",
          "state": {
            "_model_module": "@jupyter-widgets/controls",
            "_model_module_version": "1.5.0",
            "_model_name": "DescriptionStyleModel",
            "_view_count": null,
            "_view_module": "@jupyter-widgets/base",
            "_view_module_version": "1.2.0",
            "_view_name": "StyleView",
            "description_width": ""
          }
        },
        "754a252d63d248acb4cd97ebb726e997": {
          "model_module": "@jupyter-widgets/base",
          "model_name": "LayoutModel",
          "model_module_version": "1.2.0",
          "state": {
            "_model_module": "@jupyter-widgets/base",
            "_model_module_version": "1.2.0",
            "_model_name": "LayoutModel",
            "_view_count": null,
            "_view_module": "@jupyter-widgets/base",
            "_view_module_version": "1.2.0",
            "_view_name": "LayoutView",
            "align_content": null,
            "align_items": null,
            "align_self": null,
            "border": null,
            "bottom": null,
            "display": null,
            "flex": null,
            "flex_flow": null,
            "grid_area": null,
            "grid_auto_columns": null,
            "grid_auto_flow": null,
            "grid_auto_rows": null,
            "grid_column": null,
            "grid_gap": null,
            "grid_row": null,
            "grid_template_areas": null,
            "grid_template_columns": null,
            "grid_template_rows": null,
            "height": null,
            "justify_content": null,
            "justify_items": null,
            "left": null,
            "margin": null,
            "max_height": null,
            "max_width": null,
            "min_height": null,
            "min_width": null,
            "object_fit": null,
            "object_position": null,
            "order": null,
            "overflow": null,
            "overflow_x": null,
            "overflow_y": null,
            "padding": null,
            "right": null,
            "top": null,
            "visibility": null,
            "width": null
          }
        },
        "a9e544273b79446da15d842c7d1bbb6a": {
          "model_module": "@jupyter-widgets/controls",
          "model_name": "ProgressStyleModel",
          "model_module_version": "1.5.0",
          "state": {
            "_model_module": "@jupyter-widgets/controls",
            "_model_module_version": "1.5.0",
            "_model_name": "ProgressStyleModel",
            "_view_count": null,
            "_view_module": "@jupyter-widgets/base",
            "_view_module_version": "1.2.0",
            "_view_name": "StyleView",
            "bar_color": null,
            "description_width": ""
          }
        },
        "bea1126c1b7b491c8f763d27cf6c1605": {
          "model_module": "@jupyter-widgets/base",
          "model_name": "LayoutModel",
          "model_module_version": "1.2.0",
          "state": {
            "_model_module": "@jupyter-widgets/base",
            "_model_module_version": "1.2.0",
            "_model_name": "LayoutModel",
            "_view_count": null,
            "_view_module": "@jupyter-widgets/base",
            "_view_module_version": "1.2.0",
            "_view_name": "LayoutView",
            "align_content": null,
            "align_items": null,
            "align_self": null,
            "border": null,
            "bottom": null,
            "display": null,
            "flex": null,
            "flex_flow": null,
            "grid_area": null,
            "grid_auto_columns": null,
            "grid_auto_flow": null,
            "grid_auto_rows": null,
            "grid_column": null,
            "grid_gap": null,
            "grid_row": null,
            "grid_template_areas": null,
            "grid_template_columns": null,
            "grid_template_rows": null,
            "height": null,
            "justify_content": null,
            "justify_items": null,
            "left": null,
            "margin": null,
            "max_height": null,
            "max_width": null,
            "min_height": null,
            "min_width": null,
            "object_fit": null,
            "object_position": null,
            "order": null,
            "overflow": null,
            "overflow_x": null,
            "overflow_y": null,
            "padding": null,
            "right": null,
            "top": null,
            "visibility": null,
            "width": null
          }
        },
        "2650c99e19f14ae590c41fdf673f7eaf": {
          "model_module": "@jupyter-widgets/controls",
          "model_name": "DescriptionStyleModel",
          "model_module_version": "1.5.0",
          "state": {
            "_model_module": "@jupyter-widgets/controls",
            "_model_module_version": "1.5.0",
            "_model_name": "DescriptionStyleModel",
            "_view_count": null,
            "_view_module": "@jupyter-widgets/base",
            "_view_module_version": "1.2.0",
            "_view_name": "StyleView",
            "description_width": ""
          }
        },
        "e856fe7cd9ba4207a53035477858f089": {
          "model_module": "@jupyter-widgets/controls",
          "model_name": "HBoxModel",
          "model_module_version": "1.5.0",
          "state": {
            "_dom_classes": [],
            "_model_module": "@jupyter-widgets/controls",
            "_model_module_version": "1.5.0",
            "_model_name": "HBoxModel",
            "_view_count": null,
            "_view_module": "@jupyter-widgets/controls",
            "_view_module_version": "1.5.0",
            "_view_name": "HBoxView",
            "box_style": "",
            "children": [
              "IPY_MODEL_2b4ffc44b1d94756b1c5349dfeeaf2e9",
              "IPY_MODEL_08539ee237ba43d5808e840fe715070c",
              "IPY_MODEL_91fab1ee4fcd4eaaa1ede57d4938be80"
            ],
            "layout": "IPY_MODEL_83a84fb8ee754d6199173a6d39a323de"
          }
        },
        "2b4ffc44b1d94756b1c5349dfeeaf2e9": {
          "model_module": "@jupyter-widgets/controls",
          "model_name": "HTMLModel",
          "model_module_version": "1.5.0",
          "state": {
            "_dom_classes": [],
            "_model_module": "@jupyter-widgets/controls",
            "_model_module_version": "1.5.0",
            "_model_name": "HTMLModel",
            "_view_count": null,
            "_view_module": "@jupyter-widgets/controls",
            "_view_module_version": "1.5.0",
            "_view_name": "HTMLView",
            "description": "",
            "description_tooltip": null,
            "layout": "IPY_MODEL_855cb917d02c4135b1bb1d78a5864d1f",
            "placeholder": "​",
            "style": "IPY_MODEL_7182fbabead44f5599aecc479a507ff4",
            "value": "Shuffling ~/tensorflow_datasets/cifar10/3.0.2.incompleteV6UDKG/cifar10-test.tfrecord*...:  95%"
          }
        },
        "08539ee237ba43d5808e840fe715070c": {
          "model_module": "@jupyter-widgets/controls",
          "model_name": "FloatProgressModel",
          "model_module_version": "1.5.0",
          "state": {
            "_dom_classes": [],
            "_model_module": "@jupyter-widgets/controls",
            "_model_module_version": "1.5.0",
            "_model_name": "FloatProgressModel",
            "_view_count": null,
            "_view_module": "@jupyter-widgets/controls",
            "_view_module_version": "1.5.0",
            "_view_name": "ProgressView",
            "bar_style": "",
            "description": "",
            "description_tooltip": null,
            "layout": "IPY_MODEL_93eb631c63f14be6849f334c5d0ccd9d",
            "max": 10000,
            "min": 0,
            "orientation": "horizontal",
            "style": "IPY_MODEL_b31a2a44cb074715962bce282676cfd0",
            "value": 10000
          }
        },
        "91fab1ee4fcd4eaaa1ede57d4938be80": {
          "model_module": "@jupyter-widgets/controls",
          "model_name": "HTMLModel",
          "model_module_version": "1.5.0",
          "state": {
            "_dom_classes": [],
            "_model_module": "@jupyter-widgets/controls",
            "_model_module_version": "1.5.0",
            "_model_name": "HTMLModel",
            "_view_count": null,
            "_view_module": "@jupyter-widgets/controls",
            "_view_module_version": "1.5.0",
            "_view_name": "HTMLView",
            "description": "",
            "description_tooltip": null,
            "layout": "IPY_MODEL_762daa246dcc42578b6abf45910fc884",
            "placeholder": "​",
            "style": "IPY_MODEL_f9eca870f3e543a0bd97b9dfeb5c1a0a",
            "value": " 9467/10000 [00:00&lt;00:00, 94661.74 examples/s]"
          }
        },
        "83a84fb8ee754d6199173a6d39a323de": {
          "model_module": "@jupyter-widgets/base",
          "model_name": "LayoutModel",
          "model_module_version": "1.2.0",
          "state": {
            "_model_module": "@jupyter-widgets/base",
            "_model_module_version": "1.2.0",
            "_model_name": "LayoutModel",
            "_view_count": null,
            "_view_module": "@jupyter-widgets/base",
            "_view_module_version": "1.2.0",
            "_view_name": "LayoutView",
            "align_content": null,
            "align_items": null,
            "align_self": null,
            "border": null,
            "bottom": null,
            "display": null,
            "flex": null,
            "flex_flow": null,
            "grid_area": null,
            "grid_auto_columns": null,
            "grid_auto_flow": null,
            "grid_auto_rows": null,
            "grid_column": null,
            "grid_gap": null,
            "grid_row": null,
            "grid_template_areas": null,
            "grid_template_columns": null,
            "grid_template_rows": null,
            "height": null,
            "justify_content": null,
            "justify_items": null,
            "left": null,
            "margin": null,
            "max_height": null,
            "max_width": null,
            "min_height": null,
            "min_width": null,
            "object_fit": null,
            "object_position": null,
            "order": null,
            "overflow": null,
            "overflow_x": null,
            "overflow_y": null,
            "padding": null,
            "right": null,
            "top": null,
            "visibility": "hidden",
            "width": null
          }
        },
        "855cb917d02c4135b1bb1d78a5864d1f": {
          "model_module": "@jupyter-widgets/base",
          "model_name": "LayoutModel",
          "model_module_version": "1.2.0",
          "state": {
            "_model_module": "@jupyter-widgets/base",
            "_model_module_version": "1.2.0",
            "_model_name": "LayoutModel",
            "_view_count": null,
            "_view_module": "@jupyter-widgets/base",
            "_view_module_version": "1.2.0",
            "_view_name": "LayoutView",
            "align_content": null,
            "align_items": null,
            "align_self": null,
            "border": null,
            "bottom": null,
            "display": null,
            "flex": null,
            "flex_flow": null,
            "grid_area": null,
            "grid_auto_columns": null,
            "grid_auto_flow": null,
            "grid_auto_rows": null,
            "grid_column": null,
            "grid_gap": null,
            "grid_row": null,
            "grid_template_areas": null,
            "grid_template_columns": null,
            "grid_template_rows": null,
            "height": null,
            "justify_content": null,
            "justify_items": null,
            "left": null,
            "margin": null,
            "max_height": null,
            "max_width": null,
            "min_height": null,
            "min_width": null,
            "object_fit": null,
            "object_position": null,
            "order": null,
            "overflow": null,
            "overflow_x": null,
            "overflow_y": null,
            "padding": null,
            "right": null,
            "top": null,
            "visibility": null,
            "width": null
          }
        },
        "7182fbabead44f5599aecc479a507ff4": {
          "model_module": "@jupyter-widgets/controls",
          "model_name": "DescriptionStyleModel",
          "model_module_version": "1.5.0",
          "state": {
            "_model_module": "@jupyter-widgets/controls",
            "_model_module_version": "1.5.0",
            "_model_name": "DescriptionStyleModel",
            "_view_count": null,
            "_view_module": "@jupyter-widgets/base",
            "_view_module_version": "1.2.0",
            "_view_name": "StyleView",
            "description_width": ""
          }
        },
        "93eb631c63f14be6849f334c5d0ccd9d": {
          "model_module": "@jupyter-widgets/base",
          "model_name": "LayoutModel",
          "model_module_version": "1.2.0",
          "state": {
            "_model_module": "@jupyter-widgets/base",
            "_model_module_version": "1.2.0",
            "_model_name": "LayoutModel",
            "_view_count": null,
            "_view_module": "@jupyter-widgets/base",
            "_view_module_version": "1.2.0",
            "_view_name": "LayoutView",
            "align_content": null,
            "align_items": null,
            "align_self": null,
            "border": null,
            "bottom": null,
            "display": null,
            "flex": null,
            "flex_flow": null,
            "grid_area": null,
            "grid_auto_columns": null,
            "grid_auto_flow": null,
            "grid_auto_rows": null,
            "grid_column": null,
            "grid_gap": null,
            "grid_row": null,
            "grid_template_areas": null,
            "grid_template_columns": null,
            "grid_template_rows": null,
            "height": null,
            "justify_content": null,
            "justify_items": null,
            "left": null,
            "margin": null,
            "max_height": null,
            "max_width": null,
            "min_height": null,
            "min_width": null,
            "object_fit": null,
            "object_position": null,
            "order": null,
            "overflow": null,
            "overflow_x": null,
            "overflow_y": null,
            "padding": null,
            "right": null,
            "top": null,
            "visibility": null,
            "width": null
          }
        },
        "b31a2a44cb074715962bce282676cfd0": {
          "model_module": "@jupyter-widgets/controls",
          "model_name": "ProgressStyleModel",
          "model_module_version": "1.5.0",
          "state": {
            "_model_module": "@jupyter-widgets/controls",
            "_model_module_version": "1.5.0",
            "_model_name": "ProgressStyleModel",
            "_view_count": null,
            "_view_module": "@jupyter-widgets/base",
            "_view_module_version": "1.2.0",
            "_view_name": "StyleView",
            "bar_color": null,
            "description_width": ""
          }
        },
        "762daa246dcc42578b6abf45910fc884": {
          "model_module": "@jupyter-widgets/base",
          "model_name": "LayoutModel",
          "model_module_version": "1.2.0",
          "state": {
            "_model_module": "@jupyter-widgets/base",
            "_model_module_version": "1.2.0",
            "_model_name": "LayoutModel",
            "_view_count": null,
            "_view_module": "@jupyter-widgets/base",
            "_view_module_version": "1.2.0",
            "_view_name": "LayoutView",
            "align_content": null,
            "align_items": null,
            "align_self": null,
            "border": null,
            "bottom": null,
            "display": null,
            "flex": null,
            "flex_flow": null,
            "grid_area": null,
            "grid_auto_columns": null,
            "grid_auto_flow": null,
            "grid_auto_rows": null,
            "grid_column": null,
            "grid_gap": null,
            "grid_row": null,
            "grid_template_areas": null,
            "grid_template_columns": null,
            "grid_template_rows": null,
            "height": null,
            "justify_content": null,
            "justify_items": null,
            "left": null,
            "margin": null,
            "max_height": null,
            "max_width": null,
            "min_height": null,
            "min_width": null,
            "object_fit": null,
            "object_position": null,
            "order": null,
            "overflow": null,
            "overflow_x": null,
            "overflow_y": null,
            "padding": null,
            "right": null,
            "top": null,
            "visibility": null,
            "width": null
          }
        },
        "f9eca870f3e543a0bd97b9dfeb5c1a0a": {
          "model_module": "@jupyter-widgets/controls",
          "model_name": "DescriptionStyleModel",
          "model_module_version": "1.5.0",
          "state": {
            "_model_module": "@jupyter-widgets/controls",
            "_model_module_version": "1.5.0",
            "_model_name": "DescriptionStyleModel",
            "_view_count": null,
            "_view_module": "@jupyter-widgets/base",
            "_view_module_version": "1.2.0",
            "_view_name": "StyleView",
            "description_width": ""
          }
        }
      }
    }
  },
  "cells": [
    {
      "cell_type": "markdown",
      "metadata": {
        "id": "view-in-github",
        "colab_type": "text"
      },
      "source": [
        "<a href=\"https://colab.research.google.com/github/EladAriel/Tensorflow/blob/main/CIFAR_10_Classification_with_Tensorflow.ipynb\" target=\"_parent\"><img src=\"https://colab.research.google.com/assets/colab-badge.svg\" alt=\"Open In Colab\"/></a>"
      ]
    },
    {
      "cell_type": "markdown",
      "source": [
        "# General Information Regarding the CIFAR-10 Database"
      ],
      "metadata": {
        "id": "hmCT1kypuvle"
      }
    },
    {
      "cell_type": "markdown",
      "source": [
        "The CIFAR-10 dataset consists of 60000 32x32 colour images in 10 classes, with 6000 images per class. There are 50000 training images and 10000 test images.\n",
        "\n",
        "Since we are dealing with large database, I'm going to use mixed precision training. The mixed precision training uses a combination of single precision (float32) and half-preicison (float16) data types to speed up model training (up 3x on modern GPUs).\n",
        "\n",
        "For mixed precision training to work, I need access to a GPU with a compute compability score of 7.0+. Google Colab offers T4 GPU."
      ],
      "metadata": {
        "id": "2GEwQkC8ux5u"
      }
    },
    {
      "cell_type": "markdown",
      "source": [
        "# Check GPU"
      ],
      "metadata": {
        "id": "ItW4j7o7cEVh"
      }
    },
    {
      "cell_type": "code",
      "source": [
        "# Check GPU\n",
        "!nvidia-smi -L"
      ],
      "metadata": {
        "colab": {
          "base_uri": "https://localhost:8080/"
        },
        "id": "8llc3Q6ScSWB",
        "outputId": "fbcbdbd4-f0ce-4119-a5a8-73b3b5288565"
      },
      "execution_count": 1,
      "outputs": [
        {
          "output_type": "stream",
          "name": "stdout",
          "text": [
            "GPU 0: Tesla T4 (UUID: GPU-28c72589-2465-9949-d62a-198b9f0651d8)\n"
          ]
        }
      ]
    },
    {
      "cell_type": "markdown",
      "source": [
        "# Check TensorFlow Version"
      ],
      "metadata": {
        "id": "KE3oUlklcVpq"
      }
    },
    {
      "cell_type": "code",
      "source": [
        "# Check TensorFlow version (should be 2.4.0+)\n",
        "import tensorflow as tf\n",
        "print(f\"The TensorFlow Version is: {tf.__version__}\")"
      ],
      "metadata": {
        "colab": {
          "base_uri": "https://localhost:8080/"
        },
        "id": "8GZLIIObcb8w",
        "outputId": "c776f075-0270-48d4-f1d3-eb4ee2031ffa"
      },
      "execution_count": 5,
      "outputs": [
        {
          "output_type": "stream",
          "name": "stdout",
          "text": [
            "The TensorFlow Version is: 2.8.2\n"
          ]
        }
      ]
    },
    {
      "cell_type": "markdown",
      "source": [
        "# Downloading and Preprocessing the Data"
      ],
      "metadata": {
        "id": "_y1gUgEdccRQ"
      }
    },
    {
      "cell_type": "code",
      "source": [
        "# Get TensorFlow datasets\n",
        "import tensorflow_datasets as tfds\n",
        "\n",
        "# List available datasets\n",
        "datasets_list = tfds.list_builders() # get all available datasets in TFDS\n",
        "print(\"cifar10\" in datasets_list) # is the dataset we're after available?"
      ],
      "metadata": {
        "colab": {
          "base_uri": "https://localhost:8080/"
        },
        "id": "Y3W5_E9Ece9Q",
        "outputId": "7b57e878-6b37-4766-8f6a-550d12de8103"
      },
      "execution_count": 9,
      "outputs": [
        {
          "output_type": "stream",
          "name": "stdout",
          "text": [
            "True\n"
          ]
        }
      ]
    },
    {
      "cell_type": "markdown",
      "source": [
        "### Load the Data"
      ],
      "metadata": {
        "id": "hQItvJsecoJb"
      }
    },
    {
      "cell_type": "code",
      "execution_count": 10,
      "metadata": {
        "id": "veQNM_UYg4rO",
        "colab": {
          "base_uri": "https://localhost:8080/",
          "height": 252,
          "referenced_widgets": [
            "dd816b53e99747f5af7c952e87783d4a",
            "30c1d0c9a185404484ace9d4eaa3d231",
            "48633886ede34026a511df4e10529d76",
            "b5852cadb76b4fb1ae72a2074ae41d97",
            "0b9ef5f4bae7403db4b021eb6154cc07",
            "55611865deec4363a100ad9e6024c073",
            "7145b10f2964411e802ede05c2afd2d4",
            "6d3473aa6472488ba263495d43a495f1",
            "f1bed869ced64d9a839070e917fc633a",
            "4193038dd96b4490bf389a00257914b7",
            "92b68dc2de844ef794db51764c13587e",
            "4ac8d842ac29484e947febc5d91be4ff",
            "a207373ccf7c4c35b24e010dd8208e28",
            "91c6fc75ea0c4c459ab67244c967bdfe",
            "98081ea437f645b8b0c4aa544a0bb8e0",
            "d58fe23ebd1141ad96c6a491902da426",
            "659727b267c640f79ba6d53baa0e899f",
            "68a8c13c9749496b99a489434701a0b3",
            "9cac6091ca72453a812d64a5501744f9",
            "54e84021366e41c4856c709e1a900f45",
            "3348ca6d3d4f447cb7008c7db6c0061a",
            "eeb11e67c56c477b86931a7c9057eb5d",
            "3823641ec13740029d77a672965e3946",
            "01c52745a713445c9c7dfa929c99877d",
            "024addcd823a4f8392f3c7fe9262860e",
            "eccde5a813e54783bb7fd42e39043968",
            "bf36f9335e0f47bb9301fd4740c05a73",
            "639a183c19ee44f8a543b890913008d8",
            "bf5c099aaddc40e3bde098e502eb8671",
            "b2536a41961f4dbb8de9292683ea5750",
            "95df33de0410483bb526bff07c2d3a86",
            "3dd7680b6c8c40d082ee0f2aad75d940",
            "64f3dbdf12a5472888d27f9f549b5c36",
            "fa7353ff6bea4333b62be75c87a2a969",
            "4cd17c750f5242a7bc58fba6bbfcfddc",
            "2b95d67ff25f4d998adff3d550d07863",
            "7496afb579c64c7fac40d71571832d1d",
            "ee70880aff5440fdb07f7584d5f0d965",
            "340f40aaa3c8460e9ed52ef518705da4",
            "5c4d3f8cb68642dcb1d64f25cbdc43e5",
            "625981bb40d54becbbc83fcf67a83fa5",
            "2d4b4762f64a4afb83089616034f7ed3",
            "f5aa7db8c5a94e46a76aa23ec78865c9",
            "77db4773df144302b87925c0babeaec3",
            "c1a439887c044129a4526a6f3fb1dee1",
            "b1830f43c8d84126b80b80a1b720f951",
            "d16346d409e94d1f908382c6ace8cbb9",
            "25d9362ee44b403397975ff1c81bea0a",
            "1a9d05cb5d324a7d9fe92e98b7cd4b88",
            "5362e46b6e3b4564adfd5ac58b67871f",
            "2fde5545068d43e5b63995d48558941f",
            "d2cc4b62971a4789b43fca40ff209bd6",
            "4661e0186e544fefbe4946a1e77bc57c",
            "5895978dfea143a2ba789001af0878e2",
            "ab0cdbafc66046b68b9085eaf2ef2981",
            "2b72a6bf9f8640d4ace5d97e3cc9e8f6",
            "ad60e82139114aca8e5967e80ddd2f1a",
            "be49d8dfee0d4845817c84fcd813e313",
            "7e17373869814eb186f84d8834bcb549",
            "c195662ee6564bbfa70e3629583b1691",
            "fdf602ded98a4fe29ee96bd36d6bd597",
            "77095cc5ceec45169dea3a02f23b7efc",
            "5655a278f4264eeb8c9e513a6fa6c3d6",
            "3161e77338c4433fb612f3f0d3a26d00",
            "44a5e9b7ae224a449228511580215ad6",
            "e5c3f76b6c454ac8bb17ef51df5d0564",
            "420527d63f734af6af674a67b9e360d8",
            "7df6c46ab349473eb4c8028e08af07d5",
            "fce4ac90b7544250a9cb8494263a5ddf",
            "87d0e1595a3b468897d8fef3d7c7fb65",
            "50dec3601dc142baac84b8fdf25674de",
            "8d75860846d64c1cb7ee7ee15954e00d",
            "f8ba1873dd834198836afe335290c5fb",
            "754a252d63d248acb4cd97ebb726e997",
            "a9e544273b79446da15d842c7d1bbb6a",
            "bea1126c1b7b491c8f763d27cf6c1605",
            "2650c99e19f14ae590c41fdf673f7eaf",
            "e856fe7cd9ba4207a53035477858f089",
            "2b4ffc44b1d94756b1c5349dfeeaf2e9",
            "08539ee237ba43d5808e840fe715070c",
            "91fab1ee4fcd4eaaa1ede57d4938be80",
            "83a84fb8ee754d6199173a6d39a323de",
            "855cb917d02c4135b1bb1d78a5864d1f",
            "7182fbabead44f5599aecc479a507ff4",
            "93eb631c63f14be6849f334c5d0ccd9d",
            "b31a2a44cb074715962bce282676cfd0",
            "762daa246dcc42578b6abf45910fc884",
            "f9eca870f3e543a0bd97b9dfeb5c1a0a"
          ]
        },
        "outputId": "2bb0c1fc-842b-4df0-e2ae-e380f79da85d"
      },
      "outputs": [
        {
          "output_type": "stream",
          "name": "stdout",
          "text": [
            "\u001b[1mDownloading and preparing dataset 162.17 MiB (download: 162.17 MiB, generated: 132.40 MiB, total: 294.58 MiB) to ~/tensorflow_datasets/cifar10/3.0.2...\u001b[0m\n"
          ]
        },
        {
          "output_type": "display_data",
          "data": {
            "text/plain": [
              "Dl Completed...: 0 url [00:00, ? url/s]"
            ],
            "application/vnd.jupyter.widget-view+json": {
              "version_major": 2,
              "version_minor": 0,
              "model_id": "dd816b53e99747f5af7c952e87783d4a"
            }
          },
          "metadata": {}
        },
        {
          "output_type": "display_data",
          "data": {
            "text/plain": [
              "Dl Size...: 0 MiB [00:00, ? MiB/s]"
            ],
            "application/vnd.jupyter.widget-view+json": {
              "version_major": 2,
              "version_minor": 0,
              "model_id": "4ac8d842ac29484e947febc5d91be4ff"
            }
          },
          "metadata": {}
        },
        {
          "output_type": "display_data",
          "data": {
            "text/plain": [
              "Extraction completed...: 0 file [00:00, ? file/s]"
            ],
            "application/vnd.jupyter.widget-view+json": {
              "version_major": 2,
              "version_minor": 0,
              "model_id": "3823641ec13740029d77a672965e3946"
            }
          },
          "metadata": {}
        },
        {
          "output_type": "display_data",
          "data": {
            "text/plain": [
              "Generating splits...:   0%|          | 0/2 [00:00<?, ? splits/s]"
            ],
            "application/vnd.jupyter.widget-view+json": {
              "version_major": 2,
              "version_minor": 0,
              "model_id": "fa7353ff6bea4333b62be75c87a2a969"
            }
          },
          "metadata": {}
        },
        {
          "output_type": "display_data",
          "data": {
            "text/plain": [
              "Generating train examples...:   0%|          | 0/50000 [00:00<?, ? examples/s]"
            ],
            "application/vnd.jupyter.widget-view+json": {
              "version_major": 2,
              "version_minor": 0,
              "model_id": "c1a439887c044129a4526a6f3fb1dee1"
            }
          },
          "metadata": {}
        },
        {
          "output_type": "display_data",
          "data": {
            "text/plain": [
              "Shuffling ~/tensorflow_datasets/cifar10/3.0.2.incompleteV6UDKG/cifar10-train.tfrecord*...:   0%|          | 0/…"
            ],
            "application/vnd.jupyter.widget-view+json": {
              "version_major": 2,
              "version_minor": 0,
              "model_id": "2b72a6bf9f8640d4ace5d97e3cc9e8f6"
            }
          },
          "metadata": {}
        },
        {
          "output_type": "display_data",
          "data": {
            "text/plain": [
              "Generating test examples...:   0%|          | 0/10000 [00:00<?, ? examples/s]"
            ],
            "application/vnd.jupyter.widget-view+json": {
              "version_major": 2,
              "version_minor": 0,
              "model_id": "420527d63f734af6af674a67b9e360d8"
            }
          },
          "metadata": {}
        },
        {
          "output_type": "display_data",
          "data": {
            "text/plain": [
              "Shuffling ~/tensorflow_datasets/cifar10/3.0.2.incompleteV6UDKG/cifar10-test.tfrecord*...:   0%|          | 0/1…"
            ],
            "application/vnd.jupyter.widget-view+json": {
              "version_major": 2,
              "version_minor": 0,
              "model_id": "e856fe7cd9ba4207a53035477858f089"
            }
          },
          "metadata": {}
        },
        {
          "output_type": "stream",
          "name": "stdout",
          "text": [
            "\u001b[1mDataset cifar10 downloaded and prepared to ~/tensorflow_datasets/cifar10/3.0.2. Subsequent calls will reuse this data.\u001b[0m\n",
            "\n",
            "Number of examples: 60000         \n",
            "Number of train images: 50000         \n",
            "Number of test images: 10000         \n",
            "Num of classes: 10         \n",
            "Class names: ['airplane', 'automobile', 'bird', 'cat', 'deer', 'dog', 'frog', 'horse', 'ship', 'truck']\n"
          ]
        }
      ],
      "source": [
        "# Load in the data\n",
        "(test_data, train_data), ds_info = tfds.load(name=\"cifar10\",                                           \n",
        "                                             split=['test','train'],\n",
        "                                             shuffle_files=True,\n",
        "                                             as_supervised=True,\n",
        "                                             with_info=True)\n",
        "\n",
        "# Print information about the dataset\n",
        "num_train = len(train_data)\n",
        "num_test  = len(test_data)\n",
        "num_examples = num_test + num_train\n",
        "num_classes = ds_info.features[\"label\"].num_classes\n",
        "class_names = ds_info.features[\"label\"].names\n",
        "\n",
        "print(f'\\nNumber of examples: {num_examples} \\\n",
        "        \\nNumber of train images: {num_train} \\\n",
        "        \\nNumber of test images: {num_test} \\\n",
        "        \\nNum of classes: {num_classes} \\\n",
        "        \\nClass names: {class_names}')"
      ]
    },
    {
      "cell_type": "markdown",
      "source": [
        "### Exploring the CIFAR-10 Data from TensorFlow Datasets"
      ],
      "metadata": {
        "id": "Bn8RI5mbdT15"
      }
    },
    {
      "cell_type": "code",
      "source": [
        "# Take one sample off the training data\n",
        "train_sample = train_data.take(1)\n",
        "\n",
        "# Output info about our training sample\n",
        "for image, label in train_sample:\n",
        "  print(f\"\"\"\n",
        "  Image shape: {image.shape}\n",
        "  Image dtype: {image.dtype}\n",
        "  Target class from CIFAR-100 (tensor form): {label}\n",
        "  Class name (str form): {class_names[label.numpy()]}\n",
        "        \"\"\")"
      ],
      "metadata": {
        "colab": {
          "base_uri": "https://localhost:8080/"
        },
        "id": "XNfNP6fLdmz4",
        "outputId": "71105a2c-cabc-4a42-98a3-2dbf87e00416"
      },
      "execution_count": 11,
      "outputs": [
        {
          "output_type": "stream",
          "name": "stdout",
          "text": [
            "\n",
            "  Image shape: (32, 32, 3)\n",
            "  Image dtype: <dtype: 'uint8'>\n",
            "  Target class from CIFAR-100 (tensor form): 7\n",
            "  Class name (str form): horse\n",
            "        \n"
          ]
        }
      ]
    },
    {
      "cell_type": "code",
      "source": [
        "# What does an image tensor from TFDS's cifar10 look like?\n",
        "image"
      ],
      "metadata": {
        "colab": {
          "base_uri": "https://localhost:8080/"
        },
        "id": "HbCP_a6Pdx-4",
        "outputId": "067f67b5-5a90-4c8c-d322-fccf1beb0afa"
      },
      "execution_count": 12,
      "outputs": [
        {
          "output_type": "execute_result",
          "data": {
            "text/plain": [
              "<tf.Tensor: shape=(32, 32, 3), dtype=uint8, numpy=\n",
              "array([[[143,  96,  70],\n",
              "        [141,  96,  72],\n",
              "        [135,  93,  72],\n",
              "        ...,\n",
              "        [ 96,  37,  19],\n",
              "        [105,  42,  18],\n",
              "        [104,  38,  20]],\n",
              "\n",
              "       [[128,  98,  92],\n",
              "        [146, 118, 112],\n",
              "        [170, 145, 138],\n",
              "        ...,\n",
              "        [108,  45,  26],\n",
              "        [112,  44,  24],\n",
              "        [112,  41,  22]],\n",
              "\n",
              "       [[ 93,  69,  75],\n",
              "        [118,  96, 101],\n",
              "        [179, 160, 162],\n",
              "        ...,\n",
              "        [128,  68,  47],\n",
              "        [125,  61,  42],\n",
              "        [122,  59,  39]],\n",
              "\n",
              "       ...,\n",
              "\n",
              "       [[187, 150, 123],\n",
              "        [184, 148, 123],\n",
              "        [179, 142, 121],\n",
              "        ...,\n",
              "        [198, 163, 132],\n",
              "        [201, 166, 135],\n",
              "        [207, 174, 143]],\n",
              "\n",
              "       [[187, 150, 117],\n",
              "        [181, 143, 115],\n",
              "        [175, 136, 113],\n",
              "        ...,\n",
              "        [201, 164, 132],\n",
              "        [205, 168, 135],\n",
              "        [207, 171, 139]],\n",
              "\n",
              "       [[195, 161, 126],\n",
              "        [187, 153, 123],\n",
              "        [186, 151, 128],\n",
              "        ...,\n",
              "        [212, 177, 147],\n",
              "        [219, 185, 155],\n",
              "        [221, 187, 157]]], dtype=uint8)>"
            ]
          },
          "metadata": {},
          "execution_count": 12
        }
      ]
    },
    {
      "cell_type": "code",
      "source": [
        "# What are the min and max values?\n",
        "print(f\"The image min value is: {tf.reduce_min(image)}\")\n",
        "print(f\"The image max value is: {tf.reduce_max(image)}\")"
      ],
      "metadata": {
        "colab": {
          "base_uri": "https://localhost:8080/"
        },
        "id": "qSA9UZGeeZWb",
        "outputId": "c3e878bf-0325-494d-9d6a-d36683f8f299"
      },
      "execution_count": 15,
      "outputs": [
        {
          "output_type": "stream",
          "name": "stdout",
          "text": [
            "The image min value is: 0\n",
            "The image max value is: 249\n"
          ]
        }
      ]
    },
    {
      "cell_type": "markdown",
      "source": [
        "### Plot an image from TFDS"
      ],
      "metadata": {
        "id": "gGvCybvyfCeS"
      }
    },
    {
      "cell_type": "code",
      "source": [
        "# Plot an image tensor\n",
        "import matplotlib.pyplot as plt\n",
        "plt.figure(figsize=(10, 7))\n",
        "plt.imshow(image)\n",
        "plt.title(class_names[label]) # add title to image by indexing on class_names list\n",
        "plt.axis(False);"
      ],
      "metadata": {
        "colab": {
          "base_uri": "https://localhost:8080/",
          "height": 427
        },
        "id": "9NgMY3ubfKAp",
        "outputId": "877ce51b-b0fc-4cdf-ba33-0e17b9e829e9"
      },
      "execution_count": 16,
      "outputs": [
        {
          "output_type": "display_data",
          "data": {
            "text/plain": [
              "<Figure size 720x504 with 1 Axes>"
            ],
            "image/png": "[encoded data removed]"
          },
          "metadata": {
            "needs_background": "light"
          }
        }
      ]
    },
    {
      "cell_type": "markdown",
      "source": [
        "### Create Preprocessing Functions for Our Data"
      ],
      "metadata": {
        "id": "usX4vWDifLp4"
      }
    },
    {
      "cell_type": "markdown",
      "metadata": {
        "id": "kGgybl0Oi75T"
      },
      "source": [
        "A few notes:\n",
        "\n",
        "our data is currently:\n",
        "*   In `uint8` data type\n",
        "*   Comprised of different sized images\n",
        "*   Not scaled\n",
        "\n",
        "our data shoud be:\n",
        "*   In `float32` data type (or `float16`)\n",
        "*   Comprised of images with the same size\n",
        "*   scaled"
      ]
    },
    {
      "cell_type": "code",
      "source": [
        "# Make a function for preprocessing images\n",
        "def preprocess_img(image, label, img_shape):\n",
        "  \"\"\"\n",
        "  Reshapes image to [img_shape, img_shape, color_channels],\n",
        "  Converts image datatype from 'uint8' -> 'float32' and normalize it,\n",
        "  One hot encode the label\n",
        "\n",
        "  Args:\n",
        "    image: An image from the dataset\n",
        "    label: The corresponding label to the image\n",
        "    img_shape: Set the image shape\n",
        "\n",
        "  Returns:\n",
        "    (float32_image, label) tuple\n",
        "  \"\"\"\n",
        "  image = tf.image.resize(image, [img_shape, img_shape]) # reshape to img_shape\n",
        "  return tf.cast(image, tf.float32)/255., tf.one_hot(label, depth=num_classes)"
      ],
      "metadata": {
        "id": "c6Fztj39AV1p"
      },
      "execution_count": 17,
      "outputs": []
    },
    {
      "cell_type": "code",
      "source": [
        "# Preprocess a single sample image and check the outputs\n",
        "preprocessed_img = preprocess_img(image, label, img_shape=224)[0]\n",
        "print(f\"Image before preprocessing:\\n {image[:2]}...,\\n\\nShape: {image.shape},\\n\\nDatatype: {image.dtype}\\n\")\n",
        "print(f\"Image after preprocessing:\\n {preprocessed_img[:2]}...,\\n\\nShape: {preprocessed_img.shape},\\n\\nDatatype: {preprocessed_img.dtype}\")"
      ],
      "metadata": {
        "colab": {
          "base_uri": "https://localhost:8080/"
        },
        "id": "J_6aQm1efm7w",
        "outputId": "b111ebaf-e6bf-4d25-b4a8-0b54e4710ed6"
      },
      "execution_count": 18,
      "outputs": [
        {
          "output_type": "stream",
          "name": "stdout",
          "text": [
            "Image before preprocessing:\n",
            " [[[143  96  70]\n",
            "  [141  96  72]\n",
            "  [135  93  72]\n",
            "  [136  96  78]\n",
            "  [131  86  63]\n",
            "  [127  74  44]\n",
            "  [131  75  46]\n",
            "  [124  65  38]\n",
            "  [117  54  29]\n",
            "  [121  55  30]\n",
            "  [113  45  20]\n",
            "  [112  46  21]\n",
            "  [116  50  29]\n",
            "  [ 88  31  23]\n",
            "  [ 42  12  16]\n",
            "  [ 30  14  20]\n",
            "  [ 34  20  23]\n",
            "  [ 26  16  19]\n",
            "  [ 18   9  14]\n",
            "  [ 21   7  16]\n",
            "  [ 42  15  24]\n",
            "  [ 83  28  26]\n",
            "  [ 96  32  21]\n",
            "  [100  35  19]\n",
            "  [ 99  30  13]\n",
            "  [104  31  18]\n",
            "  [105  31  16]\n",
            "  [ 97  28  20]\n",
            "  [ 86  23  20]\n",
            "  [ 96  37  19]\n",
            "  [105  42  18]\n",
            "  [104  38  20]]\n",
            "\n",
            " [[128  98  92]\n",
            "  [146 118 112]\n",
            "  [170 145 138]\n",
            "  [163 140 133]\n",
            "  [155 124 110]\n",
            "  [155 114  93]\n",
            "  [156 115  95]\n",
            "  [146 104  86]\n",
            "  [145 103  86]\n",
            "  [147 102  87]\n",
            "  [141  87  72]\n",
            "  [120  63  46]\n",
            "  [121  71  53]\n",
            "  [101  64  52]\n",
            "  [ 67  43  39]\n",
            "  [ 42  21  22]\n",
            "  [ 65  43  44]\n",
            "  [ 74  57  57]\n",
            "  [ 60  45  46]\n",
            "  [ 42  23  29]\n",
            "  [ 43  16  23]\n",
            "  [ 55  16  17]\n",
            "  [ 76  30  22]\n",
            "  [103  47  30]\n",
            "  [111  45  22]\n",
            "  [118  45  24]\n",
            "  [114  45  23]\n",
            "  [102  37  25]\n",
            "  [ 93  29  21]\n",
            "  [108  45  26]\n",
            "  [112  44  24]\n",
            "  [112  41  22]]]...,\n",
            "\n",
            "Shape: (32, 32, 3),\n",
            "\n",
            "Datatype: <dtype: 'uint8'>\n",
            "\n",
            "Image after preprocessing:\n",
            " [[[0.56078434 0.3764706  0.27450982]\n",
            "  [0.56078434 0.3764706  0.27450982]\n",
            "  [0.56078434 0.3764706  0.27450982]\n",
            "  ...\n",
            "  [0.40784314 0.14901961 0.07843138]\n",
            "  [0.40784314 0.14901961 0.07843138]\n",
            "  [0.40784314 0.14901961 0.07843138]]\n",
            "\n",
            " [[0.56078434 0.3764706  0.27450982]\n",
            "  [0.56078434 0.3764706  0.27450982]\n",
            "  [0.56078434 0.3764706  0.27450982]\n",
            "  ...\n",
            "  [0.40784314 0.14901961 0.07843138]\n",
            "  [0.40784314 0.14901961 0.07843138]\n",
            "  [0.40784314 0.14901961 0.07843138]]]...,\n",
            "\n",
            "Shape: (224, 224, 3),\n",
            "\n",
            "Datatype: <dtype: 'float32'>\n"
          ]
        }
      ]
    },
    {
      "cell_type": "code",
      "source": [
        "# Plot an image tensor\n",
        "plt.figure(figsize=(10, 7))\n",
        "plt.imshow(preprocessed_img)\n",
        "plt.title(class_names[label])\n",
        "plt.axis(False);"
      ],
      "metadata": {
        "colab": {
          "base_uri": "https://localhost:8080/",
          "height": 427
        },
        "id": "WOKTcmQXftmo",
        "outputId": "b0e6090c-b9a1-46df-c157-538544416f6f"
      },
      "execution_count": 19,
      "outputs": [
        {
          "output_type": "display_data",
          "data": {
            "text/plain": [
              "<Figure size 720x504 with 1 Axes>"
            ],
            "image/png": "[encoded data removed]"
          },
          "metadata": {
            "needs_background": "light"
          }
        }
      ]
    },
    {
      "cell_type": "markdown",
      "source": [
        "### Batch & Prepare the CIFAR-10 Dataset"
      ],
      "metadata": {
        "id": "q50piQPMf4NQ"
      }
    },
    {
      "cell_type": "markdown",
      "metadata": {
        "id": "DecxcDKJjN2n"
      },
      "source": [
        "The purpose is to turn the data into batches, since computing on batches is memory efficient.\n",
        "I'm turning the data into batches of 32 image and label pairs,thus enabling it to fit into the memory of the GPU.\n",
        "\n",
        "`map()` - maps the preprocess_img function to the CIFAR-10 dataset.\n",
        "\n",
        "`shuffle()` - randomaly shuffles the elements of the CIFAR-10 up buffer_size.\n",
        "\n",
        "`batch()` - turns elements of the CIFAR-10 dataset into batches.\n",
        "\n",
        "`prefetch()` - prepares subsequent batches of data whilst other batches of data are being computed on."
      ]
    },
    {
      "cell_type": "code",
      "source": [
        "def preprocess_data(train, test, batch_size, img_shape):\n",
        "  \"\"\"\n",
        "  Turn the data into batches, since computing on batches is memory efficient.\n",
        "\n",
        "  Args:\n",
        "    train: Set train dataset\n",
        "    test : Set test dataset\n",
        "    batch_size: Set batch_size. For our model it will be set to 32.\n",
        "    img_shape: Set the image shape\n",
        "\n",
        "  Returns:\n",
        "    (train_data, test_data) tuple\n",
        "  \"\"\"\n",
        "  # Map preprocessing function to training data (and paralellize)\n",
        "  train_data = train.map(lambda image, label: preprocess_img(image, label, img_shape), num_parallel_calls=tf.data.AUTOTUNE)\n",
        "\n",
        "  # Shuffle train_data and turn it into batches and prefetch it (load it faster)\n",
        "  train_data = train_data.shuffle(buffer_size=1000).batch(batch_size).prefetch(buffer_size=tf.data.AUTOTUNE)\n",
        "\n",
        "  # Map prepreprocessing function to test data\n",
        "  test_data = test.map(lambda image, label: preprocess_img(image, label, img_shape), num_parallel_calls=tf.data.AUTOTUNE)\n",
        "\n",
        "  # Turn test data into batches (don't need to shuffle)\n",
        "  test_data = test_data.batch(batch_size).prefetch(tf.data.AUTOTUNE)\n",
        "\n",
        "  return train_data, test_data"
      ],
      "metadata": {
        "id": "7jg-9YIkf9OQ"
      },
      "execution_count": 20,
      "outputs": []
    },
    {
      "cell_type": "code",
      "source": [
        "# Run preprocessing function\n",
        "train_224, test_224 = preprocess_data(train=train_data, test=test_data, batch_size=32, img_shape=224)\n",
        "train_331, test_331 = preprocess_data(train=train_data, test=test_data, batch_size=32, img_shape=331)\n",
        "\n",
        "# See how the data looks like after preprocessing\n",
        "print(f\"Train data image shape after preprocessing is: {train_224.element_spec[0].shape}\")\n",
        "print(f\"Train data image type after preprocessing is: {train_224.element_spec[0].dtype}\")\n",
        "print(f\"\\nTrain data label shape after preprocessing is: {train_224.element_spec[1].shape}\")\n",
        "print(f\"Train data label type after preprocessing is: {train_224.element_spec[1].dtype}\")\n",
        "print(f\"\\nTest data image shape after preprocessing is: {test_224.element_spec[0].shape}\")\n",
        "print(f\"Test data image type after preprocessing is: {test_224.element_spec[0].dtype}\")\n",
        "print(f\"\\nTest data label shape after preprocessing is: {test_224.element_spec[1].shape}\")\n",
        "print(f\"Test data label type after preprocessing is: {test_224.element_spec[1].dtype}\")"
      ],
      "metadata": {
        "colab": {
          "base_uri": "https://localhost:8080/"
        },
        "id": "0FhZcV72B79a",
        "outputId": "4bf05bca-2e6b-49a8-fcf0-6e17cd7e0f88"
      },
      "execution_count": 33,
      "outputs": [
        {
          "output_type": "stream",
          "name": "stdout",
          "text": [
            "Train data image shape after preprocessing is: (None, 224, 224, 3)\n",
            "Train data image type after preprocessing is: <dtype: 'float32'>\n",
            "\n",
            "Train data label shape after preprocessing is: (None, 10)\n",
            "Train data label type after preprocessing is: <dtype: 'float32'>\n",
            "\n",
            "Test data image shape after preprocessing is: (None, 224, 224, 3)\n",
            "Test data image type after preprocessing is: <dtype: 'float32'>\n",
            "\n",
            "Test data label shape after preprocessing is: (None, 10)\n",
            "Test data label type after preprocessing is: <dtype: 'float32'>\n"
          ]
        }
      ]
    },
    {
      "cell_type": "markdown",
      "source": [
        "### Create Modelling Callbacks"
      ],
      "metadata": {
        "id": "N1GReTL2gEew"
      }
    },
    {
      "cell_type": "code",
      "source": [
        "# Get helper fucntion that i've used in 'mrdbourke/tensorflow-deep-learning' course\n",
        "!wget https://raw.githubusercontent.com/mrdbourke/tensorflow-deep-learning/main/extras/helper_functions.py\n",
        "\n",
        "# Create TensorBoard callback\n",
        "from helper_functions import create_tensorboard_callback\n",
        "\n",
        "# Create ModelCheckpoint callback to save model's progress\n",
        "checkpoint_path = \"model_checkpoints/cp.ckpt\" # saving weights requires \".ckpt\" extension\n",
        "model_checkpoint = tf.keras.callbacks.ModelCheckpoint(checkpoint_path,\n",
        "                                                      monitor=\"val_acc\",\n",
        "                                                      save_best_only=True,\n",
        "                                                      save_weights_only=True,\n",
        "                                                      verbose=0)"
      ],
      "metadata": {
        "colab": {
          "base_uri": "https://localhost:8080/"
        },
        "id": "LHSJoyTfgHow",
        "outputId": "4b19cc2a-fbb5-474d-ea99-8797c40f2965"
      },
      "execution_count": 34,
      "outputs": [
        {
          "output_type": "stream",
          "name": "stdout",
          "text": [
            "--2022-09-26 11:08:46--  https://raw.githubusercontent.com/mrdbourke/tensorflow-deep-learning/main/extras/helper_functions.py\n",
            "Resolving raw.githubusercontent.com (raw.githubusercontent.com)... 185.199.109.133, 185.199.111.133, 185.199.110.133, ...\n",
            "Connecting to raw.githubusercontent.com (raw.githubusercontent.com)|185.199.109.133|:443... connected.\n",
            "HTTP request sent, awaiting response... 200 OK\n",
            "Length: 10246 (10K) [text/plain]\n",
            "Saving to: ‘helper_functions.py’\n",
            "\n",
            "\rhelper_functions.py   0%[                    ]       0  --.-KB/s               \rhelper_functions.py 100%[===================>]  10.01K  --.-KB/s    in 0s      \n",
            "\n",
            "2022-09-26 11:08:46 (85.1 MB/s) - ‘helper_functions.py’ saved [10246/10246]\n",
            "\n"
          ]
        }
      ]
    },
    {
      "cell_type": "markdown",
      "source": [
        "### Setup Mixed Precision Training"
      ],
      "metadata": {
        "id": "cJkPYE6igNOg"
      }
    },
    {
      "cell_type": "code",
      "source": [
        "# Turn on mixed precision training\n",
        "from tensorflow.keras import mixed_precision\n",
        "mixed_precision.set_global_policy(policy=\"mixed_float16\") # set global policy to mixed precision\n",
        "\n",
        "# Check the global dtype policy \n",
        "mixed_precision.global_policy()"
      ],
      "metadata": {
        "colab": {
          "base_uri": "https://localhost:8080/"
        },
        "id": "UFIkzk9qgQEo",
        "outputId": "ee8a38b0-bfbe-48f7-a9eb-7ee4bb175ea5"
      },
      "execution_count": 35,
      "outputs": [
        {
          "output_type": "execute_result",
          "data": {
            "text/plain": [
              "<Policy \"mixed_float16\">"
            ]
          },
          "metadata": {},
          "execution_count": 35
        }
      ]
    },
    {
      "cell_type": "markdown",
      "source": [
        "# Build Model"
      ],
      "metadata": {
        "id": "_BOWKxQPgalw"
      }
    },
    {
      "cell_type": "code",
      "source": [
        "# List all available models\n",
        "import inspect\n",
        "model_dictionary = {m[0]:m[1] for m in inspect.getmembers(tf.keras.applications, inspect.isfunction)}\n",
        "model_dictionary.keys()"
      ],
      "metadata": {
        "colab": {
          "base_uri": "https://localhost:8080/"
        },
        "id": "4AHqEmxfbB97",
        "outputId": "66d6153f-dd2f-4eaa-82c2-e36baaddcd9e"
      },
      "execution_count": 36,
      "outputs": [
        {
          "output_type": "execute_result",
          "data": {
            "text/plain": [
              "dict_keys(['DenseNet121', 'DenseNet169', 'DenseNet201', 'EfficientNetB0', 'EfficientNetB1', 'EfficientNetB2', 'EfficientNetB3', 'EfficientNetB4', 'EfficientNetB5', 'EfficientNetB6', 'EfficientNetB7', 'EfficientNetV2B0', 'EfficientNetV2B1', 'EfficientNetV2B2', 'EfficientNetV2B3', 'EfficientNetV2L', 'EfficientNetV2M', 'EfficientNetV2S', 'InceptionResNetV2', 'InceptionV3', 'MobileNet', 'MobileNetV2', 'MobileNetV3Large', 'MobileNetV3Small', 'NASNetLarge', 'NASNetMobile', 'ResNet101', 'ResNet101V2', 'ResNet152', 'ResNet152V2', 'ResNet50', 'ResNet50V2', 'VGG16', 'VGG19', 'Xception'])"
            ]
          },
          "metadata": {},
          "execution_count": 36
        }
      ]
    },
    {
      "cell_type": "markdown",
      "source": [
        "## Model 0: Feature Extraction Model"
      ],
      "metadata": {
        "id": "8upzvrsFghqh"
      }
    },
    {
      "cell_type": "markdown",
      "source": [
        "### Find the Best Pre-Trained Model"
      ],
      "metadata": {
        "id": "3YPbTtL4ajzt"
      }
    },
    {
      "cell_type": "markdown",
      "source": [
        "#### Create a Model and Compile it"
      ],
      "metadata": {
        "id": "nbb-OYhmgddY"
      }
    },
    {
      "cell_type": "code",
      "source": [
        "# Import the required modules for model creation\n",
        "from tensorflow.keras import layers\n",
        "from tensorflow.keras.layers.experimental import preprocessing\n",
        "from tensorflow.keras.models import Sequential"
      ],
      "metadata": {
        "id": "E-jGpsAIa1nJ"
      },
      "execution_count": 37,
      "outputs": []
    },
    {
      "cell_type": "code",
      "source": [
        "def create_model(num_classes, model_name, model):\n",
        "  \"\"\"\n",
        "  Create a deep learning model based on user specifications.\n",
        "\n",
        "  Args:\n",
        "    input_shape: Set the image shape)\n",
        "    num_classes: The number of classes of the dataset.\n",
        "    class_names: Array of class labels (e.g. string form).\n",
        "    base_model_name: The base model name to use.\n",
        "    model_name: The model name.\n",
        "    \n",
        "  Returns:\n",
        "    The model\n",
        "  \"\"\"\n",
        "  # Some pre-trained models require images to be of size (224,224,3) while some require (331,331,3).\n",
        "  # \"NASNetLarge\" requires input images with size (331,331)\n",
        "  if 'NASNetLarge' in model_name:\n",
        "    input_shape  = (331, 331, 3)\n",
        "    train_data = train_331\n",
        "    test_data  = test_331\n",
        "  else:\n",
        "    input_shape  = (224, 224, 3)\n",
        "    train_data = train_224\n",
        "    test_data  = test_224\n",
        "  \n",
        "  # Create base model\n",
        "  base_model = model(include_top=False, classes=num_classes)\n",
        "  base_model.trainable = False # freeze base model layers\n",
        "  num_model_params = base_model.count_params()\n",
        "\n",
        "  # Create Functional model \n",
        "  inputs = layers.Input(shape=input_shape, name=\"input_layer\")\n",
        "  x = base_model(inputs, training=False) # set base_model to inference mode only\n",
        "  x = layers.GlobalMaxPooling2D(name=\"pooling_layer\")(x)\n",
        "  outputs = layers.Dense(num_classes,\n",
        "                        activation=\"softmax\",\n",
        "                        dtype=tf.float32,\n",
        "                        name=\"softmax_float32\")(x)\n",
        "  model = tf.keras.Model(inputs, outputs, name=\"feature_extraction_model\")\n",
        "\n",
        "  # Compile the model\n",
        "  model.compile(loss=tf.keras.losses.CategoricalCrossentropy(),\n",
        "                  optimizer=tf.keras.optimizers.Adam(),\n",
        "                  metrics=[\"accuracy\"])\n",
        "\n",
        "  # return the model\n",
        "  return train_data, test_data, model, num_model_params"
      ],
      "metadata": {
        "id": "8on03ERea_tl"
      },
      "execution_count": 38,
      "outputs": []
    },
    {
      "cell_type": "markdown",
      "source": [
        "#### Fit the Feature Extraction Model"
      ],
      "metadata": {
        "id": "x7nfO-KdhjwI"
      }
    },
    {
      "cell_type": "markdown",
      "source": [
        "To save time in choosing the best pre-trained model, the model has been fitted for 10% of the dataset."
      ],
      "metadata": {
        "id": "MP2GfdlAQmzq"
      }
    },
    {
      "cell_type": "code",
      "source": [
        "# Loop over each model available in Keras\n",
        "model_benchmarks = {'model_name': [], 'num_model_params': [], 'validation_accuracy': []}\n",
        "\n",
        "for model_name, model in model_dictionary.items():\n",
        "  # compile the model\n",
        "  train_data, test_data, model, num_model_params = create_model(num_classes, model_name, model)\n",
        "\n",
        "  # Fit the model\n",
        "  print(f\"\\nThe model name is: {model_name}\")\n",
        "  history_cifar10_feature_extract = model.fit(train_data,\n",
        "                                              steps_per_epoch=int(0.1 * len(train_data)),\n",
        "                                              epochs=3,\n",
        "                                              validation_data=test_data,\n",
        "                                              validation_steps=int(0.1 * len(test_data)))\n",
        "  \n",
        "  # Calculate all relevant metrics\n",
        "  model_benchmarks['model_name'].append(model_name)\n",
        "  model_benchmarks['num_model_params'].append(num_model_params)\n",
        "  model_benchmarks['validation_accuracy'].append(history_cifar10_feature_extract.history['val_accuracy'][-1])"
      ],
      "metadata": {
        "colab": {
          "base_uri": "https://localhost:8080/"
        },
        "id": "iEdj7_wth5VA",
        "outputId": "8d3b0879-5f13-4a24-a36f-470cf88d8a01"
      },
      "execution_count": null,
      "outputs": [
        {
          "output_type": "stream",
          "name": "stdout",
          "text": [
            "\n",
            "The model name is: DenseNet121\n",
            "Epoch 1/3\n",
            "156/156 [==============================] - 20s 82ms/step - loss: 1.9014 - accuracy: 0.4577 - val_loss: 1.1859 - val_accuracy: 0.6169\n",
            "Epoch 2/3\n",
            "156/156 [==============================] - 11s 73ms/step - loss: 1.0738 - accuracy: 0.6591 - val_loss: 0.8905 - val_accuracy: 0.7046\n",
            "Epoch 3/3\n",
            "156/156 [==============================] - 11s 69ms/step - loss: 0.9075 - accuracy: 0.7051 - val_loss: 0.8028 - val_accuracy: 0.7339\n",
            "\n",
            "The model name is: DenseNet169\n",
            "Epoch 1/3\n",
            "156/156 [==============================] - 27s 119ms/step - loss: 1.5762 - accuracy: 0.5415 - val_loss: 1.0477 - val_accuracy: 0.6643\n",
            "Epoch 2/3\n",
            "156/156 [==============================] - 16s 106ms/step - loss: 0.8885 - accuracy: 0.7155 - val_loss: 0.8260 - val_accuracy: 0.7369\n",
            "Epoch 3/3\n",
            "156/156 [==============================] - 15s 98ms/step - loss: 0.8261 - accuracy: 0.7386 - val_loss: 0.7393 - val_accuracy: 0.7641\n",
            "\n",
            "The model name is: DenseNet201\n",
            "Epoch 1/3\n",
            "156/156 [==============================] - 30s 120ms/step - loss: 1.3936 - accuracy: 0.5831 - val_loss: 0.7742 - val_accuracy: 0.7440\n",
            "Epoch 2/3\n",
            "156/156 [==============================] - 19s 122ms/step - loss: 0.7990 - accuracy: 0.7410 - val_loss: 0.6725 - val_accuracy: 0.7681\n",
            "Epoch 3/3\n",
            "156/156 [==============================] - 18s 116ms/step - loss: 0.7477 - accuracy: 0.7596 - val_loss: 0.5715 - val_accuracy: 0.8044\n",
            "Downloading data from https://storage.googleapis.com/keras-applications/efficientnetb0_notop.h5\n",
            "16711680/16705208 [==============================] - 0s 0us/step\n",
            "16719872/16705208 [==============================] - 0s 0us/step\n",
            "\n",
            "The model name is: EfficientNetB0\n",
            "Epoch 1/3\n",
            "156/156 [==============================] - 19s 67ms/step - loss: 3.2442 - accuracy: 0.0964 - val_loss: 2.6032 - val_accuracy: 0.0857\n",
            "Epoch 2/3\n",
            "156/156 [==============================] - 9s 61ms/step - loss: 2.7520 - accuracy: 0.0976 - val_loss: 2.7047 - val_accuracy: 0.0988\n",
            "Epoch 3/3\n",
            "156/156 [==============================] - 8s 54ms/step - loss: 2.7151 - accuracy: 0.0929 - val_loss: 2.6284 - val_accuracy: 0.1129\n",
            "Downloading data from https://storage.googleapis.com/keras-applications/efficientnetb1_notop.h5\n",
            "27025408/27018416 [==============================] - 2s 0us/step\n",
            "27033600/27018416 [==============================] - 2s 0us/step\n",
            "\n",
            "The model name is: EfficientNetB1\n",
            "Epoch 1/3\n",
            "156/156 [==============================] - 22s 87ms/step - loss: 3.4490 - accuracy: 0.1068 - val_loss: 2.4758 - val_accuracy: 0.0968\n",
            "Epoch 2/3\n",
            "156/156 [==============================] - 11s 72ms/step - loss: 2.7344 - accuracy: 0.1042 - val_loss: 2.8458 - val_accuracy: 0.1008\n",
            "Epoch 3/3\n",
            "156/156 [==============================] - 11s 72ms/step - loss: 2.7893 - accuracy: 0.0964 - val_loss: 2.6354 - val_accuracy: 0.1210\n",
            "Downloading data from https://storage.googleapis.com/keras-applications/efficientnetb2_notop.h5\n",
            "31793152/31790344 [==============================] - 2s 0us/step\n",
            "31801344/31790344 [==============================] - 2s 0us/step\n",
            "\n",
            "The model name is: EfficientNetB2\n",
            "Epoch 1/3\n",
            "156/156 [==============================] - 22s 86ms/step - loss: 4.0556 - accuracy: 0.1042 - val_loss: 3.3412 - val_accuracy: 0.0927\n",
            "Epoch 2/3\n",
            "156/156 [==============================] - 12s 74ms/step - loss: 2.9784 - accuracy: 0.0990 - val_loss: 2.9968 - val_accuracy: 0.1008\n",
            "Epoch 3/3\n",
            "156/156 [==============================] - 12s 75ms/step - loss: 3.0477 - accuracy: 0.0980 - val_loss: 2.9408 - val_accuracy: 0.0887\n",
            "Downloading data from https://storage.googleapis.com/keras-applications/efficientnetb3_notop.h5\n",
            "43941888/43941136 [==============================] - 1s 0us/step\n",
            "43950080/43941136 [==============================] - 1s 0us/step\n",
            "\n",
            "The model name is: EfficientNetB3\n",
            "Epoch 1/3\n",
            "156/156 [==============================] - 29s 120ms/step - loss: 2.7935 - accuracy: 0.1064 - val_loss: 2.4638 - val_accuracy: 0.1129\n",
            "Epoch 2/3\n",
            "156/156 [==============================] - 17s 107ms/step - loss: 2.5597 - accuracy: 0.0927 - val_loss: 2.4351 - val_accuracy: 0.1129\n",
            "Epoch 3/3\n",
            "156/156 [==============================] - 17s 106ms/step - loss: 2.6085 - accuracy: 0.1008 - val_loss: 2.8575 - val_accuracy: 0.1129\n",
            "Downloading data from https://storage.googleapis.com/keras-applications/efficientnetb4_notop.h5\n",
            "71688192/71686520 [==============================] - 3s 0us/step\n",
            "71696384/71686520 [==============================] - 3s 0us/step\n",
            "\n",
            "The model name is: EfficientNetB4\n",
            "Epoch 1/3\n",
            "156/156 [==============================] - 36s 151ms/step - loss: 3.5999 - accuracy: 0.1016 - val_loss: 2.7119 - val_accuracy: 0.0927\n",
            "Epoch 2/3\n",
            "156/156 [==============================] - 22s 138ms/step - loss: 2.9308 - accuracy: 0.1010 - val_loss: 2.7818 - val_accuracy: 0.1008\n",
            "Epoch 3/3\n",
            "156/156 [==============================] - 21s 137ms/step - loss: 2.8578 - accuracy: 0.1004 - val_loss: 2.6434 - val_accuracy: 0.1210\n",
            "Downloading data from https://storage.googleapis.com/keras-applications/efficientnetb5_notop.h5\n",
            "115269632/115263384 [==============================] - 4s 0us/step\n",
            "115277824/115263384 [==============================] - 4s 0us/step\n",
            "\n",
            "The model name is: EfficientNetB5\n",
            "Epoch 1/3\n",
            "156/156 [==============================] - 44s 190ms/step - loss: 5.7946 - accuracy: 0.0980 - val_loss: 3.2098 - val_accuracy: 0.0857\n",
            "Epoch 2/3\n",
            "156/156 [==============================] - 27s 172ms/step - loss: 3.4479 - accuracy: 0.0962 - val_loss: 3.8855 - val_accuracy: 0.0927\n",
            "Epoch 3/3\n",
            "156/156 [==============================] - 27s 172ms/step - loss: 3.7840 - accuracy: 0.0998 - val_loss: 5.4369 - val_accuracy: 0.0857\n",
            "Downloading data from https://storage.googleapis.com/keras-applications/efficientnetb6_notop.h5\n",
            "165240832/165234480 [==============================] - 1s 0us/step\n",
            "165249024/165234480 [==============================] - 1s 0us/step\n",
            "\n",
            "The model name is: EfficientNetB6\n",
            "Epoch 1/3\n",
            "156/156 [==============================] - 53s 239ms/step - loss: 7.2015 - accuracy: 0.0978 - val_loss: 4.1035 - val_accuracy: 0.1008\n",
            "Epoch 2/3\n",
            "156/156 [==============================] - 34s 217ms/step - loss: 4.0090 - accuracy: 0.0992 - val_loss: 3.4036 - val_accuracy: 0.0927\n",
            "Epoch 3/3\n",
            "156/156 [==============================] - 34s 216ms/step - loss: 4.0534 - accuracy: 0.0990 - val_loss: 3.0474 - val_accuracy: 0.0927\n",
            "Downloading data from https://storage.googleapis.com/keras-applications/efficientnetb7_notop.h5\n",
            "258080768/258076736 [==============================] - 3s 0us/step\n",
            "258088960/258076736 [==============================] - 3s 0us/step\n",
            "\n",
            "The model name is: EfficientNetB7\n",
            "Epoch 1/3\n",
            "156/156 [==============================] - 66s 301ms/step - loss: 5.3980 - accuracy: 0.1110 - val_loss: 3.0462 - val_accuracy: 0.0857\n",
            "Epoch 2/3\n",
            "156/156 [==============================] - 42s 271ms/step - loss: 3.3988 - accuracy: 0.0998 - val_loss: 3.7070 - val_accuracy: 0.0887\n",
            "Epoch 3/3\n",
            "156/156 [==============================] - 42s 271ms/step - loss: 3.6875 - accuracy: 0.1034 - val_loss: 3.0051 - val_accuracy: 0.1210\n",
            "Downloading data from https://storage.googleapis.com/tensorflow/keras-applications/efficientnet_v2/efficientnetv2-b0_notop.h5\n",
            "24281088/24274472 [==============================] - 1s 0us/step\n",
            "24289280/24274472 [==============================] - 1s 0us/step\n",
            "\n",
            "The model name is: EfficientNetV2B0\n",
            "Epoch 1/3\n",
            "156/156 [==============================] - 17s 57ms/step - loss: 2.3883 - accuracy: 0.0958 - val_loss: 2.3598 - val_accuracy: 0.0978\n",
            "Epoch 2/3\n",
            "156/156 [==============================] - 7s 47ms/step - loss: 2.3654 - accuracy: 0.1090 - val_loss: 2.3535 - val_accuracy: 0.0988\n",
            "Epoch 3/3\n",
            "156/156 [==============================] - 7s 47ms/step - loss: 2.3685 - accuracy: 0.1066 - val_loss: 2.3769 - val_accuracy: 0.1008\n",
            "Downloading data from https://storage.googleapis.com/tensorflow/keras-applications/efficientnet_v2/efficientnetv2-b1_notop.h5\n",
            "28459008/28456008 [==============================] - 1s 0us/step\n",
            "28467200/28456008 [==============================] - 1s 0us/step\n",
            "\n",
            "The model name is: EfficientNetV2B1\n",
            "Epoch 1/3\n",
            "156/156 [==============================] - 18s 64ms/step - loss: 2.3983 - accuracy: 0.1024 - val_loss: 2.4549 - val_accuracy: 0.0857\n",
            "Epoch 2/3\n",
            "156/156 [==============================] - 8s 51ms/step - loss: 2.3906 - accuracy: 0.1022 - val_loss: 2.4030 - val_accuracy: 0.1210\n",
            "Epoch 3/3\n",
            "156/156 [==============================] - 8s 52ms/step - loss: 2.3707 - accuracy: 0.1014 - val_loss: 2.3875 - val_accuracy: 0.1008\n",
            "Downloading data from https://storage.googleapis.com/tensorflow/keras-applications/efficientnet_v2/efficientnetv2-b2_notop.h5\n",
            "35840000/35839040 [==============================] - 1s 0us/step\n",
            "35848192/35839040 [==============================] - 1s 0us/step\n",
            "\n",
            "The model name is: EfficientNetV2B2\n",
            "Epoch 1/3\n",
            "156/156 [==============================] - 21s 72ms/step - loss: 3.1190 - accuracy: 0.1062 - val_loss: 2.4262 - val_accuracy: 0.1129\n",
            "Epoch 2/3\n",
            "156/156 [==============================] - 9s 55ms/step - loss: 2.8146 - accuracy: 0.0970 - val_loss: 2.9282 - val_accuracy: 0.1129\n",
            "Epoch 3/3\n",
            "156/156 [==============================] - 9s 55ms/step - loss: 2.7427 - accuracy: 0.1018 - val_loss: 2.9891 - val_accuracy: 0.1008\n",
            "Downloading data from https://storage.googleapis.com/tensorflow/keras-applications/efficientnet_v2/efficientnetv2-b3_notop.h5\n",
            "52609024/52606240 [==============================] - 1s 0us/step\n",
            "52617216/52606240 [==============================] - 1s 0us/step\n",
            "\n",
            "The model name is: EfficientNetV2B3\n",
            "Epoch 1/3\n",
            "156/156 [==============================] - 22s 83ms/step - loss: 3.9439 - accuracy: 0.0954 - val_loss: 2.6288 - val_accuracy: 0.1048\n",
            "Epoch 2/3\n",
            "156/156 [==============================] - 11s 68ms/step - loss: 3.0133 - accuracy: 0.1042 - val_loss: 2.9342 - val_accuracy: 0.1008\n",
            "Epoch 3/3\n",
            "156/156 [==============================] - 11s 68ms/step - loss: 2.9289 - accuracy: 0.0958 - val_loss: 2.7938 - val_accuracy: 0.1048\n",
            "Downloading data from https://storage.googleapis.com/tensorflow/keras-applications/efficientnet_v2/efficientnetv2-l_notop.h5\n",
            "473178112/473176280 [==============================] - 11s 0us/step\n",
            "473186304/473176280 [==============================] - 11s 0us/step\n",
            "\n",
            "The model name is: EfficientNetV2L\n",
            "Epoch 1/3\n",
            "156/156 [==============================] - 65s 262ms/step - loss: 4.3005 - accuracy: 0.1000 - val_loss: 2.5645 - val_accuracy: 0.1008\n",
            "Epoch 2/3\n",
            "156/156 [==============================] - 36s 228ms/step - loss: 3.1205 - accuracy: 0.1042 - val_loss: 3.6443 - val_accuracy: 0.0857\n",
            "Epoch 3/3\n",
            "156/156 [==============================] - 35s 227ms/step - loss: 3.0239 - accuracy: 0.1014 - val_loss: 3.5646 - val_accuracy: 0.0887\n",
            "Downloading data from https://storage.googleapis.com/tensorflow/keras-applications/efficientnet_v2/efficientnetv2-m_notop.h5\n",
            "214204416/214201816 [==============================] - 4s 0us/step\n",
            "214212608/214201816 [==============================] - 4s 0us/step\n",
            "\n",
            "The model name is: EfficientNetV2M\n",
            "Epoch 1/3\n",
            "156/156 [==============================] - 41s 160ms/step - loss: 4.1217 - accuracy: 0.0960 - val_loss: 3.1324 - val_accuracy: 0.0988\n",
            "Epoch 2/3\n",
            "156/156 [==============================] - 21s 135ms/step - loss: 2.8631 - accuracy: 0.1046 - val_loss: 2.9304 - val_accuracy: 0.0988\n",
            "Epoch 3/3\n",
            "156/156 [==============================] - 21s 137ms/step - loss: 2.9814 - accuracy: 0.0984 - val_loss: 2.7302 - val_accuracy: 0.1210\n",
            "Downloading data from https://storage.googleapis.com/tensorflow/keras-applications/efficientnet_v2/efficientnetv2-s_notop.h5\n",
            "82427904/82420632 [==============================] - 0s 0us/step\n",
            "82436096/82420632 [==============================] - 0s 0us/step\n",
            "\n",
            "The model name is: EfficientNetV2S\n",
            "Epoch 1/3\n",
            "156/156 [==============================] - 30s 105ms/step - loss: 4.4985 - accuracy: 0.0990 - val_loss: 3.2070 - val_accuracy: 0.0887\n",
            "Epoch 2/3\n",
            "156/156 [==============================] - 14s 87ms/step - loss: 3.0915 - accuracy: 0.0976 - val_loss: 3.1365 - val_accuracy: 0.0927\n",
            "Epoch 3/3\n",
            "156/156 [==============================] - 14s 87ms/step - loss: 3.2061 - accuracy: 0.0893 - val_loss: 3.3901 - val_accuracy: 0.0746\n",
            "Downloading data from https://storage.googleapis.com/tensorflow/keras-applications/inception_resnet_v2/inception_resnet_v2_weights_tf_dim_ordering_tf_kernels_notop.h5\n",
            "219062272/219055592 [==============================] - 6s 0us/step\n",
            "219070464/219055592 [==============================] - 6s 0us/step\n",
            "\n",
            "The model name is: InceptionResNetV2\n",
            "Epoch 1/3\n",
            "156/156 [==============================] - 38s 152ms/step - loss: 1.1649 - accuracy: 0.6825 - val_loss: 0.6870 - val_accuracy: 0.7873\n",
            "Epoch 2/3\n",
            "156/156 [==============================] - 19s 119ms/step - loss: 0.7478 - accuracy: 0.7895 - val_loss: 0.5836 - val_accuracy: 0.8216\n",
            "Epoch 3/3\n",
            "156/156 [==============================] - 17s 106ms/step - loss: 0.7187 - accuracy: 0.8063 - val_loss: 0.6353 - val_accuracy: 0.8206\n",
            "Downloading data from https://storage.googleapis.com/tensorflow/keras-applications/inception_v3/inception_v3_weights_tf_dim_ordering_tf_kernels_notop.h5\n",
            "87916544/87910968 [==============================] - 2s 0us/step\n",
            "87924736/87910968 [==============================] - 2s 0us/step\n",
            "\n",
            "The model name is: InceptionV3\n",
            "Epoch 1/3\n",
            "156/156 [==============================] - 20s 82ms/step - loss: 1.5200 - accuracy: 0.5891 - val_loss: 0.9401 - val_accuracy: 0.7107\n",
            "Epoch 2/3\n",
            "156/156 [==============================] - 11s 72ms/step - loss: 0.9934 - accuracy: 0.7188 - val_loss: 0.7001 - val_accuracy: 0.7792\n",
            "Epoch 3/3\n",
            "156/156 [==============================] - 10s 64ms/step - loss: 0.8456 - accuracy: 0.7544 - val_loss: 0.7832 - val_accuracy: 0.7601\n"
          ]
        },
        {
          "output_type": "stream",
          "name": "stderr",
          "text": [
            "WARNING:tensorflow:`input_shape` is undefined or non-square, or `rows` is not in [128, 160, 192, 224]. Weights for input shape (224, 224) will be loaded as the default.\n"
          ]
        },
        {
          "output_type": "stream",
          "name": "stdout",
          "text": [
            "Downloading data from https://storage.googleapis.com/tensorflow/keras-applications/mobilenet/mobilenet_1_0_224_tf_no_top.h5\n",
            "17227776/17225924 [==============================] - 0s 0us/step\n",
            "17235968/17225924 [==============================] - 0s 0us/step\n",
            "\n",
            "The model name is: MobileNet\n",
            "Epoch 1/3\n",
            "156/156 [==============================] - 9s 44ms/step - loss: 2.6565 - accuracy: 0.4383 - val_loss: 1.2478 - val_accuracy: 0.6421\n",
            "Epoch 2/3\n",
            "156/156 [==============================] - 6s 38ms/step - loss: 1.2372 - accuracy: 0.6621 - val_loss: 1.0956 - val_accuracy: 0.6905\n",
            "Epoch 3/3\n",
            "156/156 [==============================] - 6s 39ms/step - loss: 1.0878 - accuracy: 0.7139 - val_loss: 0.9413 - val_accuracy: 0.7369\n"
          ]
        },
        {
          "output_type": "stream",
          "name": "stderr",
          "text": [
            "WARNING:tensorflow:`input_shape` is undefined or non-square, or `rows` is not in [96, 128, 160, 192, 224]. Weights for input shape (224, 224) will be loaded as the default.\n"
          ]
        },
        {
          "output_type": "stream",
          "name": "stdout",
          "text": [
            "Downloading data from https://storage.googleapis.com/tensorflow/keras-applications/mobilenet_v2/mobilenet_v2_weights_tf_dim_ordering_tf_kernels_1.0_224_no_top.h5\n",
            "9412608/9406464 [==============================] - 0s 0us/step\n",
            "9420800/9406464 [==============================] - 0s 0us/step\n",
            "\n",
            "The model name is: MobileNetV2\n",
            "Epoch 1/3\n",
            "156/156 [==============================] - 10s 45ms/step - loss: 2.2724 - accuracy: 0.4858 - val_loss: 1.3795 - val_accuracy: 0.6361\n",
            "Epoch 2/3\n",
            "156/156 [==============================] - 6s 40ms/step - loss: 1.3119 - accuracy: 0.6573 - val_loss: 1.2789 - val_accuracy: 0.6673\n",
            "Epoch 3/3\n",
            "156/156 [==============================] - 6s 41ms/step - loss: 1.1627 - accuracy: 0.6851 - val_loss: 1.0511 - val_accuracy: 0.7298\n"
          ]
        },
        {
          "output_type": "stream",
          "name": "stderr",
          "text": [
            "WARNING:tensorflow:`input_shape` is undefined or non-square, or `rows` is not 224. Weights for input shape (224, 224) will be loaded as the default.\n"
          ]
        },
        {
          "output_type": "stream",
          "name": "stdout",
          "text": [
            "Downloading data from https://storage.googleapis.com/tensorflow/keras-applications/mobilenet_v3/weights_mobilenet_v3_large_224_1.0_float_no_top_v2.h5\n",
            "12689408/12683000 [==============================] - 0s 0us/step\n",
            "12697600/12683000 [==============================] - 0s 0us/step\n",
            "\n",
            "The model name is: MobileNetV3Large\n",
            "Epoch 1/3\n",
            "156/156 [==============================] - 12s 50ms/step - loss: 2.4095 - accuracy: 0.1052 - val_loss: 2.3026 - val_accuracy: 0.1079\n",
            "Epoch 2/3\n",
            "156/156 [==============================] - 7s 44ms/step - loss: 2.3088 - accuracy: 0.1156 - val_loss: 2.2978 - val_accuracy: 0.1038\n",
            "Epoch 3/3\n",
            "156/156 [==============================] - 7s 43ms/step - loss: 2.2964 - accuracy: 0.1178 - val_loss: 2.2800 - val_accuracy: 0.0988\n"
          ]
        },
        {
          "output_type": "stream",
          "name": "stderr",
          "text": [
            "WARNING:tensorflow:`input_shape` is undefined or non-square, or `rows` is not 224. Weights for input shape (224, 224) will be loaded as the default.\n"
          ]
        },
        {
          "output_type": "stream",
          "name": "stdout",
          "text": [
            "Downloading data from https://storage.googleapis.com/tensorflow/keras-applications/mobilenet_v3/weights_mobilenet_v3_small_224_1.0_float_no_top_v2.h5\n",
            "4341760/4334752 [==============================] - 0s 0us/step\n",
            "4349952/4334752 [==============================] - 0s 0us/step\n",
            "\n",
            "The model name is: MobileNetV3Small\n",
            "Epoch 1/3\n",
            "156/156 [==============================] - 11s 46ms/step - loss: 2.3421 - accuracy: 0.1020 - val_loss: 2.3243 - val_accuracy: 0.0857\n",
            "Epoch 2/3\n",
            "156/156 [==============================] - 7s 46ms/step - loss: 2.3160 - accuracy: 0.1048 - val_loss: 2.3203 - val_accuracy: 0.1048\n",
            "Epoch 3/3\n",
            "156/156 [==============================] - 6s 41ms/step - loss: 2.3171 - accuracy: 0.1100 - val_loss: 2.2939 - val_accuracy: 0.1240\n",
            "Downloading data from https://storage.googleapis.com/tensorflow/keras-applications/nasnet/NASNet-large-no-top.h5\n",
            "343613440/343610240 [==============================] - 13s 0us/step\n",
            "343621632/343610240 [==============================] - 13s 0us/step\n",
            "\n",
            "The model name is: NASNetLarge\n",
            "Epoch 1/3\n",
            "156/156 [==============================] - 116s 611ms/step - loss: 1.7852 - accuracy: 0.7498 - val_loss: 1.1590 - val_accuracy: 0.8196\n",
            "Epoch 2/3\n",
            "156/156 [==============================] - 90s 577ms/step - loss: 1.2020 - accuracy: 0.8337 - val_loss: 1.2192 - val_accuracy: 0.8286\n",
            "Epoch 3/3\n",
            "156/156 [==============================] - 90s 577ms/step - loss: 1.1324 - accuracy: 0.8431 - val_loss: 0.9739 - val_accuracy: 0.8639\n",
            "Downloading data from https://storage.googleapis.com/tensorflow/keras-applications/nasnet/NASNet-mobile-no-top.h5\n",
            "19996672/19993432 [==============================] - 1s 0us/step\n",
            "20004864/19993432 [==============================] - 1s 0us/step\n",
            "\n",
            "The model name is: NASNetMobile\n",
            "Epoch 1/3\n",
            "156/156 [==============================] - 33s 126ms/step - loss: 1.5574 - accuracy: 0.6246 - val_loss: 1.0428 - val_accuracy: 0.7238\n",
            "Epoch 2/3\n",
            "156/156 [==============================] - 16s 101ms/step - loss: 1.0435 - accuracy: 0.7278 - val_loss: 0.8705 - val_accuracy: 0.7702\n",
            "Epoch 3/3\n",
            "156/156 [==============================] - 16s 102ms/step - loss: 0.9003 - accuracy: 0.7666 - val_loss: 0.7685 - val_accuracy: 0.7823\n",
            "\n",
            "The model name is: ResNet101\n",
            "Epoch 1/3\n",
            "156/156 [==============================] - 22s 100ms/step - loss: 2.3554 - accuracy: 0.1585 - val_loss: 2.1995 - val_accuracy: 0.1694\n",
            "Epoch 2/3\n",
            "156/156 [==============================] - 14s 90ms/step - loss: 2.1651 - accuracy: 0.1923 - val_loss: 2.1435 - val_accuracy: 0.2288\n",
            "Epoch 3/3\n",
            "156/156 [==============================] - 14s 92ms/step - loss: 2.0745 - accuracy: 0.2442 - val_loss: 2.1450 - val_accuracy: 0.2520\n",
            "\n",
            "The model name is: ResNet101V2\n",
            "Epoch 1/3\n",
            "156/156 [==============================] - 21s 96ms/step - loss: 2.6246 - accuracy: 0.6657 - val_loss: 1.5497 - val_accuracy: 0.7702\n",
            "Epoch 2/3\n",
            "156/156 [==============================] - 13s 87ms/step - loss: 1.5688 - accuracy: 0.7794 - val_loss: 1.4756 - val_accuracy: 0.8105\n",
            "Epoch 3/3\n",
            "156/156 [==============================] - 13s 87ms/step - loss: 1.4910 - accuracy: 0.7965 - val_loss: 1.6496 - val_accuracy: 0.7863\n",
            "\n",
            "The model name is: ResNet152\n",
            "Epoch 1/3\n",
            "156/156 [==============================] - 31s 140ms/step - loss: 2.3178 - accuracy: 0.1504 - val_loss: 2.1713 - val_accuracy: 0.2087\n",
            "Epoch 2/3\n",
            "156/156 [==============================] - 19s 123ms/step - loss: 2.1706 - accuracy: 0.1983 - val_loss: 2.0945 - val_accuracy: 0.2440\n",
            "Epoch 3/3\n",
            "156/156 [==============================] - 19s 124ms/step - loss: 2.1025 - accuracy: 0.2312 - val_loss: 2.0597 - val_accuracy: 0.2288\n",
            "\n",
            "The model name is: ResNet152V2\n",
            "Epoch 1/3\n",
            "156/156 [==============================] - 30s 136ms/step - loss: 2.4266 - accuracy: 0.6558 - val_loss: 1.3358 - val_accuracy: 0.7772\n",
            "Epoch 2/3\n",
            "156/156 [==============================] - 19s 124ms/step - loss: 1.4826 - accuracy: 0.7752 - val_loss: 1.2372 - val_accuracy: 0.7933\n",
            "Epoch 3/3\n",
            "156/156 [==============================] - 19s 121ms/step - loss: 1.4263 - accuracy: 0.7885 - val_loss: 1.2962 - val_accuracy: 0.7954\n",
            "\n",
            "The model name is: ResNet50\n",
            "Epoch 1/3\n",
            "156/156 [==============================] - 14s 67ms/step - loss: 2.3795 - accuracy: 0.1328 - val_loss: 2.3487 - val_accuracy: 0.1341\n",
            "Epoch 2/3\n",
            "156/156 [==============================] - 9s 60ms/step - loss: 2.3012 - accuracy: 0.1615 - val_loss: 2.2573 - val_accuracy: 0.1895\n",
            "Epoch 3/3\n",
            "156/156 [==============================] - 9s 61ms/step - loss: 2.2361 - accuracy: 0.1877 - val_loss: 2.2354 - val_accuracy: 0.2036\n",
            "\n",
            "The model name is: ResNet50V2\n",
            "Epoch 1/3\n",
            "156/156 [==============================] - 13s 60ms/step - loss: 2.8794 - accuracy: 0.6226 - val_loss: 1.5932 - val_accuracy: 0.7692\n",
            "Epoch 2/3\n",
            "156/156 [==============================] - 9s 55ms/step - loss: 1.8223 - accuracy: 0.7270 - val_loss: 2.2876 - val_accuracy: 0.7258\n",
            "Epoch 3/3\n",
            "156/156 [==============================] - 8s 54ms/step - loss: 1.5346 - accuracy: 0.7714 - val_loss: 1.3797 - val_accuracy: 0.7772\n",
            "Downloading data from https://storage.googleapis.com/tensorflow/keras-applications/vgg16/vgg16_weights_tf_dim_ordering_tf_kernels_notop.h5\n",
            "58892288/58889256 [==============================] - 0s 0us/step\n",
            "58900480/58889256 [==============================] - 0s 0us/step\n",
            "\n",
            "The model name is: VGG16\n",
            "Epoch 1/3\n",
            "156/156 [==============================] - 19s 107ms/step - loss: 2.1665 - accuracy: 0.2194 - val_loss: 1.9889 - val_accuracy: 0.3236\n",
            "Epoch 2/3\n",
            "156/156 [==============================] - 17s 106ms/step - loss: 1.8972 - accuracy: 0.3702 - val_loss: 1.8040 - val_accuracy: 0.4355\n",
            "Epoch 3/3\n",
            "156/156 [==============================] - 16s 106ms/step - loss: 1.7588 - accuracy: 0.4389 - val_loss: 1.7041 - val_accuracy: 0.4284\n",
            "Downloading data from https://storage.googleapis.com/tensorflow/keras-applications/vgg19/vgg19_weights_tf_dim_ordering_tf_kernels_notop.h5\n",
            "80142336/80134624 [==============================] - 2s 0us/step\n",
            "80150528/80134624 [==============================] - 2s 0us/step\n",
            "\n",
            "The model name is: VGG19\n",
            "Epoch 1/3\n",
            "156/156 [==============================] - 20s 122ms/step - loss: 2.2068 - accuracy: 0.1967 - val_loss: 2.0630 - val_accuracy: 0.3175\n",
            "Epoch 2/3\n",
            "156/156 [==============================] - 19s 123ms/step - loss: 2.0054 - accuracy: 0.3209 - val_loss: 1.9117 - val_accuracy: 0.3730\n",
            "Epoch 3/3\n",
            "156/156 [==============================] - 19s 122ms/step - loss: 1.8981 - accuracy: 0.3682 - val_loss: 1.8540 - val_accuracy: 0.3962\n",
            "Downloading data from https://storage.googleapis.com/tensorflow/keras-applications/xception/xception_weights_tf_dim_ordering_tf_kernels_notop.h5\n",
            "83689472/83683744 [==============================] - 0s 0us/step\n",
            "83697664/83683744 [==============================] - 0s 0us/step\n",
            "\n",
            "The model name is: Xception\n",
            "Epoch 1/3\n",
            "156/156 [==============================] - 19s 95ms/step - loss: 0.9296 - accuracy: 0.6977 - val_loss: 0.6915 - val_accuracy: 0.7651\n",
            "Epoch 2/3\n",
            "156/156 [==============================] - 14s 90ms/step - loss: 0.6514 - accuracy: 0.7839 - val_loss: 0.6943 - val_accuracy: 0.7661\n",
            "Epoch 3/3\n",
            "156/156 [==============================] - 15s 95ms/step - loss: 0.6458 - accuracy: 0.7909 - val_loss: 0.6859 - val_accuracy: 0.7913\n"
          ]
        }
      ]
    },
    {
      "cell_type": "code",
      "source": [
        "# Compare between the models and fine the best model to solve the classification problem\n",
        "# Convert Results to DataFrame for easy viewing\n",
        "import pandas as pd\n",
        "df_results = pd.DataFrame(model_benchmarks)\n",
        "\n",
        "# sort in ascending order of num_model_params column\n",
        "df_results.sort_values('validation_accuracy', inplace=True, ascending=False)\n",
        "\n",
        "# Print the DataFrame\n",
        "df_results"
      ],
      "metadata": {
        "colab": {
          "base_uri": "https://localhost:8080/",
          "height": 1000
        },
        "id": "tnfuZgYwQL1K",
        "outputId": "4d63fd5c-d45a-4c1e-f24f-cc916f894fd5"
      },
      "execution_count": null,
      "outputs": [
        {
          "output_type": "execute_result",
          "data": {
            "text/plain": [
              "           model_name  num_model_params  validation_accuracy\n",
              "24        NASNetLarge          84916818             0.863911\n",
              "18  InceptionResNetV2          54336736             0.820565\n",
              "2         DenseNet201          18321984             0.804435\n",
              "29        ResNet152V2          58331648             0.795363\n",
              "34           Xception          20861480             0.791331\n",
              "27        ResNet101V2          42626560             0.786290\n",
              "25       NASNetMobile           4269716             0.782258\n",
              "31         ResNet50V2          23564800             0.777218\n",
              "1         DenseNet169          12642880             0.764113\n",
              "19        InceptionV3          21802784             0.760081\n",
              "20          MobileNet           3228864             0.736895\n",
              "0         DenseNet121           7037504             0.733871\n",
              "21        MobileNetV2           2257984             0.729839\n",
              "32              VGG16          14714688             0.428427\n",
              "33              VGG19          20024384             0.396169\n",
              "26          ResNet101          42658176             0.252016\n",
              "28          ResNet152          58370944             0.228831\n",
              "30           ResNet50          23587712             0.203629\n",
              "23   MobileNetV3Small            939120             0.123992\n",
              "16    EfficientNetV2M          53150388             0.120968\n",
              "10     EfficientNetB7          64097687             0.120968\n",
              "4      EfficientNetB1           6575239             0.120968\n",
              "7      EfficientNetB4          17673823             0.120968\n",
              "3      EfficientNetB0           4049571             0.112903\n",
              "6      EfficientNetB3          10783535             0.112903\n",
              "14   EfficientNetV2B3          12930622             0.104839\n",
              "12   EfficientNetV2B1           6931124             0.100806\n",
              "13   EfficientNetV2B2           8769374             0.100806\n",
              "11   EfficientNetV2B0           5919312             0.100806\n",
              "22   MobileNetV3Large           2996352             0.098790\n",
              "9      EfficientNetB6          40960143             0.092742\n",
              "5      EfficientNetB2           7768569             0.088710\n",
              "15    EfficientNetV2L         117746848             0.088710\n",
              "8      EfficientNetB5          28513527             0.085685\n",
              "17    EfficientNetV2S          20331360             0.074597"
            ],
            "text/html": [
              "\n",
              "  <div id=\"df-96cb57a1-107b-444e-826e-210522168941\">\n",
              "    <div class=\"colab-df-container\">\n",
              "      <div>\n",
              "<style scoped>\n",
              "    .dataframe tbody tr th:only-of-type {\n",
              "        vertical-align: middle;\n",
              "    }\n",
              "\n",
              "    .dataframe tbody tr th {\n",
              "        vertical-align: top;\n",
              "    }\n",
              "\n",
              "    .dataframe thead th {\n",
              "        text-align: right;\n",
              "    }\n",
              "</style>\n",
              "<table border=\"1\" class=\"dataframe\">\n",
              "  <thead>\n",
              "    <tr style=\"text-align: right;\">\n",
              "      <th></th>\n",
              "      <th>model_name</th>\n",
              "      <th>num_model_params</th>\n",
              "      <th>validation_accuracy</th>\n",
              "    </tr>\n",
              "  </thead>\n",
              "  <tbody>\n",
              "    <tr>\n",
              "      <th>24</th>\n",
              "      <td>NASNetLarge</td>\n",
              "      <td>84916818</td>\n",
              "      <td>0.863911</td>\n",
              "    </tr>\n",
              "    <tr>\n",
              "      <th>18</th>\n",
              "      <td>InceptionResNetV2</td>\n",
              "      <td>54336736</td>\n",
              "      <td>0.820565</td>\n",
              "    </tr>\n",
              "    <tr>\n",
              "      <th>2</th>\n",
              "      <td>DenseNet201</td>\n",
              "      <td>18321984</td>\n",
              "      <td>0.804435</td>\n",
              "    </tr>\n",
              "    <tr>\n",
              "      <th>29</th>\n",
              "      <td>ResNet152V2</td>\n",
              "      <td>58331648</td>\n",
              "      <td>0.795363</td>\n",
              "    </tr>\n",
              "    <tr>\n",
              "      <th>34</th>\n",
              "      <td>Xception</td>\n",
              "      <td>20861480</td>\n",
              "      <td>0.791331</td>\n",
              "    </tr>\n",
              "    <tr>\n",
              "      <th>27</th>\n",
              "      <td>ResNet101V2</td>\n",
              "      <td>42626560</td>\n",
              "      <td>0.786290</td>\n",
              "    </tr>\n",
              "    <tr>\n",
              "      <th>25</th>\n",
              "      <td>NASNetMobile</td>\n",
              "      <td>4269716</td>\n",
              "      <td>0.782258</td>\n",
              "    </tr>\n",
              "    <tr>\n",
              "      <th>31</th>\n",
              "      <td>ResNet50V2</td>\n",
              "      <td>23564800</td>\n",
              "      <td>0.777218</td>\n",
              "    </tr>\n",
              "    <tr>\n",
              "      <th>1</th>\n",
              "      <td>DenseNet169</td>\n",
              "      <td>12642880</td>\n",
              "      <td>0.764113</td>\n",
              "    </tr>\n",
              "    <tr>\n",
              "      <th>19</th>\n",
              "      <td>InceptionV3</td>\n",
              "      <td>21802784</td>\n",
              "      <td>0.760081</td>\n",
              "    </tr>\n",
              "    <tr>\n",
              "      <th>20</th>\n",
              "      <td>MobileNet</td>\n",
              "      <td>3228864</td>\n",
              "      <td>0.736895</td>\n",
              "    </tr>\n",
              "    <tr>\n",
              "      <th>0</th>\n",
              "      <td>DenseNet121</td>\n",
              "      <td>7037504</td>\n",
              "      <td>0.733871</td>\n",
              "    </tr>\n",
              "    <tr>\n",
              "      <th>21</th>\n",
              "      <td>MobileNetV2</td>\n",
              "      <td>2257984</td>\n",
              "      <td>0.729839</td>\n",
              "    </tr>\n",
              "    <tr>\n",
              "      <th>32</th>\n",
              "      <td>VGG16</td>\n",
              "      <td>14714688</td>\n",
              "      <td>0.428427</td>\n",
              "    </tr>\n",
              "    <tr>\n",
              "      <th>33</th>\n",
              "      <td>VGG19</td>\n",
              "      <td>20024384</td>\n",
              "      <td>0.396169</td>\n",
              "    </tr>\n",
              "    <tr>\n",
              "      <th>26</th>\n",
              "      <td>ResNet101</td>\n",
              "      <td>42658176</td>\n",
              "      <td>0.252016</td>\n",
              "    </tr>\n",
              "    <tr>\n",
              "      <th>28</th>\n",
              "      <td>ResNet152</td>\n",
              "      <td>58370944</td>\n",
              "      <td>0.228831</td>\n",
              "    </tr>\n",
              "    <tr>\n",
              "      <th>30</th>\n",
              "      <td>ResNet50</td>\n",
              "      <td>23587712</td>\n",
              "      <td>0.203629</td>\n",
              "    </tr>\n",
              "    <tr>\n",
              "      <th>23</th>\n",
              "      <td>MobileNetV3Small</td>\n",
              "      <td>939120</td>\n",
              "      <td>0.123992</td>\n",
              "    </tr>\n",
              "    <tr>\n",
              "      <th>16</th>\n",
              "      <td>EfficientNetV2M</td>\n",
              "      <td>53150388</td>\n",
              "      <td>0.120968</td>\n",
              "    </tr>\n",
              "    <tr>\n",
              "      <th>10</th>\n",
              "      <td>EfficientNetB7</td>\n",
              "      <td>64097687</td>\n",
              "      <td>0.120968</td>\n",
              "    </tr>\n",
              "    <tr>\n",
              "      <th>4</th>\n",
              "      <td>EfficientNetB1</td>\n",
              "      <td>6575239</td>\n",
              "      <td>0.120968</td>\n",
              "    </tr>\n",
              "    <tr>\n",
              "      <th>7</th>\n",
              "      <td>EfficientNetB4</td>\n",
              "      <td>17673823</td>\n",
              "      <td>0.120968</td>\n",
              "    </tr>\n",
              "    <tr>\n",
              "      <th>3</th>\n",
              "      <td>EfficientNetB0</td>\n",
              "      <td>4049571</td>\n",
              "      <td>0.112903</td>\n",
              "    </tr>\n",
              "    <tr>\n",
              "      <th>6</th>\n",
              "      <td>EfficientNetB3</td>\n",
              "      <td>10783535</td>\n",
              "      <td>0.112903</td>\n",
              "    </tr>\n",
              "    <tr>\n",
              "      <th>14</th>\n",
              "      <td>EfficientNetV2B3</td>\n",
              "      <td>12930622</td>\n",
              "      <td>0.104839</td>\n",
              "    </tr>\n",
              "    <tr>\n",
              "      <th>12</th>\n",
              "      <td>EfficientNetV2B1</td>\n",
              "      <td>6931124</td>\n",
              "      <td>0.100806</td>\n",
              "    </tr>\n",
              "    <tr>\n",
              "      <th>13</th>\n",
              "      <td>EfficientNetV2B2</td>\n",
              "      <td>8769374</td>\n",
              "      <td>0.100806</td>\n",
              "    </tr>\n",
              "    <tr>\n",
              "      <th>11</th>\n",
              "      <td>EfficientNetV2B0</td>\n",
              "      <td>5919312</td>\n",
              "      <td>0.100806</td>\n",
              "    </tr>\n",
              "    <tr>\n",
              "      <th>22</th>\n",
              "      <td>MobileNetV3Large</td>\n",
              "      <td>2996352</td>\n",
              "      <td>0.098790</td>\n",
              "    </tr>\n",
              "    <tr>\n",
              "      <th>9</th>\n",
              "      <td>EfficientNetB6</td>\n",
              "      <td>40960143</td>\n",
              "      <td>0.092742</td>\n",
              "    </tr>\n",
              "    <tr>\n",
              "      <th>5</th>\n",
              "      <td>EfficientNetB2</td>\n",
              "      <td>7768569</td>\n",
              "      <td>0.088710</td>\n",
              "    </tr>\n",
              "    <tr>\n",
              "      <th>15</th>\n",
              "      <td>EfficientNetV2L</td>\n",
              "      <td>117746848</td>\n",
              "      <td>0.088710</td>\n",
              "    </tr>\n",
              "    <tr>\n",
              "      <th>8</th>\n",
              "      <td>EfficientNetB5</td>\n",
              "      <td>28513527</td>\n",
              "      <td>0.085685</td>\n",
              "    </tr>\n",
              "    <tr>\n",
              "      <th>17</th>\n",
              "      <td>EfficientNetV2S</td>\n",
              "      <td>20331360</td>\n",
              "      <td>0.074597</td>\n",
              "    </tr>\n",
              "  </tbody>\n",
              "</table>\n",
              "</div>\n",
              "      <button class=\"colab-df-convert\" onclick=\"convertToInteractive('df-96cb57a1-107b-444e-826e-210522168941')\"\n",
              "              title=\"Convert this dataframe to an interactive table.\"\n",
              "              style=\"display:none;\">\n",
              "        \n",
              "  <svg xmlns=\"http://www.w3.org/2000/svg\" height=\"24px\"viewBox=\"0 0 24 24\"\n",
              "       width=\"24px\">\n",
              "    <path d=\"M0 0h24v24H0V0z\" fill=\"none\"/>\n",
              "    <path d=\"M18.56 5.44l.94 2.06.94-2.06 2.06-.94-2.06-.94-.94-2.06-.94 2.06-2.06.94zm-11 1L8.5 8.5l.94-2.06 2.06-.94-2.06-.94L8.5 2.5l-.94 2.06-2.06.94zm10 10l.94 2.06.94-2.06 2.06-.94-2.06-.94-.94-2.06-.94 2.06-2.06.94z\"/><path d=\"M17.41 7.96l-1.37-1.37c-.4-.4-.92-.59-1.43-.59-.52 0-1.04.2-1.43.59L10.3 9.45l-7.72 7.72c-.78.78-.78 2.05 0 2.83L4 21.41c.39.39.9.59 1.41.59.51 0 1.02-.2 1.41-.59l7.78-7.78 2.81-2.81c.8-.78.8-2.07 0-2.86zM5.41 20L4 18.59l7.72-7.72 1.47 1.35L5.41 20z\"/>\n",
              "  </svg>\n",
              "      </button>\n",
              "      \n",
              "  <style>\n",
              "    .colab-df-container {\n",
              "      display:flex;\n",
              "      flex-wrap:wrap;\n",
              "      gap: 12px;\n",
              "    }\n",
              "\n",
              "    .colab-df-convert {\n",
              "      background-color: #E8F0FE;\n",
              "      border: none;\n",
              "      border-radius: 50%;\n",
              "      cursor: pointer;\n",
              "      display: none;\n",
              "      fill: #1967D2;\n",
              "      height: 32px;\n",
              "      padding: 0 0 0 0;\n",
              "      width: 32px;\n",
              "    }\n",
              "\n",
              "    .colab-df-convert:hover {\n",
              "      background-color: #E2EBFA;\n",
              "      box-shadow: 0px 1px 2px rgba(60, 64, 67, 0.3), 0px 1px 3px 1px rgba(60, 64, 67, 0.15);\n",
              "      fill: #174EA6;\n",
              "    }\n",
              "\n",
              "    [theme=dark] .colab-df-convert {\n",
              "      background-color: #3B4455;\n",
              "      fill: #D2E3FC;\n",
              "    }\n",
              "\n",
              "    [theme=dark] .colab-df-convert:hover {\n",
              "      background-color: #434B5C;\n",
              "      box-shadow: 0px 1px 3px 1px rgba(0, 0, 0, 0.15);\n",
              "      filter: drop-shadow(0px 1px 2px rgba(0, 0, 0, 0.3));\n",
              "      fill: #FFFFFF;\n",
              "    }\n",
              "  </style>\n",
              "\n",
              "      <script>\n",
              "        const buttonEl =\n",
              "          document.querySelector('#df-96cb57a1-107b-444e-826e-210522168941 button.colab-df-convert');\n",
              "        buttonEl.style.display =\n",
              "          google.colab.kernel.accessAllowed ? 'block' : 'none';\n",
              "\n",
              "        async function convertToInteractive(key) {\n",
              "          const element = document.querySelector('#df-96cb57a1-107b-444e-826e-210522168941');\n",
              "          const dataTable =\n",
              "            await google.colab.kernel.invokeFunction('convertToInteractive',\n",
              "                                                     [key], {});\n",
              "          if (!dataTable) return;\n",
              "\n",
              "          const docLinkHtml = 'Like what you see? Visit the ' +\n",
              "            '<a target=\"_blank\" href=https://colab.research.google.com/notebooks/data_table.ipynb>data table notebook</a>'\n",
              "            + ' to learn more about interactive tables.';\n",
              "          element.innerHTML = '';\n",
              "          dataTable['output_type'] = 'display_data';\n",
              "          await google.colab.output.renderOutput(dataTable, element);\n",
              "          const docLink = document.createElement('div');\n",
              "          docLink.innerHTML = docLinkHtml;\n",
              "          element.appendChild(docLink);\n",
              "        }\n",
              "      </script>\n",
              "    </div>\n",
              "  </div>\n",
              "  "
            ]
          },
          "metadata": {},
          "execution_count": 115
        }
      ]
    },
    {
      "cell_type": "markdown",
      "source": [
        "### Run the Chosen Model Using All Dataset"
      ],
      "metadata": {
        "id": "t-SwYYJ9dBY3"
      }
    },
    {
      "cell_type": "code",
      "source": [
        "model_name = 'NASNetMobile'\n",
        "model = model_dictionary[model_name]\n",
        "\n",
        "# compile the model\n",
        "train_data, test_data, model_0, num_model_params = create_model(num_classes, model_name, model)\n",
        "\n",
        "# Fit the model with callbacks\n",
        "history_cifar10_feature_extract = model_0.fit(train_data,\n",
        "                                              steps_per_epoch=len(train_data),\n",
        "                                              epochs=3,\n",
        "                                              validation_data=test_data,\n",
        "                                              validation_steps=len(test_data),\n",
        "                                              callbacks=[create_tensorboard_callback(\"training_logs\", \"cifar10_feature_extract\"),\n",
        "                                                         model_checkpoint])\n",
        "\n",
        "# Plots loss curves\n",
        "from helper_functions import plot_loss_curves\n",
        "plot_loss_curves(history_cifar10_feature_extract)"
      ],
      "metadata": {
        "colab": {
          "base_uri": "https://localhost:8080/",
          "height": 799
        },
        "id": "fAQq4F4Ab911",
        "outputId": "4226f50f-82a4-4d4b-a92b-216264e9d2e9"
      },
      "execution_count": null,
      "outputs": [
        {
          "output_type": "stream",
          "name": "stdout",
          "text": [
            "Downloading data from https://storage.googleapis.com/tensorflow/keras-applications/nasnet/NASNet-mobile-no-top.h5\n",
            "19996672/19993432 [==============================] - 0s 0us/step\n",
            "20004864/19993432 [==============================] - 0s 0us/step\n",
            "Saving TensorBoard log files to: training_logs/cifar10_feature_extract/20220924-135213\n",
            "Epoch 1/3\n",
            "1563/1563 [==============================] - ETA: 0s - loss: 0.8802 - accuracy: 0.7652"
          ]
        },
        {
          "output_type": "stream",
          "name": "stderr",
          "text": [
            "WARNING:tensorflow:Can save best model only with val_acc available, skipping.\n"
          ]
        },
        {
          "output_type": "stream",
          "name": "stdout",
          "text": [
            "\b\b\b\b\b\b\b\b\b\b\b\b\b\b\b\b\b\b\b\b\b\b\b\b\b\b\b\b\b\b\b\b\b\b\b\b\b\b\b\b\b\b\b\b\b\b\b\b\b\b\b\b\b\b\b\b\b\b\b\b\b\b\b\b\b\b\b\b\b\b\b\b\b\b\b\b\b\b\b\b\b\b\b\b\b\b\r1563/1563 [==============================] - 193s 107ms/step - loss: 0.8802 - accuracy: 0.7652 - val_loss: 0.8908 - val_accuracy: 0.7678\n",
            "Epoch 2/3\n",
            "1563/1563 [==============================] - ETA: 0s - loss: 0.6435 - accuracy: 0.8127"
          ]
        },
        {
          "output_type": "stream",
          "name": "stderr",
          "text": [
            "WARNING:tensorflow:Can save best model only with val_acc available, skipping.\n"
          ]
        },
        {
          "output_type": "stream",
          "name": "stdout",
          "text": [
            "\b\b\b\b\b\b\b\b\b\b\b\b\b\b\b\b\b\b\b\b\b\b\b\b\b\b\b\b\b\b\b\b\b\b\b\b\b\b\b\b\b\b\b\b\b\b\b\b\b\b\b\b\b\b\b\b\b\b\b\b\b\b\b\b\b\b\b\b\b\b\b\b\b\b\b\b\b\b\b\b\b\b\b\b\b\b\r1563/1563 [==============================] - 177s 113ms/step - loss: 0.6435 - accuracy: 0.8127 - val_loss: 0.7439 - val_accuracy: 0.7968\n",
            "Epoch 3/3\n",
            "1563/1563 [==============================] - ETA: 0s - loss: 0.6007 - accuracy: 0.8239"
          ]
        },
        {
          "output_type": "stream",
          "name": "stderr",
          "text": [
            "WARNING:tensorflow:Can save best model only with val_acc available, skipping.\n"
          ]
        },
        {
          "output_type": "stream",
          "name": "stdout",
          "text": [
            "\b\b\b\b\b\b\b\b\b\b\b\b\b\b\b\b\b\b\b\b\b\b\b\b\b\b\b\b\b\b\b\b\b\b\b\b\b\b\b\b\b\b\b\b\b\b\b\b\b\b\b\b\b\b\b\b\b\b\b\b\b\b\b\b\b\b\b\b\b\b\b\b\b\b\b\b\b\b\b\b\b\b\b\b\b\b\r1563/1563 [==============================] - 178s 113ms/step - loss: 0.6007 - accuracy: 0.8239 - val_loss: 0.7617 - val_accuracy: 0.7916\n"
          ]
        },
        {
          "output_type": "display_data",
          "data": {
            "text/plain": [
              "<Figure size 432x288 with 1 Axes>"
            ],
            "image/png": "[encoded data removed]"
          },
          "metadata": {
            "needs_background": "light"
          }
        },
        {
          "output_type": "display_data",
          "data": {
            "text/plain": [
              "<Figure size 432x288 with 1 Axes>"
            ],
            "image/png": "[encoded data removed]"
          },
          "metadata": {
            "needs_background": "light"
          }
        }
      ]
    },
    {
      "cell_type": "code",
      "source": [
        "# Evaluate model on whole test dataset\n",
        "results_feature_extract_model = model_0.evaluate(test_data)\n",
        "results_feature_extract_model"
      ],
      "metadata": {
        "colab": {
          "base_uri": "https://localhost:8080/"
        },
        "id": "sbY_4KRJeA_r",
        "outputId": "e81ff21b-6284-4a57-ac00-ba3378c4cc22"
      },
      "execution_count": null,
      "outputs": [
        {
          "output_type": "stream",
          "name": "stdout",
          "text": [
            "313/313 [==============================] - 26s 83ms/step - loss: 0.7617 - accuracy: 0.7916\n"
          ]
        },
        {
          "output_type": "execute_result",
          "data": {
            "text/plain": [
              "[0.7616820931434631, 0.7915999889373779]"
            ]
          },
          "metadata": {},
          "execution_count": 20
        }
      ]
    },
    {
      "cell_type": "markdown",
      "source": [
        "### Save the Model"
      ],
      "metadata": {
        "id": "oCuDSwjPvrfn"
      }
    },
    {
      "cell_type": "code",
      "source": [
        "# Save model to drive so it can be used later \n",
        "model_0.save(\"drive/My Drive/Colab Notebooks/NASNetMobile_model_0\")"
      ],
      "metadata": {
        "id": "iSQGocmfvxwD"
      },
      "execution_count": null,
      "outputs": []
    },
    {
      "cell_type": "markdown",
      "source": [
        "### Load the Model"
      ],
      "metadata": {
        "id": "wJwkW-8Dlz9n"
      }
    },
    {
      "cell_type": "code",
      "source": [
        "# Load in from Google Drive\n",
        "model_0 = tf.keras.models.load_model('drive/My Drive/Colab Notebooks/NASNetMobile_model_0')"
      ],
      "metadata": {
        "id": "DfZ5zrdClpH5"
      },
      "execution_count": 39,
      "outputs": []
    },
    {
      "cell_type": "code",
      "source": [
        "# Check out our loaded model\n",
        "model_0.summary()"
      ],
      "metadata": {
        "colab": {
          "base_uri": "https://localhost:8080/"
        },
        "id": "Kvs30FLCfu3y",
        "outputId": "e344b2c0-aa50-452c-f55e-43d3000d68ae"
      },
      "execution_count": 40,
      "outputs": [
        {
          "output_type": "stream",
          "name": "stdout",
          "text": [
            "Model: \"feature_extraction_model\"\n",
            "_________________________________________________________________\n",
            " Layer (type)                Output Shape              Param #   \n",
            "=================================================================\n",
            " input_layer (InputLayer)    [(None, 224, 224, 3)]     0         \n",
            "                                                                 \n",
            " NASNet (Functional)         (None, 7, 7, 1056)        4269716   \n",
            "                                                                 \n",
            " pooling_layer (GlobalMaxPoo  (None, 1056)             0         \n",
            " ling2D)                                                         \n",
            "                                                                 \n",
            " softmax_float32 (Dense)     (None, 10)                10570     \n",
            "                                                                 \n",
            "=================================================================\n",
            "Total params: 4,280,286\n",
            "Trainable params: 10,570\n",
            "Non-trainable params: 4,269,716\n",
            "_________________________________________________________________\n"
          ]
        }
      ]
    },
    {
      "cell_type": "code",
      "source": [
        "# Check layer dtype policies (are we using mixed precision?)\n",
        "# Check the dtype_policy attributes of layers in our model\n",
        "for layer in model_0.layers:\n",
        "    print(layer.name, layer.trainable, layer.dtype, layer.dtype_policy) # Check the dtype policy of layers"
      ],
      "metadata": {
        "colab": {
          "base_uri": "https://localhost:8080/"
        },
        "id": "O3bd_HwZf7f9",
        "outputId": "ddf05268-7403-4761-da96-064cdd62e617"
      },
      "execution_count": 41,
      "outputs": [
        {
          "output_type": "stream",
          "name": "stdout",
          "text": [
            "input_layer True float32 <Policy \"float32\">\n",
            "NASNet False float32 <Policy \"mixed_float16\">\n",
            "pooling_layer True float32 <Policy \"mixed_float16\">\n",
            "softmax_float32 True float32 <Policy \"float32\">\n"
          ]
        }
      ]
    },
    {
      "cell_type": "code",
      "source": [
        "# Check the same details for our model's base model (NASNetMobile)\n",
        "for layer in model_0.layers[1].layers[:20]: # only check the first 20 layers to save output space\n",
        "    print(layer.name, layer.trainable, layer.dtype, layer.dtype_policy)"
      ],
      "metadata": {
        "colab": {
          "base_uri": "https://localhost:8080/"
        },
        "id": "m8tF5tXTgKu9",
        "outputId": "44d1ad69-4841-4539-8b1e-0f9d4ff29271"
      },
      "execution_count": 43,
      "outputs": [
        {
          "output_type": "stream",
          "name": "stdout",
          "text": [
            "input_1 True float32 <Policy \"float32\">\n",
            "stem_conv1 False float32 <Policy \"mixed_float16\">\n",
            "stem_bn1 False float32 <Policy \"mixed_float16\">\n",
            "activation False float32 <Policy \"mixed_float16\">\n",
            "reduction_conv_1_stem_1 False float32 <Policy \"mixed_float16\">\n",
            "reduction_bn_1_stem_1 False float32 <Policy \"mixed_float16\">\n",
            "activation_1 False float32 <Policy \"mixed_float16\">\n",
            "activation_3 False float32 <Policy \"mixed_float16\">\n",
            "separable_conv_1_pad_reduction_left1_stem_1 False float32 <Policy \"mixed_float16\">\n",
            "separable_conv_1_pad_reduction_right1_stem_1 False float32 <Policy \"mixed_float16\">\n",
            "separable_conv_1_reduction_left1_stem_1 False float32 <Policy \"mixed_float16\">\n",
            "separable_conv_1_reduction_right1_stem_1 False float32 <Policy \"mixed_float16\">\n",
            "separable_conv_1_bn_reduction_left1_stem_1 False float32 <Policy \"mixed_float16\">\n",
            "separable_conv_1_bn_reduction_right1_stem_1 False float32 <Policy \"mixed_float16\">\n",
            "activation_2 False float32 <Policy \"mixed_float16\">\n",
            "activation_4 False float32 <Policy \"mixed_float16\">\n",
            "separable_conv_2_reduction_left1_stem_1 False float32 <Policy \"mixed_float16\">\n",
            "separable_conv_2_reduction_right1_stem_1 False float32 <Policy \"mixed_float16\">\n",
            "activation_5 False float32 <Policy \"mixed_float16\">\n",
            "separable_conv_2_bn_reduction_left1_stem_1 False float32 <Policy \"mixed_float16\">\n"
          ]
        }
      ]
    },
    {
      "cell_type": "markdown",
      "source": [
        "### Predictions"
      ],
      "metadata": {
        "id": "L_Qf0lVGxQT7"
      }
    },
    {
      "cell_type": "code",
      "source": [
        "# Make predictions with model\n",
        "pred_probs = model_0.predict(test_data, verbose=1)\n",
        "\n",
        "# Get the class predicitons of each label\n",
        "pred_classes = tf.argmax(pred_probs, axis=1)\n",
        "\n",
        "y_labels = []\n",
        "for images, labels in test_data.unbatch(): # unbatch the test data and get images and labels\n",
        "  y_labels.append(labels.numpy().argmax()) # append the index which has the largest value (labels are one-hot)\n",
        "\n",
        "from helper_functions import calculate_results\n",
        "model_results = calculate_results(y_true=y_labels,\n",
        "                                  y_pred=pred_classes)\n",
        "model_results"
      ],
      "metadata": {
        "colab": {
          "base_uri": "https://localhost:8080/"
        },
        "id": "jAPAfnHPsMFp",
        "outputId": "486d3ec0-52a8-4059-bc37-e66b2cc1c88a"
      },
      "execution_count": null,
      "outputs": [
        {
          "output_type": "stream",
          "name": "stdout",
          "text": [
            "313/313 [==============================] - 28s 76ms/step\n"
          ]
        },
        {
          "output_type": "execute_result",
          "data": {
            "text/plain": [
              "{'accuracy': 79.16,\n",
              " 'precision': 0.8122793717427141,\n",
              " 'recall': 0.7916,\n",
              " 'f1': 0.7913099109508638}"
            ]
          },
          "metadata": {},
          "execution_count": 23
        }
      ]
    },
    {
      "cell_type": "markdown",
      "source": [
        "## Model 1: Fine-Tuned Model"
      ],
      "metadata": {
        "id": "2D7-DJUxhEHV"
      }
    },
    {
      "cell_type": "markdown",
      "source": [
        "According to https://www.tensorflow.org/tutorials/images/transfer_learning:\n",
        "\n",
        "In the feature extraction experiment, I was only training a few layers on top of an NASNetMobile base model. The weights of the pre-trained network were not updated during training.\n",
        "\n",
        "One way to increase performance even further is to train the weights of the top layers of the pre-trained model alongside the training of the classifier you added. The training process will force the weights to be tuned from generic feature maps to features associated specifically with the dataset."
      ],
      "metadata": {
        "id": "-IucHklgwwYM"
      }
    },
    {
      "cell_type": "markdown",
      "source": [
        "### Fine-Tuning Callbacks"
      ],
      "metadata": {
        "id": "sxGYlbriqm1K"
      }
    },
    {
      "cell_type": "code",
      "source": [
        "# Setup EarlyStopping callback to stop training if model's val_loss doesn't improve for 3 epochs\n",
        "early_stopping = tf.keras.callbacks.EarlyStopping(monitor=\"val_loss\",\n",
        "                                                  patience=3)\n",
        "\n",
        "# Create ModelCheckpoint callback to save best model during fine-tuning\n",
        "checkpoint_path = \"fine_tune_checkpoints/\"\n",
        "model_checkpoint = tf.keras.callbacks.ModelCheckpoint(checkpoint_path,\n",
        "                                                      save_best_only=True,\n",
        "                                                      monitor=\"val_loss\")\n",
        "\n",
        "# Creating learning rate reduction callback\n",
        "reduce_lr = tf.keras.callbacks.ReduceLROnPlateau(monitor=\"val_loss\",  \n",
        "                                                 factor=0.2, # multiply the learning rate by 0.2 (reduce by 5x)\n",
        "                                                 patience=2,\n",
        "                                                 verbose=1, # print out when learning rate goes down \n",
        "                                                 min_lr=1e-7)"
      ],
      "metadata": {
        "id": "9TvOe06TqnDS"
      },
      "execution_count": 45,
      "outputs": []
    },
    {
      "cell_type": "markdown",
      "source": [
        "### Fit the Fine-Tuning Model"
      ],
      "metadata": {
        "id": "79cpjJyxqnLw"
      }
    },
    {
      "cell_type": "code",
      "source": [
        "def create_model_fine_tuning(num_classes, model_name, model):\n",
        "  \"\"\"\n",
        "  Create a deep learning model based on user specifications.\n",
        "\n",
        "  Args:\n",
        "    input_shape: Set the image shape)\n",
        "    num_classes: The number of classes of the dataset.\n",
        "    class_names: Array of class labels (e.g. string form).\n",
        "    base_model_name: The base model name to use.\n",
        "    model_name: The model name.\n",
        "    \n",
        "  Returns:\n",
        "    The model\n",
        "  \"\"\"\n",
        "  # Some pre-trained models require images to be of size (224,224,3) while some require (331,331,3).\n",
        "  # \"NASNetLarge\" requires input images with size (331,331)\n",
        "  if 'NASNetLarge' in model_name:\n",
        "    input_shape  = (331, 331, 3)\n",
        "    train_data = train_331\n",
        "    test_data  = test_331\n",
        "  else:\n",
        "    input_shape  = (224, 224, 3)\n",
        "    train_data = train_224\n",
        "    test_data  = test_224\n",
        "  \n",
        "  # Create base model\n",
        "  base_model = model(include_top=False, classes=num_classes)\n",
        "  base_model.trainable = True # freeze base model layers\n",
        "  num_model_params = base_model.count_params()\n",
        "\n",
        "  # Create Functional model \n",
        "  inputs = layers.Input(shape=input_shape, name=\"input_layer\")\n",
        "  x = base_model(inputs, training=False) # set base_model to inference mode only\n",
        "  x = layers.GlobalMaxPooling2D(name=\"pooling_layer\")(x)\n",
        "  outputs = layers.Dense(num_classes,\n",
        "                        activation=\"softmax\",\n",
        "                        dtype=tf.float32,\n",
        "                        name=\"softmax_float32\")(x)\n",
        "  model = tf.keras.Model(inputs, outputs, name=\"feature_extraction_model\")\n",
        "\n",
        "  # Compile the model\n",
        "  model.compile(loss=tf.keras.losses.CategoricalCrossentropy(),\n",
        "                  optimizer=tf.keras.optimizers.Adam(0.0001),\n",
        "                  metrics=[\"accuracy\"])\n",
        "\n",
        "  # return the model\n",
        "  return train_data, test_data, model, num_model_params"
      ],
      "metadata": {
        "id": "xdIGeqqMrG5L"
      },
      "execution_count": 46,
      "outputs": []
    },
    {
      "cell_type": "code",
      "source": [
        "model_name = 'NASNetMobile'\n",
        "model = model_dictionary[model_name]\n",
        "\n",
        "# compile the model\n",
        "train_data, test_data, model_1, _ = create_model_fine_tuning(num_classes, model_name, model)\n",
        "\n",
        "# Start to fine-tune ,all trainable\n",
        "history_cifar10_fine_tune = model_1.fit(train_data,\n",
        "                                        epochs=100, # fine-tune for a maximum of 100 epochs\n",
        "                                        steps_per_epoch=len(train_data),\n",
        "                                        validation_data=test_data,\n",
        "                                        validation_steps=len(test_data),\n",
        "                                        callbacks=[create_tensorboard_callback(\"training_logs\", \"cifar10_fine_tuning\"), # track the model training logs\n",
        "                                                   model_checkpoint, # save only the best model during training\n",
        "                                                   early_stopping, # stop model after X epochs of no improvements\n",
        "                                                   reduce_lr]) # reduce the learning rate after X epochs of no improvements\n",
        "\n",
        "# Plots loss curves\n",
        "from helper_functions import plot_loss_curves\n",
        "plot_loss_curves(history_cifar10_fine_tune)"
      ],
      "metadata": {
        "colab": {
          "base_uri": "https://localhost:8080/",
          "height": 1000
        },
        "id": "cWdSmvrdrzt7",
        "outputId": "43a5fc0e-a4c3-4a78-e28e-e629feb2cad7"
      },
      "execution_count": null,
      "outputs": [
        {
          "output_type": "stream",
          "name": "stdout",
          "text": [
            "Downloading data from https://storage.googleapis.com/tensorflow/keras-applications/nasnet/NASNet-mobile-no-top.h5\n",
            "19996672/19993432 [==============================] - 2s 0us/step\n",
            "20004864/19993432 [==============================] - 2s 0us/step\n",
            "Saving TensorBoard log files to: training_logs/cifar10_fine_tuning/20220925-120335\n",
            "Epoch 1/100\n",
            "1563/1563 [==============================] - 511s 295ms/step - loss: 0.4551 - accuracy: 0.8580 - val_loss: 0.3204 - val_accuracy: 0.8889 - lr: 1.0000e-04\n",
            "Epoch 2/100\n",
            "1563/1563 [==============================] - 446s 284ms/step - loss: 0.1822 - accuracy: 0.9387 - val_loss: 0.1871 - val_accuracy: 0.9392 - lr: 1.0000e-04\n",
            "Epoch 3/100\n",
            "1563/1563 [==============================] - 454s 290ms/step - loss: 0.1313 - accuracy: 0.9550 - val_loss: 0.1727 - val_accuracy: 0.9456 - lr: 1.0000e-04\n",
            "Epoch 4/100\n",
            "1563/1563 [==============================] - 331s 212ms/step - loss: 0.0996 - accuracy: 0.9665 - val_loss: 0.2394 - val_accuracy: 0.9297 - lr: 1.0000e-04\n",
            "Epoch 5/100\n",
            "1563/1563 [==============================] - ETA: 0s - loss: 0.0775 - accuracy: 0.9740\n",
            "Epoch 5: ReduceLROnPlateau reducing learning rate to 1.9999999494757503e-05.\n",
            "1563/1563 [==============================] - 343s 219ms/step - loss: 0.0775 - accuracy: 0.9740 - val_loss: 0.1884 - val_accuracy: 0.9485 - lr: 1.0000e-04\n",
            "Epoch 6/100\n",
            "1563/1563 [==============================] - 408s 261ms/step - loss: 0.0181 - accuracy: 0.9939 - val_loss: 0.1380 - val_accuracy: 0.9627 - lr: 2.0000e-05\n",
            "Epoch 7/100\n",
            "1563/1563 [==============================] - 345s 220ms/step - loss: 0.0040 - accuracy: 0.9990 - val_loss: 0.1483 - val_accuracy: 0.9660 - lr: 2.0000e-05\n",
            "Epoch 8/100\n",
            "1563/1563 [==============================] - ETA: 0s - loss: 0.0021 - accuracy: 0.9994\n",
            "Epoch 8: ReduceLROnPlateau reducing learning rate to 3.999999898951501e-06.\n",
            "1563/1563 [==============================] - 343s 219ms/step - loss: 0.0021 - accuracy: 0.9994 - val_loss: 0.2020 - val_accuracy: 0.9614 - lr: 2.0000e-05\n",
            "Epoch 9/100\n",
            "1563/1563 [==============================] - 321s 205ms/step - loss: 0.0019 - accuracy: 0.9995 - val_loss: 0.1680 - val_accuracy: 0.9668 - lr: 4.0000e-06\n"
          ]
        },
        {
          "output_type": "display_data",
          "data": {
            "text/plain": [
              "<Figure size 432x288 with 1 Axes>"
            ],
            "image/png": "[encoded data removed]"
          },
          "metadata": {
            "needs_background": "light"
          }
        },
        {
          "output_type": "display_data",
          "data": {
            "text/plain": [
              "<Figure size 432x288 with 1 Axes>"
            ],
            "image/png": "[encoded data removed]"
          },
          "metadata": {
            "needs_background": "light"
          }
        }
      ]
    },
    {
      "cell_type": "code",
      "source": [
        "# Evaluate model on whole test dataset\n",
        "results_feature_extract_model = model_1.evaluate(test_data)\n",
        "results_feature_extract_model"
      ],
      "metadata": {
        "colab": {
          "base_uri": "https://localhost:8080/"
        },
        "id": "d46ODnZqAvUH",
        "outputId": "90cb7ff1-373c-40f8-fc93-180b28fdf67d"
      },
      "execution_count": null,
      "outputs": [
        {
          "output_type": "stream",
          "name": "stdout",
          "text": [
            "313/313 [==============================] - 25s 81ms/step - loss: 0.1680 - accuracy: 0.9668\n"
          ]
        },
        {
          "output_type": "execute_result",
          "data": {
            "text/plain": [
              "[0.16796568036079407, 0.9667999744415283]"
            ]
          },
          "metadata": {},
          "execution_count": 24
        }
      ]
    },
    {
      "cell_type": "markdown",
      "source": [
        "#### Save the Model"
      ],
      "metadata": {
        "id": "oGkkkwfYhxeN"
      }
    },
    {
      "cell_type": "code",
      "source": [
        "# Save model to drive so it can be used later \n",
        "model_1.save(\"drive/My Drive/Colab Notebooks/NASNetMobile_model_1\")"
      ],
      "metadata": {
        "id": "v1M4BzzIhw78"
      },
      "execution_count": null,
      "outputs": []
    },
    {
      "cell_type": "markdown",
      "source": [
        "#### Load the Model"
      ],
      "metadata": {
        "id": "ZaqeOATRlaRf"
      }
    },
    {
      "cell_type": "code",
      "source": [
        "# Load in from Google Drive\n",
        "model_1 = tf.keras.models.load_model('drive/My Drive/Colab Notebooks/NASNetMobile_model_1')"
      ],
      "metadata": {
        "id": "6im0ULHPlUvA"
      },
      "execution_count": 47,
      "outputs": []
    },
    {
      "cell_type": "code",
      "source": [
        "# Check out our loaded model\n",
        "model_1.summary()"
      ],
      "metadata": {
        "colab": {
          "base_uri": "https://localhost:8080/"
        },
        "id": "V8Gn0xrzhQhD",
        "outputId": "b4370b7c-8883-4c15-a931-97fce91d729d"
      },
      "execution_count": 48,
      "outputs": [
        {
          "output_type": "stream",
          "name": "stdout",
          "text": [
            "Model: \"feature_extraction_model\"\n",
            "_________________________________________________________________\n",
            " Layer (type)                Output Shape              Param #   \n",
            "=================================================================\n",
            " input_layer (InputLayer)    [(None, 224, 224, 3)]     0         \n",
            "                                                                 \n",
            " NASNet (Functional)         (None, 7, 7, 1056)        4269716   \n",
            "                                                                 \n",
            " pooling_layer (GlobalMaxPoo  (None, 1056)             0         \n",
            " ling2D)                                                         \n",
            "                                                                 \n",
            " softmax_float32 (Dense)     (None, 10)                10570     \n",
            "                                                                 \n",
            "=================================================================\n",
            "Total params: 4,280,286\n",
            "Trainable params: 4,243,548\n",
            "Non-trainable params: 36,738\n",
            "_________________________________________________________________\n"
          ]
        }
      ]
    },
    {
      "cell_type": "code",
      "source": [
        "# Check layer dtype policies (are we using mixed precision?)\n",
        "# Check the dtype_policy attributes of layers in our model\n",
        "for layer in model_1.layers:\n",
        "    print(layer.name, layer.trainable, layer.dtype, layer.dtype_policy) # Check the dtype policy of layers"
      ],
      "metadata": {
        "colab": {
          "base_uri": "https://localhost:8080/"
        },
        "id": "rfD8ks4uhTqM",
        "outputId": "fb80c9ea-f252-460e-b852-b07d6f37f6c2"
      },
      "execution_count": 49,
      "outputs": [
        {
          "output_type": "stream",
          "name": "stdout",
          "text": [
            "input_layer True float32 <Policy \"float32\">\n",
            "NASNet True float32 <Policy \"mixed_float16\">\n",
            "pooling_layer True float32 <Policy \"mixed_float16\">\n",
            "softmax_float32 True float32 <Policy \"float32\">\n"
          ]
        }
      ]
    },
    {
      "cell_type": "code",
      "source": [
        "# Check the same details for our model's base model (NASNetMobile)\n",
        "for layer in model_1.layers[1].layers[:20]: # only check the first 20 layers to save output space\n",
        "    print(layer.name, layer.trainable, layer.dtype, layer.dtype_policy)"
      ],
      "metadata": {
        "colab": {
          "base_uri": "https://localhost:8080/"
        },
        "id": "n2W1tQD9hWZQ",
        "outputId": "373cb0b4-67d5-4046-c407-69e74afdfcab"
      },
      "execution_count": 50,
      "outputs": [
        {
          "output_type": "stream",
          "name": "stdout",
          "text": [
            "input_1 True float32 <Policy \"float32\">\n",
            "stem_conv1 True float32 <Policy \"mixed_float16\">\n",
            "stem_bn1 True float32 <Policy \"mixed_float16\">\n",
            "activation True float32 <Policy \"mixed_float16\">\n",
            "reduction_conv_1_stem_1 True float32 <Policy \"mixed_float16\">\n",
            "reduction_bn_1_stem_1 True float32 <Policy \"mixed_float16\">\n",
            "activation_1 True float32 <Policy \"mixed_float16\">\n",
            "activation_3 True float32 <Policy \"mixed_float16\">\n",
            "separable_conv_1_pad_reduction_left1_stem_1 True float32 <Policy \"mixed_float16\">\n",
            "separable_conv_1_pad_reduction_right1_stem_1 True float32 <Policy \"mixed_float16\">\n",
            "separable_conv_1_reduction_left1_stem_1 True float32 <Policy \"mixed_float16\">\n",
            "separable_conv_1_reduction_right1_stem_1 True float32 <Policy \"mixed_float16\">\n",
            "separable_conv_1_bn_reduction_left1_stem_1 True float32 <Policy \"mixed_float16\">\n",
            "separable_conv_1_bn_reduction_right1_stem_1 True float32 <Policy \"mixed_float16\">\n",
            "activation_2 True float32 <Policy \"mixed_float16\">\n",
            "activation_4 True float32 <Policy \"mixed_float16\">\n",
            "separable_conv_2_reduction_left1_stem_1 True float32 <Policy \"mixed_float16\">\n",
            "separable_conv_2_reduction_right1_stem_1 True float32 <Policy \"mixed_float16\">\n",
            "activation_5 True float32 <Policy \"mixed_float16\">\n",
            "separable_conv_2_bn_reduction_left1_stem_1 True float32 <Policy \"mixed_float16\">\n"
          ]
        }
      ]
    },
    {
      "cell_type": "markdown",
      "source": [
        "### Predictions"
      ],
      "metadata": {
        "id": "xI6iyuYxCZor"
      }
    },
    {
      "cell_type": "code",
      "source": [
        "# Make predictions with model\n",
        "pred_probs = model_1.predict(test_data, verbose=1)\n",
        "\n",
        "# Get the class predicitons of each label\n",
        "pred_classes = tf.argmax(pred_probs, axis=1)\n",
        "\n",
        "y_labels = []\n",
        "for images, labels in test_data.unbatch(): # unbatch the test data and get images and labels\n",
        "  y_labels.append(labels.numpy().argmax()) # append the index which has the largest value (labels are one-hot)\n",
        "\n",
        "from helper_functions import calculate_results\n",
        "model_results = calculate_results(y_true=y_labels,\n",
        "                                  y_pred=pred_classes)\n",
        "model_results"
      ],
      "metadata": {
        "colab": {
          "base_uri": "https://localhost:8080/"
        },
        "id": "Jije_Ze-BKpB",
        "outputId": "0d748c89-7be1-49b2-f043-6b4c922e4cb1"
      },
      "execution_count": null,
      "outputs": [
        {
          "output_type": "stream",
          "name": "stdout",
          "text": [
            "313/313 [==============================] - 26s 70ms/step\n"
          ]
        },
        {
          "output_type": "execute_result",
          "data": {
            "text/plain": [
              "{'accuracy': 96.67999999999999,\n",
              " 'precision': 0.9667747224069024,\n",
              " 'recall': 0.9668,\n",
              " 'f1': 0.9667806746101947}"
            ]
          },
          "metadata": {},
          "execution_count": 26
        }
      ]
    },
    {
      "cell_type": "markdown",
      "source": [
        "# Model Predictions Evaluation"
      ],
      "metadata": {
        "id": "sfgkD6ninYs9"
      }
    },
    {
      "cell_type": "markdown",
      "source": [
        "## Confusion Matrix"
      ],
      "metadata": {
        "id": "ZR2P5x1VDQBw"
      }
    },
    {
      "cell_type": "code",
      "source": [
        "from helper_functions import make_confusion_matrix\n",
        "# Plot a confusion matrix with all predictions, ground truth labels and 10 classes\n",
        "make_confusion_matrix(y_true=y_labels,\n",
        "                      y_pred=pred_classes,\n",
        "                      classes=class_names,\n",
        "                      figsize=(15, 15),\n",
        "                      text_size=10,\n",
        "                      norm=False,\n",
        "                      savefig=True)"
      ],
      "metadata": {
        "id": "NFXXR5osCdFw",
        "colab": {
          "base_uri": "https://localhost:8080/",
          "height": 852
        },
        "outputId": "ec2a97ca-6557-45e9-e962-e7af63dd31ce"
      },
      "execution_count": null,
      "outputs": [
        {
          "output_type": "display_data",
          "data": {
            "text/plain": [
              "<Figure size 1080x1080 with 2 Axes>"
            ],
            "image/png": "[encoded data removed]"
          },
          "metadata": {
            "needs_background": "light"
          }
        }
      ]
    },
    {
      "cell_type": "markdown",
      "source": [
        "The confusion matrix gives us insight into which classes its getting \"confused\" on.\n",
        "\n",
        "The majority of the predictions are right down the top left to bottom right diagonal, meaning they're correct.\n",
        "\n",
        "It looks like the model gets most confused on classes like: dog and cat, cat and deer, bird and deer."
      ],
      "metadata": {
        "id": "6AGpfR9TiPSR"
      }
    },
    {
      "cell_type": "markdown",
      "source": [
        "## Classification Report"
      ],
      "metadata": {
        "id": "ckscpVOMidgM"
      }
    },
    {
      "cell_type": "code",
      "source": [
        "from sklearn.metrics import classification_report\n",
        "# Get a dictionary of the classification report\n",
        "classification_report_dict = classification_report(y_labels, pred_classes, output_dict=True)\n",
        "\n",
        "# Create empty dictionary\n",
        "class_f1_scores = {}\n",
        "# Loop through classification report items\n",
        "for k, v in classification_report_dict.items():\n",
        "  if k == \"accuracy\": # stop once we get to accuracy key\n",
        "    break\n",
        "  else:\n",
        "    # Append class names and f1-scores to new dictionary\n",
        "    class_f1_scores[class_names[int(k)]] = v[\"f1-score\"]\n",
        "\n",
        "# Turn f1-scores into dataframe for visualization\n",
        "import pandas as pd\n",
        "f1_scores = pd.DataFrame({\"class_name\": list(class_f1_scores.keys()),\n",
        "                          \"f1-score\": list(class_f1_scores.values())}).sort_values(\"f1-score\", ascending=False)\n",
        "f1_scores"
      ],
      "metadata": {
        "colab": {
          "base_uri": "https://localhost:8080/",
          "height": 363
        },
        "id": "of4c1kyJikOE",
        "outputId": "3a9140df-09c8-401f-a3d3-da9faebfac3b"
      },
      "execution_count": null,
      "outputs": [
        {
          "output_type": "execute_result",
          "data": {
            "text/plain": [
              "   class_name  f1-score\n",
              "6        frog  0.982036\n",
              "8        ship  0.979063\n",
              "1  automobile  0.977556\n",
              "7       horse  0.977000\n",
              "9       truck  0.976977\n",
              "0    airplane  0.976488\n",
              "2        bird  0.966967\n",
              "4        deer  0.962851\n",
              "5         dog  0.942701\n",
              "3         cat  0.926168"
            ],
            "text/html": [
              "\n",
              "  <div id=\"df-7f33e50b-c706-4bec-88fe-d7ec8f33914e\">\n",
              "    <div class=\"colab-df-container\">\n",
              "      <div>\n",
              "<style scoped>\n",
              "    .dataframe tbody tr th:only-of-type {\n",
              "        vertical-align: middle;\n",
              "    }\n",
              "\n",
              "    .dataframe tbody tr th {\n",
              "        vertical-align: top;\n",
              "    }\n",
              "\n",
              "    .dataframe thead th {\n",
              "        text-align: right;\n",
              "    }\n",
              "</style>\n",
              "<table border=\"1\" class=\"dataframe\">\n",
              "  <thead>\n",
              "    <tr style=\"text-align: right;\">\n",
              "      <th></th>\n",
              "      <th>class_name</th>\n",
              "      <th>f1-score</th>\n",
              "    </tr>\n",
              "  </thead>\n",
              "  <tbody>\n",
              "    <tr>\n",
              "      <th>6</th>\n",
              "      <td>frog</td>\n",
              "      <td>0.982036</td>\n",
              "    </tr>\n",
              "    <tr>\n",
              "      <th>8</th>\n",
              "      <td>ship</td>\n",
              "      <td>0.979063</td>\n",
              "    </tr>\n",
              "    <tr>\n",
              "      <th>1</th>\n",
              "      <td>automobile</td>\n",
              "      <td>0.977556</td>\n",
              "    </tr>\n",
              "    <tr>\n",
              "      <th>7</th>\n",
              "      <td>horse</td>\n",
              "      <td>0.977000</td>\n",
              "    </tr>\n",
              "    <tr>\n",
              "      <th>9</th>\n",
              "      <td>truck</td>\n",
              "      <td>0.976977</td>\n",
              "    </tr>\n",
              "    <tr>\n",
              "      <th>0</th>\n",
              "      <td>airplane</td>\n",
              "      <td>0.976488</td>\n",
              "    </tr>\n",
              "    <tr>\n",
              "      <th>2</th>\n",
              "      <td>bird</td>\n",
              "      <td>0.966967</td>\n",
              "    </tr>\n",
              "    <tr>\n",
              "      <th>4</th>\n",
              "      <td>deer</td>\n",
              "      <td>0.962851</td>\n",
              "    </tr>\n",
              "    <tr>\n",
              "      <th>5</th>\n",
              "      <td>dog</td>\n",
              "      <td>0.942701</td>\n",
              "    </tr>\n",
              "    <tr>\n",
              "      <th>3</th>\n",
              "      <td>cat</td>\n",
              "      <td>0.926168</td>\n",
              "    </tr>\n",
              "  </tbody>\n",
              "</table>\n",
              "</div>\n",
              "      <button class=\"colab-df-convert\" onclick=\"convertToInteractive('df-7f33e50b-c706-4bec-88fe-d7ec8f33914e')\"\n",
              "              title=\"Convert this dataframe to an interactive table.\"\n",
              "              style=\"display:none;\">\n",
              "        \n",
              "  <svg xmlns=\"http://www.w3.org/2000/svg\" height=\"24px\"viewBox=\"0 0 24 24\"\n",
              "       width=\"24px\">\n",
              "    <path d=\"M0 0h24v24H0V0z\" fill=\"none\"/>\n",
              "    <path d=\"M18.56 5.44l.94 2.06.94-2.06 2.06-.94-2.06-.94-.94-2.06-.94 2.06-2.06.94zm-11 1L8.5 8.5l.94-2.06 2.06-.94-2.06-.94L8.5 2.5l-.94 2.06-2.06.94zm10 10l.94 2.06.94-2.06 2.06-.94-2.06-.94-.94-2.06-.94 2.06-2.06.94z\"/><path d=\"M17.41 7.96l-1.37-1.37c-.4-.4-.92-.59-1.43-.59-.52 0-1.04.2-1.43.59L10.3 9.45l-7.72 7.72c-.78.78-.78 2.05 0 2.83L4 21.41c.39.39.9.59 1.41.59.51 0 1.02-.2 1.41-.59l7.78-7.78 2.81-2.81c.8-.78.8-2.07 0-2.86zM5.41 20L4 18.59l7.72-7.72 1.47 1.35L5.41 20z\"/>\n",
              "  </svg>\n",
              "      </button>\n",
              "      \n",
              "  <style>\n",
              "    .colab-df-container {\n",
              "      display:flex;\n",
              "      flex-wrap:wrap;\n",
              "      gap: 12px;\n",
              "    }\n",
              "\n",
              "    .colab-df-convert {\n",
              "      background-color: #E8F0FE;\n",
              "      border: none;\n",
              "      border-radius: 50%;\n",
              "      cursor: pointer;\n",
              "      display: none;\n",
              "      fill: #1967D2;\n",
              "      height: 32px;\n",
              "      padding: 0 0 0 0;\n",
              "      width: 32px;\n",
              "    }\n",
              "\n",
              "    .colab-df-convert:hover {\n",
              "      background-color: #E2EBFA;\n",
              "      box-shadow: 0px 1px 2px rgba(60, 64, 67, 0.3), 0px 1px 3px 1px rgba(60, 64, 67, 0.15);\n",
              "      fill: #174EA6;\n",
              "    }\n",
              "\n",
              "    [theme=dark] .colab-df-convert {\n",
              "      background-color: #3B4455;\n",
              "      fill: #D2E3FC;\n",
              "    }\n",
              "\n",
              "    [theme=dark] .colab-df-convert:hover {\n",
              "      background-color: #434B5C;\n",
              "      box-shadow: 0px 1px 3px 1px rgba(0, 0, 0, 0.15);\n",
              "      filter: drop-shadow(0px 1px 2px rgba(0, 0, 0, 0.3));\n",
              "      fill: #FFFFFF;\n",
              "    }\n",
              "  </style>\n",
              "\n",
              "      <script>\n",
              "        const buttonEl =\n",
              "          document.querySelector('#df-7f33e50b-c706-4bec-88fe-d7ec8f33914e button.colab-df-convert');\n",
              "        buttonEl.style.display =\n",
              "          google.colab.kernel.accessAllowed ? 'block' : 'none';\n",
              "\n",
              "        async function convertToInteractive(key) {\n",
              "          const element = document.querySelector('#df-7f33e50b-c706-4bec-88fe-d7ec8f33914e');\n",
              "          const dataTable =\n",
              "            await google.colab.kernel.invokeFunction('convertToInteractive',\n",
              "                                                     [key], {});\n",
              "          if (!dataTable) return;\n",
              "\n",
              "          const docLinkHtml = 'Like what you see? Visit the ' +\n",
              "            '<a target=\"_blank\" href=https://colab.research.google.com/notebooks/data_table.ipynb>data table notebook</a>'\n",
              "            + ' to learn more about interactive tables.';\n",
              "          element.innerHTML = '';\n",
              "          dataTable['output_type'] = 'display_data';\n",
              "          await google.colab.output.renderOutput(dataTable, element);\n",
              "          const docLink = document.createElement('div');\n",
              "          docLink.innerHTML = docLinkHtml;\n",
              "          element.appendChild(docLink);\n",
              "        }\n",
              "      </script>\n",
              "    </div>\n",
              "  </div>\n",
              "  "
            ]
          },
          "metadata": {},
          "execution_count": 29
        }
      ]
    },
    {
      "cell_type": "code",
      "source": [
        "# Nice horizontal bar chart\n",
        "import matplotlib.pyplot as plt\n",
        "\n",
        "fig, ax = plt.subplots(figsize=(10, 15))\n",
        "scores = ax.barh(range(len(f1_scores)), f1_scores[\"f1-score\"].values)\n",
        "ax.set_yticks(range(len(f1_scores)))\n",
        "ax.set_yticklabels(list(f1_scores[\"class_name\"]))\n",
        "ax.set_xlabel(\"f1-score\")\n",
        "ax.set_title(\"F1-Scores for All Classes\")\n",
        "ax.invert_yaxis(); # reverse the order\n",
        "\n",
        "def autolabel(rects): # Modified version of: https://matplotlib.org/examples/api/barchart_demo.html\n",
        "  \"\"\"\n",
        "  Attach a text label above each bar displaying its height (it's value).\n",
        "  \"\"\"\n",
        "  for rect in rects:\n",
        "    width = rect.get_width()\n",
        "    ax.text(1.03*width, rect.get_y() + rect.get_height()/1.5,\n",
        "            f\"{width:.2f}\",\n",
        "            ha='center', va='bottom')\n",
        "\n",
        "autolabel(scores)"
      ],
      "metadata": {
        "colab": {
          "base_uri": "https://localhost:8080/",
          "height": 893
        },
        "id": "pSV0dyUli1sD",
        "outputId": "b5bbc593-1783-4daa-9022-154609aa4962"
      },
      "execution_count": null,
      "outputs": [
        {
          "output_type": "display_data",
          "data": {
            "text/plain": [
              "<Figure size 720x1080 with 1 Axes>"
            ],
            "image/png": "[encoded data removed]"
          },
          "metadata": {
            "needs_background": "light"
          }
        }
      ]
    },
    {
      "cell_type": "markdown",
      "source": [
        "It seems like our model performs fairly poorly on classes like `cat` and `dog` while for classes like `frog` and `ship` the performance is quite outstanding."
      ],
      "metadata": {
        "id": "_JM53TNbjNpz"
      }
    },
    {
      "cell_type": "markdown",
      "source": [
        "## Visualizing Predictions on Test Images"
      ],
      "metadata": {
        "id": "EhB93RUHi850"
      }
    },
    {
      "cell_type": "code",
      "source": [
        "# Retrieve a batch of images from the test set\n",
        "image_batch, label_batch = test_data.as_numpy_iterator().next()\n",
        "\n",
        "plt.figure(figsize=(17, 10))\n",
        "for i in range(9):\n",
        "  ax = plt.subplot(3, 3, i + 1)\n",
        "  plt.imshow(image_batch[i])\n",
        "  plt.title(class_names[pred_classes[i]])\n",
        "  plt.axis(False);"
      ],
      "metadata": {
        "colab": {
          "base_uri": "https://localhost:8080/",
          "height": 591
        },
        "id": "Qa8mYIckzMws",
        "outputId": "df104fd2-27ce-4d31-aa2f-3a3c5a0790c8"
      },
      "execution_count": null,
      "outputs": [
        {
          "output_type": "display_data",
          "data": {
            "text/plain": [
              "<Figure size 1224x720 with 9 Axes>"
            ],
            "image/png": "[encoded data removed]"
          },
          "metadata": {
            "needs_background": "light"
          }
        }
      ]
    },
    {
      "cell_type": "markdown",
      "source": [
        "## Finding the Most Wrong Predictions"
      ],
      "metadata": {
        "id": "EH-5XimKjbUr"
      }
    },
    {
      "cell_type": "code",
      "source": [
        "# Create a dataframe out of current prediction data for analysis\n",
        "import pandas as pd\n",
        "pred_df = pd.DataFrame({\"y_true\": y_labels,\n",
        "                        \"y_pred\": pred_classes,\n",
        "                        \"pred_conf\": pred_probs.max(axis=1), # get the maximum prediction probability value\n",
        "                        \"y_true_classname\": [class_names[i] for i in y_labels],\n",
        "                        \"y_pred_classname\": [class_names[i] for i in pred_classes]}) \n",
        "\n",
        "# Is the prediction correct?\n",
        "pred_df[\"pred_correct\"] = pred_df[\"y_true\"] == pred_df[\"y_pred\"]\n",
        "\n",
        "# Get the top 100 wrong examples\n",
        "top_100_wrong = pred_df[pred_df[\"pred_correct\"] == False].sort_values(\"pred_conf\", ascending=False)[:100]\n",
        "top_100_wrong.head(20)"
      ],
      "metadata": {
        "colab": {
          "base_uri": "https://localhost:8080/",
          "height": 677
        },
        "id": "bHvauoAvjd1b",
        "outputId": "8be1bddc-3105-48e4-8b1f-23703dbb7b9d"
      },
      "execution_count": null,
      "outputs": [
        {
          "output_type": "execute_result",
          "data": {
            "text/plain": [
              "      y_true  y_pred  pred_conf y_true_classname y_pred_classname  \\\n",
              "6060       3       6   1.000000              cat             frog   \n",
              "4888       9       1   1.000000            truck       automobile   \n",
              "8240       5       3   1.000000              dog              cat   \n",
              "1835       4       2   1.000000             deer             bird   \n",
              "5558       1       9   1.000000       automobile            truck   \n",
              "6888       3       5   1.000000              cat              dog   \n",
              "966        1       9   1.000000       automobile            truck   \n",
              "8664       6       3   1.000000             frog              cat   \n",
              "1469       3       5   0.999999              cat              dog   \n",
              "4759       5       3   0.999999              dog              cat   \n",
              "8629       9       1   0.999999            truck       automobile   \n",
              "2387       3       5   0.999999              cat              dog   \n",
              "8829       8       0   0.999998             ship         airplane   \n",
              "590        3       5   0.999997              cat              dog   \n",
              "7114       2       5   0.999996             bird              dog   \n",
              "9388       5       3   0.999993              dog              cat   \n",
              "4976       5       3   0.999992              dog              cat   \n",
              "5256       2       3   0.999983             bird              cat   \n",
              "931        2       3   0.999979             bird              cat   \n",
              "3230       9       1   0.999977            truck       automobile   \n",
              "\n",
              "      pred_correct  \n",
              "6060         False  \n",
              "4888         False  \n",
              "8240         False  \n",
              "1835         False  \n",
              "5558         False  \n",
              "6888         False  \n",
              "966          False  \n",
              "8664         False  \n",
              "1469         False  \n",
              "4759         False  \n",
              "8629         False  \n",
              "2387         False  \n",
              "8829         False  \n",
              "590          False  \n",
              "7114         False  \n",
              "9388         False  \n",
              "4976         False  \n",
              "5256         False  \n",
              "931          False  \n",
              "3230         False  "
            ],
            "text/html": [
              "\n",
              "  <div id=\"df-5a197496-9336-4e20-891a-68fa07058637\">\n",
              "    <div class=\"colab-df-container\">\n",
              "      <div>\n",
              "<style scoped>\n",
              "    .dataframe tbody tr th:only-of-type {\n",
              "        vertical-align: middle;\n",
              "    }\n",
              "\n",
              "    .dataframe tbody tr th {\n",
              "        vertical-align: top;\n",
              "    }\n",
              "\n",
              "    .dataframe thead th {\n",
              "        text-align: right;\n",
              "    }\n",
              "</style>\n",
              "<table border=\"1\" class=\"dataframe\">\n",
              "  <thead>\n",
              "    <tr style=\"text-align: right;\">\n",
              "      <th></th>\n",
              "      <th>y_true</th>\n",
              "      <th>y_pred</th>\n",
              "      <th>pred_conf</th>\n",
              "      <th>y_true_classname</th>\n",
              "      <th>y_pred_classname</th>\n",
              "      <th>pred_correct</th>\n",
              "    </tr>\n",
              "  </thead>\n",
              "  <tbody>\n",
              "    <tr>\n",
              "      <th>6060</th>\n",
              "      <td>3</td>\n",
              "      <td>6</td>\n",
              "      <td>1.000000</td>\n",
              "      <td>cat</td>\n",
              "      <td>frog</td>\n",
              "      <td>False</td>\n",
              "    </tr>\n",
              "    <tr>\n",
              "      <th>4888</th>\n",
              "      <td>9</td>\n",
              "      <td>1</td>\n",
              "      <td>1.000000</td>\n",
              "      <td>truck</td>\n",
              "      <td>automobile</td>\n",
              "      <td>False</td>\n",
              "    </tr>\n",
              "    <tr>\n",
              "      <th>8240</th>\n",
              "      <td>5</td>\n",
              "      <td>3</td>\n",
              "      <td>1.000000</td>\n",
              "      <td>dog</td>\n",
              "      <td>cat</td>\n",
              "      <td>False</td>\n",
              "    </tr>\n",
              "    <tr>\n",
              "      <th>1835</th>\n",
              "      <td>4</td>\n",
              "      <td>2</td>\n",
              "      <td>1.000000</td>\n",
              "      <td>deer</td>\n",
              "      <td>bird</td>\n",
              "      <td>False</td>\n",
              "    </tr>\n",
              "    <tr>\n",
              "      <th>5558</th>\n",
              "      <td>1</td>\n",
              "      <td>9</td>\n",
              "      <td>1.000000</td>\n",
              "      <td>automobile</td>\n",
              "      <td>truck</td>\n",
              "      <td>False</td>\n",
              "    </tr>\n",
              "    <tr>\n",
              "      <th>6888</th>\n",
              "      <td>3</td>\n",
              "      <td>5</td>\n",
              "      <td>1.000000</td>\n",
              "      <td>cat</td>\n",
              "      <td>dog</td>\n",
              "      <td>False</td>\n",
              "    </tr>\n",
              "    <tr>\n",
              "      <th>966</th>\n",
              "      <td>1</td>\n",
              "      <td>9</td>\n",
              "      <td>1.000000</td>\n",
              "      <td>automobile</td>\n",
              "      <td>truck</td>\n",
              "      <td>False</td>\n",
              "    </tr>\n",
              "    <tr>\n",
              "      <th>8664</th>\n",
              "      <td>6</td>\n",
              "      <td>3</td>\n",
              "      <td>1.000000</td>\n",
              "      <td>frog</td>\n",
              "      <td>cat</td>\n",
              "      <td>False</td>\n",
              "    </tr>\n",
              "    <tr>\n",
              "      <th>1469</th>\n",
              "      <td>3</td>\n",
              "      <td>5</td>\n",
              "      <td>0.999999</td>\n",
              "      <td>cat</td>\n",
              "      <td>dog</td>\n",
              "      <td>False</td>\n",
              "    </tr>\n",
              "    <tr>\n",
              "      <th>4759</th>\n",
              "      <td>5</td>\n",
              "      <td>3</td>\n",
              "      <td>0.999999</td>\n",
              "      <td>dog</td>\n",
              "      <td>cat</td>\n",
              "      <td>False</td>\n",
              "    </tr>\n",
              "    <tr>\n",
              "      <th>8629</th>\n",
              "      <td>9</td>\n",
              "      <td>1</td>\n",
              "      <td>0.999999</td>\n",
              "      <td>truck</td>\n",
              "      <td>automobile</td>\n",
              "      <td>False</td>\n",
              "    </tr>\n",
              "    <tr>\n",
              "      <th>2387</th>\n",
              "      <td>3</td>\n",
              "      <td>5</td>\n",
              "      <td>0.999999</td>\n",
              "      <td>cat</td>\n",
              "      <td>dog</td>\n",
              "      <td>False</td>\n",
              "    </tr>\n",
              "    <tr>\n",
              "      <th>8829</th>\n",
              "      <td>8</td>\n",
              "      <td>0</td>\n",
              "      <td>0.999998</td>\n",
              "      <td>ship</td>\n",
              "      <td>airplane</td>\n",
              "      <td>False</td>\n",
              "    </tr>\n",
              "    <tr>\n",
              "      <th>590</th>\n",
              "      <td>3</td>\n",
              "      <td>5</td>\n",
              "      <td>0.999997</td>\n",
              "      <td>cat</td>\n",
              "      <td>dog</td>\n",
              "      <td>False</td>\n",
              "    </tr>\n",
              "    <tr>\n",
              "      <th>7114</th>\n",
              "      <td>2</td>\n",
              "      <td>5</td>\n",
              "      <td>0.999996</td>\n",
              "      <td>bird</td>\n",
              "      <td>dog</td>\n",
              "      <td>False</td>\n",
              "    </tr>\n",
              "    <tr>\n",
              "      <th>9388</th>\n",
              "      <td>5</td>\n",
              "      <td>3</td>\n",
              "      <td>0.999993</td>\n",
              "      <td>dog</td>\n",
              "      <td>cat</td>\n",
              "      <td>False</td>\n",
              "    </tr>\n",
              "    <tr>\n",
              "      <th>4976</th>\n",
              "      <td>5</td>\n",
              "      <td>3</td>\n",
              "      <td>0.999992</td>\n",
              "      <td>dog</td>\n",
              "      <td>cat</td>\n",
              "      <td>False</td>\n",
              "    </tr>\n",
              "    <tr>\n",
              "      <th>5256</th>\n",
              "      <td>2</td>\n",
              "      <td>3</td>\n",
              "      <td>0.999983</td>\n",
              "      <td>bird</td>\n",
              "      <td>cat</td>\n",
              "      <td>False</td>\n",
              "    </tr>\n",
              "    <tr>\n",
              "      <th>931</th>\n",
              "      <td>2</td>\n",
              "      <td>3</td>\n",
              "      <td>0.999979</td>\n",
              "      <td>bird</td>\n",
              "      <td>cat</td>\n",
              "      <td>False</td>\n",
              "    </tr>\n",
              "    <tr>\n",
              "      <th>3230</th>\n",
              "      <td>9</td>\n",
              "      <td>1</td>\n",
              "      <td>0.999977</td>\n",
              "      <td>truck</td>\n",
              "      <td>automobile</td>\n",
              "      <td>False</td>\n",
              "    </tr>\n",
              "  </tbody>\n",
              "</table>\n",
              "</div>\n",
              "      <button class=\"colab-df-convert\" onclick=\"convertToInteractive('df-5a197496-9336-4e20-891a-68fa07058637')\"\n",
              "              title=\"Convert this dataframe to an interactive table.\"\n",
              "              style=\"display:none;\">\n",
              "        \n",
              "  <svg xmlns=\"http://www.w3.org/2000/svg\" height=\"24px\"viewBox=\"0 0 24 24\"\n",
              "       width=\"24px\">\n",
              "    <path d=\"M0 0h24v24H0V0z\" fill=\"none\"/>\n",
              "    <path d=\"M18.56 5.44l.94 2.06.94-2.06 2.06-.94-2.06-.94-.94-2.06-.94 2.06-2.06.94zm-11 1L8.5 8.5l.94-2.06 2.06-.94-2.06-.94L8.5 2.5l-.94 2.06-2.06.94zm10 10l.94 2.06.94-2.06 2.06-.94-2.06-.94-.94-2.06-.94 2.06-2.06.94z\"/><path d=\"M17.41 7.96l-1.37-1.37c-.4-.4-.92-.59-1.43-.59-.52 0-1.04.2-1.43.59L10.3 9.45l-7.72 7.72c-.78.78-.78 2.05 0 2.83L4 21.41c.39.39.9.59 1.41.59.51 0 1.02-.2 1.41-.59l7.78-7.78 2.81-2.81c.8-.78.8-2.07 0-2.86zM5.41 20L4 18.59l7.72-7.72 1.47 1.35L5.41 20z\"/>\n",
              "  </svg>\n",
              "      </button>\n",
              "      \n",
              "  <style>\n",
              "    .colab-df-container {\n",
              "      display:flex;\n",
              "      flex-wrap:wrap;\n",
              "      gap: 12px;\n",
              "    }\n",
              "\n",
              "    .colab-df-convert {\n",
              "      background-color: #E8F0FE;\n",
              "      border: none;\n",
              "      border-radius: 50%;\n",
              "      cursor: pointer;\n",
              "      display: none;\n",
              "      fill: #1967D2;\n",
              "      height: 32px;\n",
              "      padding: 0 0 0 0;\n",
              "      width: 32px;\n",
              "    }\n",
              "\n",
              "    .colab-df-convert:hover {\n",
              "      background-color: #E2EBFA;\n",
              "      box-shadow: 0px 1px 2px rgba(60, 64, 67, 0.3), 0px 1px 3px 1px rgba(60, 64, 67, 0.15);\n",
              "      fill: #174EA6;\n",
              "    }\n",
              "\n",
              "    [theme=dark] .colab-df-convert {\n",
              "      background-color: #3B4455;\n",
              "      fill: #D2E3FC;\n",
              "    }\n",
              "\n",
              "    [theme=dark] .colab-df-convert:hover {\n",
              "      background-color: #434B5C;\n",
              "      box-shadow: 0px 1px 3px 1px rgba(0, 0, 0, 0.15);\n",
              "      filter: drop-shadow(0px 1px 2px rgba(0, 0, 0, 0.3));\n",
              "      fill: #FFFFFF;\n",
              "    }\n",
              "  </style>\n",
              "\n",
              "      <script>\n",
              "        const buttonEl =\n",
              "          document.querySelector('#df-5a197496-9336-4e20-891a-68fa07058637 button.colab-df-convert');\n",
              "        buttonEl.style.display =\n",
              "          google.colab.kernel.accessAllowed ? 'block' : 'none';\n",
              "\n",
              "        async function convertToInteractive(key) {\n",
              "          const element = document.querySelector('#df-5a197496-9336-4e20-891a-68fa07058637');\n",
              "          const dataTable =\n",
              "            await google.colab.kernel.invokeFunction('convertToInteractive',\n",
              "                                                     [key], {});\n",
              "          if (!dataTable) return;\n",
              "\n",
              "          const docLinkHtml = 'Like what you see? Visit the ' +\n",
              "            '<a target=\"_blank\" href=https://colab.research.google.com/notebooks/data_table.ipynb>data table notebook</a>'\n",
              "            + ' to learn more about interactive tables.';\n",
              "          element.innerHTML = '';\n",
              "          dataTable['output_type'] = 'display_data';\n",
              "          await google.colab.output.renderOutput(dataTable, element);\n",
              "          const docLink = document.createElement('div');\n",
              "          docLink.innerHTML = docLinkHtml;\n",
              "          element.appendChild(docLink);\n",
              "        }\n",
              "      </script>\n",
              "    </div>\n",
              "  </div>\n",
              "  "
            ]
          },
          "metadata": {},
          "execution_count": 35
        }
      ]
    }
  ]
}